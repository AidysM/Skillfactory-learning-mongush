{
 "cells": [
  {
   "cell_type": "code",
   "execution_count": 1,
   "id": "a63997ba-cf07-4e7a-a08a-ab314e8da815",
   "metadata": {},
   "outputs": [
    {
     "name": "stdout",
     "output_type": "stream",
     "text": [
      "Hello\n",
      "Hello\n"
     ]
    }
   ],
   "source": [
    "def twice_func(inside_func):\n",
    "   \"\"\"Функция, выполняющая дважды функцию принятую в качестве аргумента\"\"\"\n",
    "   inside_func()\n",
    "   inside_func()\n",
    "\n",
    "def hello():\n",
    "   print(\"Hello\")\n",
    "  \n",
    "test = twice_func(hello)\n",
    "# Hello\n",
    "# Hello"
   ]
  },
  {
   "cell_type": "code",
   "execution_count": 2,
   "id": "e7685ffd-a04a-4b0f-873e-bef726cc2572",
   "metadata": {},
   "outputs": [
    {
     "name": "stdout",
     "output_type": "stream",
     "text": [
      "15\n",
      "105\n"
     ]
    }
   ],
   "source": [
    "def make_adder(x):\n",
    "   def adder(n):\n",
    "       return x + n # захват переменной \"x\" из nonlocal области\n",
    "   return adder  # возвращение функции в качестве результата\n",
    "\n",
    "# функция, которая будет к любому числу прибавлять пятёрку\n",
    "add_5 = make_adder(5)\n",
    "print(add_5(10))  # 15\n",
    "print(add_5(100))  # 105"
   ]
  },
  {
   "cell_type": "code",
   "execution_count": 4,
   "id": "161b4a6c-2da7-419e-8bc0-fee2e7b2b810",
   "metadata": {},
   "outputs": [
    {
     "name": "stdout",
     "output_type": "stream",
     "text": [
      "Я - оборачиваемая функция!\n",
      "0\n",
      "Я буду выполнен до основного вызова!\n",
      "Я - оборачиваемая функция!\n",
      "Я буду выполнен после основного вызова!\n",
      "0\n"
     ]
    }
   ],
   "source": [
    "def my_decorator(a_function_to_decorate):\n",
    "    # Здесь мы определяем новую функцию - «обертку». Она нам нужна, чтобы выполнять\n",
    "    # каждый раз при вызове оригинальной функции, а не только один раз\n",
    "    def wrapper():\n",
    "        # здесь поместим код, которые будет выполняться до вызова, потом вызов\n",
    "        # оригинальной функции, потом код после вызова\n",
    "        print(\"Я буду выполнен до основного вызова!\")\n",
    "        \n",
    "        result = a_function_to_decorate()  # не забываем вернуть значение исходной функции\n",
    "        \n",
    "        print(\"Я буду выполнен после основного вызова!\")\n",
    "        return result\n",
    "    return wrapper\n",
    "\n",
    "def my_function():\n",
    "   print(\"Я - оборачиваемая функция!\")\n",
    "   return 0\n",
    "\n",
    "print(my_function())\n",
    "# Я - оборачиваемая функция!\n",
    "# 0\n",
    "\n",
    "decorated_function = my_decorator(my_function)  # декорирование функции\n",
    "print(decorated_function())\n",
    "# Я буду выполнен до основного вызова!\n",
    "# Я - оборачиваемая функция!\n",
    "# Я буду выполнен после основного вызова!\n",
    "# 0"
   ]
  },
  {
   "cell_type": "code",
   "execution_count": 5,
   "id": "1acc452e-14c4-4b1e-b66a-8d6a93348a9e",
   "metadata": {},
   "outputs": [
    {
     "name": "stdout",
     "output_type": "stream",
     "text": [
      "Запустилась функция <function pow_2 at 0x7fdc701c9c10>\n",
      "Функция выполнилась. Время: 0.0000011921\n",
      "Запустилась функция <function in_build_pow at 0x7fdc701c9b80>\n",
      "Функция выполнилась. Время: 0.0000021458\n"
     ]
    },
    {
     "data": {
      "text/plain": [
       "2.1457672119140625e-06"
      ]
     },
     "execution_count": 5,
     "metadata": {},
     "output_type": "execute_result"
    }
   ],
   "source": [
    "import time\n",
    "\n",
    "\n",
    "def decorator_time(fn):\n",
    "   def wrapper():\n",
    "       print(f\"Запустилась функция {fn}\")\n",
    "       t0 = time.time()\n",
    "       result = fn()\n",
    "       dt = time.time() - t0\n",
    "       print(f\"Функция выполнилась. Время: {dt:.10f}\")\n",
    "       return dt  # задекорированная функция будет возвращать время работы\n",
    "   return wrapper\n",
    "\n",
    "\n",
    "def pow_2():\n",
    "   return 10000000 ** 2\n",
    "\n",
    "\n",
    "def in_build_pow():\n",
    "   return pow(10000000, 2)\n",
    "\n",
    "\n",
    "pow_2 = decorator_time(pow_2)\n",
    "in_build_pow = decorator_time(in_build_pow)\n",
    "\n",
    "pow_2()\n",
    "# Запустилась функция <function pow_2 at 0x7f938401b158>\n",
    "# Функция выполнилась. Время: 0.0000011921\n",
    "\n",
    "in_build_pow()\n",
    "# Запустилась функция <function in_build_pow at 0x7f938401b620>\n",
    "# Функция выполнилась. Время: 0.0000021458"
   ]
  },
  {
   "cell_type": "code",
   "execution_count": 9,
   "id": "1980d502-7cef-4ca7-ade1-440aee80d852",
   "metadata": {},
   "outputs": [
    {
     "name": "stdout",
     "output_type": "stream",
     "text": [
      "Функция <function decorator_time.<locals>.wrapper at 0x7fdc701c9a60> выполнялась 100 раз. Среднее время: 0.0000002265\n",
      "Функция <function decorator_time.<locals>.wrapper at 0x7fdc701c9b80> выполнялась 100 раз. Среднее время: 0.0000005174\n"
     ]
    }
   ],
   "source": [
    "import time\n",
    "\n",
    "N = 100\n",
    "\n",
    "\n",
    "def decorator_time(fn):\n",
    "   def wrapper():\n",
    "       t0 = time.time()\n",
    "       result = fn()\n",
    "       dt = time.time() - t0\n",
    "       return dt\n",
    "   return wrapper\n",
    "\n",
    "\n",
    "def pow_2():\n",
    "   return 10000000 ** 2\n",
    "\n",
    "\n",
    "def in_build_pow():\n",
    "   return pow(10000000, 2)\n",
    "\n",
    "\n",
    "pow_2 = decorator_time(pow_2)\n",
    "in_build_pow = decorator_time(in_build_pow)\n",
    "\n",
    "mean_pow_2 = 0\n",
    "mean_in_build_pow = 0\n",
    "for _ in range(N):\n",
    "   mean_pow_2 += pow_2()\n",
    "   mean_in_build_pow += in_build_pow()\n",
    "\n",
    "print(f\"Функция {pow_2} выполнялась {N} раз. Среднее время: {mean_pow_2 / N:.10f}\")\n",
    "print(f\"Функция {in_build_pow} выполнялась {N} раз. Среднее время: {mean_in_build_pow / N:.10f}\")"
   ]
  },
  {
   "cell_type": "code",
   "execution_count": 10,
   "id": "541e42a6-3c12-4213-9d7b-52394628121c",
   "metadata": {},
   "outputs": [
    {
     "name": "stdout",
     "output_type": "stream",
     "text": [
      "<function my_function at 0x7fdc701c9310>\n",
      "<function my_decorator.<locals>.wrapper at 0x7fdc701fb0d0>\n"
     ]
    }
   ],
   "source": [
    "def my_decorator(fn):\n",
    "   def wrapper():\n",
    "       fn()\n",
    "   return wrapper  # возвращается задекорированная функция, которая заменяет исходную\n",
    "\n",
    "# выведем незадерорированную функцию\n",
    "def my_function():\n",
    "   pass\n",
    "print(my_function)  # <function my_function at 0x7f938401ba60>\n",
    "\n",
    "# выведем задерорированную функцию\n",
    "@my_decorator\n",
    "def my_function():\n",
    "   pass\n",
    "print(my_function)  # <function my_decorator.<locals>.wrapper at 0x7f93837059d8>"
   ]
  },
  {
   "cell_type": "markdown",
   "id": "ef9c0bb8-3a61-43d7-ad3b-4d44f7cd686e",
   "metadata": {},
   "source": [
    "Передача аргументов в декорируемую функцию"
   ]
  },
  {
   "cell_type": "code",
   "execution_count": 11,
   "id": "8736dbb0-098f-4a64-a9f2-0f1eb8a34616",
   "metadata": {},
   "outputs": [
    {
     "ename": "TypeError",
     "evalue": "wrapper() takes 0 positional arguments but 1 was given",
     "output_type": "error",
     "traceback": [
      "\u001b[0;31m---------------------------------------------------------------------------\u001b[0m",
      "\u001b[0;31mTypeError\u001b[0m                                 Traceback (most recent call last)",
      "\u001b[0;32m<ipython-input-11-22f4f0d6a2d4>\u001b[0m in \u001b[0;36m<module>\u001b[0;34m\u001b[0m\n\u001b[1;32m      9\u001b[0m     \u001b[0mprint\u001b[0m\u001b[0;34m(\u001b[0m\u001b[0mword\u001b[0m\u001b[0;34m)\u001b[0m\u001b[0;34m\u001b[0m\u001b[0;34m\u001b[0m\u001b[0m\n\u001b[1;32m     10\u001b[0m \u001b[0;34m\u001b[0m\u001b[0m\n\u001b[0;32m---> 11\u001b[0;31m \u001b[0msay_word\u001b[0m\u001b[0;34m(\u001b[0m\u001b[0;34m\"Oo!!!\"\u001b[0m\u001b[0;34m)\u001b[0m\u001b[0;34m\u001b[0m\u001b[0;34m\u001b[0m\u001b[0m\n\u001b[0m",
      "\u001b[0;31mTypeError\u001b[0m: wrapper() takes 0 positional arguments but 1 was given"
     ]
    }
   ],
   "source": [
    "def do_it_twice(func):\n",
    "    def wrapper():\n",
    "        func(arg)\n",
    "        func(arg)\n",
    "    return wrapper\n",
    "\n",
    "@do_it_twice\n",
    "def say_word(word):\n",
    "    print(word)\n",
    "\n",
    "say_word(\"Oo!!!\")"
   ]
  },
  {
   "cell_type": "code",
   "execution_count": 12,
   "id": "996fb6c4-2dea-4377-b5c4-5169370827eb",
   "metadata": {},
   "outputs": [
    {
     "name": "stdout",
     "output_type": "stream",
     "text": [
      "Oo!!!\n",
      "Oo!!!\n"
     ]
    }
   ],
   "source": [
    "# декоратор, в котором встроенная функция умеет принимать аргументы\n",
    "def do_it_twice(func):\n",
    "   def wrapper(*args, **kwargs):\n",
    "       func(*args, **kwargs)\n",
    "       func(*args, **kwargs)\n",
    "   return wrapper\n",
    "\n",
    "@do_it_twice\n",
    "def say_word(word):\n",
    "   print(word)\n",
    "\n",
    "say_word(\"Oo!!!\")\n",
    "# Oo!!!\n",
    "# Oo!!!"
   ]
  },
  {
   "cell_type": "markdown",
   "id": "e0d787ac-13b8-4e87-a8c5-7faa8d1f99ea",
   "metadata": {},
   "source": [
    "Универсальный шаблон для декоратора:"
   ]
  },
  {
   "cell_type": "code",
   "execution_count": 13,
   "id": "cee265c5-ae6c-44fb-8884-9400088b0f8d",
   "metadata": {},
   "outputs": [],
   "source": [
    "def my_decorator(fn):\n",
    "    print(\"Этот код будет выведен один раз в момент декорирования функции\")\n",
    "    def wrapper(*args, **kwargs):\n",
    "        print('Этот код будет выполняться перед каждым вызовом функции')\n",
    "        result = fn(*args, **kwargs)\n",
    "        print('Этот код будет выполняться после каждого вызова функции')\n",
    "        return result\n",
    "    return wrapper"
   ]
  },
  {
   "cell_type": "markdown",
   "id": "d66f1631-eb74-41a5-8250-74272c6dedd1",
   "metadata": {},
   "source": [
    "Задание 4.5.2\n",
    "Напишите декоратор, который будет подсчитывать количество вызовов декорируемой функции. Для хранения переменной содержащей, количество вызовов, используйте nonlocal область декоратора."
   ]
  },
  {
   "cell_type": "code",
   "execution_count": 14,
   "id": "a188232a-a6df-4fde-bbd7-d23cad373bed",
   "metadata": {},
   "outputs": [
    {
     "name": "stdout",
     "output_type": "stream",
     "text": [
      "Oo!!!\n",
      "Функция <function say_word at 0x7fdc70160940> была вызвана 1 раз\n",
      "Oo!!!\n",
      "Функция <function say_word at 0x7fdc70160940> была вызвана 2 раз\n"
     ]
    }
   ],
   "source": [
    "def counter(func):\n",
    "   count = 0\n",
    "   def wrapper(*args, **kwargs):\n",
    "       nonlocal count\n",
    "       func(*args, **kwargs)\n",
    "       count += 1\n",
    "       print(f\"Функция {func} была вызвана {count} раз\")\n",
    "   return wrapper\n",
    "\n",
    "@counter\n",
    "def say_word(word):\n",
    "   print(word)\n",
    "\n",
    "say_word(\"Oo!!!\")\n",
    "# Oo!!!\n",
    "# Функция <function say_word at 0x7f93836d47b8> была вызвана 1 раз\n",
    "\n",
    "say_word(\"Oo!!!\")\n",
    "# Oo!!!\n",
    "# Функция <function say_word at 0x7f93836d47b8> была вызвана 2 раз"
   ]
  },
  {
   "cell_type": "markdown",
   "id": "2c6a90c7-74b9-41a1-85b4-e3e409de93b6",
   "metadata": {},
   "source": [
    "Задание 4.5.3\n",
    "Напишите декоратор, который будет сохранять результаты выполнения декорируемой функции в словаре. Словарь должен находиться в nonlocal области в следующем формате: по ключу располагается аргумент функции, по значению результат работы функции, например, {n: f(n)}.\n",
    "И при повторном вызове функции будет брать значение из словаря, а не вычислять заново. То есть словарь можно считать промежуточной памятью на время работы программы, где будут храниться ранее вычисленные значения. Исходная функция, которую нужно задекорировать имеет следующий вид и выполняет простое умножение на число 123456789.:\n",
    "def f(n):\n",
    "   return n * 123456789"
   ]
  },
  {
   "cell_type": "code",
   "execution_count": 18,
   "id": "711ad1ab-eb65-4de4-9951-725be5c37d6a",
   "metadata": {},
   "outputs": [
    {
     "name": "stdout",
     "output_type": "stream",
     "text": [
      "Добавление результата в кэш: 123456789\n",
      "Кэш {1: 123456789}\n",
      "Добавление результата в кэш: 246913578\n",
      "Кэш {1: 123456789, 2: 246913578}\n",
      "Возвращение результата из кэша: 123456789\n",
      "Кэш {1: 123456789, 2: 246913578}\n"
     ]
    },
    {
     "data": {
      "text/plain": [
       "123456789"
      ]
     },
     "execution_count": 18,
     "metadata": {},
     "output_type": "execute_result"
    }
   ],
   "source": [
    "def cache(func):\n",
    "   cache_dict = {}\n",
    "   def wrapper(num):\n",
    "       nonlocal cache_dict\n",
    "       if num not in cache_dict:\n",
    "           cache_dict[num] = func(num)\n",
    "           print(f\"Добавление результата в кэш: {cache_dict[num]}\")\n",
    "       else:\n",
    "           print(f\"Возвращение результата из кэша: {cache_dict[num]}\")\n",
    "       print(f\"Кэш {cache_dict}\")\n",
    "       return cache_dict[num]\n",
    "   return wrapper\n",
    "\n",
    "@cache\n",
    "def f(n):\n",
    "    return n*123456789\n",
    "\n",
    "f(1)\n",
    "f(2)\n",
    "f(1)"
   ]
  },
  {
   "cell_type": "code",
   "execution_count": null,
   "id": "c329b119-16e5-4bf9-8920-e560daf43424",
   "metadata": {},
   "outputs": [],
   "source": []
  }
 ],
 "metadata": {
  "kernelspec": {
   "display_name": "Python 3",
   "language": "python",
   "name": "python3"
  },
  "language_info": {
   "codemirror_mode": {
    "name": "ipython",
    "version": 3
   },
   "file_extension": ".py",
   "mimetype": "text/x-python",
   "name": "python",
   "nbconvert_exporter": "python",
   "pygments_lexer": "ipython3",
   "version": "3.8.5"
  }
 },
 "nbformat": 4,
 "nbformat_minor": 5
}
