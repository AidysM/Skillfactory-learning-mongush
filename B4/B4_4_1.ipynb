{
 "cells": [
  {
   "cell_type": "code",
   "execution_count": null,
   "id": "b9c6dde0-94ef-4392-878a-8bf7209dd553",
   "metadata": {},
   "outputs": [],
   "source": [
    "def natur():\n",
    "    a = 1\n",
    "    yield a\n",
    "    \n",
    "    while True:\n",
    "        a += 1\n",
    "        yield a\n",
    "        \n",
    "for num in natur():\n",
    "    print(num)\n",
    "    "
   ]
  },
  {
   "cell_type": "code",
   "execution_count": null,
   "id": "6cf64299-802f-46ab-8589-4eb623928617",
   "metadata": {},
   "outputs": [],
   "source": [
    "def count(start=1, step=1):\n",
    "    counter = start\n",
    "    while True:\n",
    "        yield counter\n",
    "        counter += step\n",
    "        \n"
   ]
  },
  {
   "cell_type": "code",
   "execution_count": null,
   "id": "4f60a076-2da1-47a2-a921-6f2b33c2392b",
   "metadata": {},
   "outputs": [],
   "source": [
    "def repeat_list(list_):\n",
    "   list_values = list_.copy()\n",
    "   while True:\n",
    "       value = list_values.pop(0)\n",
    "       list_values.append(value)\n",
    "       yield value\n",
    "\n",
    "for i in repeat_list([1, 2, 3]):\n",
    "   print(i)"
   ]
  },
  {
   "cell_type": "markdown",
   "id": "2c5ecb6a-68f1-44ab-aa65-eb64e4183556",
   "metadata": {},
   "source": [
    "Итераторы"
   ]
  },
  {
   "cell_type": "code",
   "execution_count": 1,
   "id": "842b6fdc-61ac-49bc-ab29-298a970346f4",
   "metadata": {},
   "outputs": [
    {
     "name": "stdout",
     "output_type": "stream",
     "text": [
      "<class 'str'>\n",
      "<class 'str_iterator'>\n"
     ]
    }
   ],
   "source": [
    "# для примера возьмём строку\n",
    "str_ = \"my tst\"\n",
    "str_iter = iter(str_)\n",
    "\n",
    "print(type(str_))  # строка\n",
    "print(type(str_iter))  # итератор строки\n",
    "\n"
   ]
  },
  {
   "cell_type": "code",
   "execution_count": 2,
   "id": "67f29419-8379-468f-865b-13ce2dee7ab1",
   "metadata": {},
   "outputs": [
    {
     "name": "stdout",
     "output_type": "stream",
     "text": [
      "m\n",
      "y\n",
      " \n",
      "t\n",
      "s\n",
      "t\n"
     ]
    }
   ],
   "source": [
    "# Получим первый элемент строки\n",
    "print(next(str_iter))  # m\n",
    "\n",
    "# Получим ещё несколько элементов последовательности\n",
    "print(next(str_iter))  # y\n",
    "print(next(str_iter))  #\n",
    "print(next(str_iter))  # t\n",
    "print(next(str_iter))  # s\n",
    "print(next(str_iter))  # t"
   ]
  },
  {
   "cell_type": "code",
   "execution_count": 3,
   "id": "9817fe89-efb5-4538-a42d-ca4d79585b37",
   "metadata": {},
   "outputs": [
    {
     "ename": "StopIteration",
     "evalue": "",
     "output_type": "error",
     "traceback": [
      "\u001b[0;31m---------------------------------------------------------------------------\u001b[0m",
      "\u001b[0;31mStopIteration\u001b[0m                             Traceback (most recent call last)",
      "\u001b[0;32m<ipython-input-3-124ff1f7eb56>\u001b[0m in \u001b[0;36m<module>\u001b[0;34m\u001b[0m\n\u001b[1;32m      1\u001b[0m \u001b[0;31m# Проверить, что будет происходить после окончания последовательности\u001b[0m\u001b[0;34m\u001b[0m\u001b[0;34m\u001b[0m\u001b[0;34m\u001b[0m\u001b[0m\n\u001b[0;32m----> 2\u001b[0;31m \u001b[0mprint\u001b[0m\u001b[0;34m(\u001b[0m\u001b[0mnext\u001b[0m\u001b[0;34m(\u001b[0m\u001b[0mstr_iter\u001b[0m\u001b[0;34m)\u001b[0m\u001b[0;34m)\u001b[0m\u001b[0;34m\u001b[0m\u001b[0;34m\u001b[0m\u001b[0m\n\u001b[0m",
      "\u001b[0;31mStopIteration\u001b[0m: "
     ]
    }
   ],
   "source": [
    "# Проверить, что будет происходить после окончания последовательности\n",
    "print(next(str_iter))"
   ]
  },
  {
   "cell_type": "code",
   "execution_count": null,
   "id": "28f27616-a659-4524-91da-d7aa8831492f",
   "metadata": {},
   "outputs": [],
   "source": []
  }
 ],
 "metadata": {
  "kernelspec": {
   "display_name": "Python 3",
   "language": "python",
   "name": "python3"
  },
  "language_info": {
   "codemirror_mode": {
    "name": "ipython",
    "version": 3
   },
   "file_extension": ".py",
   "mimetype": "text/x-python",
   "name": "python",
   "nbconvert_exporter": "python",
   "pygments_lexer": "ipython3",
   "version": "3.8.5"
  }
 },
 "nbformat": 4,
 "nbformat_minor": 5
}
