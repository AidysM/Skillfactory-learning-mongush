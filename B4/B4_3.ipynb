{
 "cells": [
  {
   "cell_type": "code",
   "execution_count": 3,
   "id": "80886c51-9e84-444e-a526-f3c6d24d79cc",
   "metadata": {},
   "outputs": [
    {
     "data": {
      "text/plain": [
       "48"
      ]
     },
     "execution_count": 3,
     "metadata": {},
     "output_type": "execute_result"
    }
   ],
   "source": [
    "def umn(*nums):\n",
    "    p = 1\n",
    "    for n in nums:\n",
    "        p *= n\n",
    "        \n",
    "    return p\n",
    "\n",
    "umn()\n",
    "umn(2, 4, 6)"
   ]
  },
  {
   "cell_type": "code",
   "execution_count": 4,
   "id": "fd52c6df-d93a-4c67-8006-ff6551f3fbec",
   "metadata": {},
   "outputs": [
    {
     "name": "stdout",
     "output_type": "stream",
     "text": [
      "Аргумент до изменения []\n",
      "Аргумент после изменения [1]\n",
      "-----\n",
      "Аргумент до изменения []\n",
      "Аргумент после изменения [1]\n",
      "-----\n",
      "Аргумент до изменения [123]\n",
      "Аргумент после изменения [123, 1]\n",
      "-----\n",
      "Аргумент до изменения [123]\n",
      "Аргумент после изменения [123, 1]\n"
     ]
    }
   ],
   "source": [
    "# установим аргумент name_arg пустым а внутри функции будем проверять его\n",
    "def correct_func(name_arg=None):\n",
    "   if name_arg is None:\n",
    "       name_arg = []\n",
    "   print(\"Аргумент до изменения\", name_arg)\n",
    "   name_arg.append(1)\n",
    "   print(\"Аргумент после изменения\", name_arg)\n",
    "\n",
    "# вызовем два раза одну и ту же функцию\n",
    "correct_func()\n",
    "print('-----')\n",
    "correct_func()\n",
    "print('-----')\n",
    "correct_func([123])\n",
    "print('-----')\n",
    "correct_func(name_arg=[123])"
   ]
  },
  {
   "cell_type": "code",
   "execution_count": 5,
   "id": "1d801d2a-813a-4baa-9d60-634cca4dc483",
   "metadata": {},
   "outputs": [
    {
     "data": {
      "text/plain": [
       "6"
      ]
     },
     "execution_count": 5,
     "metadata": {},
     "output_type": "execute_result"
    }
   ],
   "source": [
    "def fact(n):\n",
    "    if n == 1:       #терминальный случай\n",
    "        return 1\n",
    "    return n * fact(n-1)  #рекурсивный вызов\n",
    "\n",
    "fact(3)"
   ]
  },
  {
   "cell_type": "code",
   "execution_count": 6,
   "id": "833fdd01-0ed0-4041-b7cf-ca2358e3597f",
   "metadata": {},
   "outputs": [
    {
     "data": {
      "text/plain": [
       "55"
      ]
     },
     "execution_count": 6,
     "metadata": {},
     "output_type": "execute_result"
    }
   ],
   "source": [
    "def rec_Fibb(n):\n",
    "    if n == 1:\n",
    "        return 1\n",
    "    if n == 2:\n",
    "        return 1\n",
    "    return rec_Fibb(n-1) + rec_Fibb(n-2)\n",
    "    \n",
    "rec_Fibb(10)"
   ]
  },
  {
   "cell_type": "code",
   "execution_count": 7,
   "id": "ea22272a-6830-4c7f-b630-e404bb1995cc",
   "metadata": {},
   "outputs": [
    {
     "data": {
      "text/plain": [
       "10"
      ]
     },
     "execution_count": 7,
     "metadata": {},
     "output_type": "execute_result"
    }
   ],
   "source": [
    "def sum(n):\n",
    "    if n == 1:\n",
    "        return 1\n",
    "    return n + sum(n-1)\n",
    "\n",
    "sum(4)"
   ]
  },
  {
   "cell_type": "code",
   "execution_count": 8,
   "id": "6b4149ee-37e3-403e-a644-f701709962ee",
   "metadata": {},
   "outputs": [
    {
     "data": {
      "text/plain": [
       "'tset'"
      ]
     },
     "execution_count": 8,
     "metadata": {},
     "output_type": "execute_result"
    }
   ],
   "source": [
    "def reverse_str(string):\n",
    "   if len(string) == 0:\n",
    "       return ''\n",
    "   else:\n",
    "       return string[-1] + reverse_str(string[:-1])\n",
    "\n",
    "reverse_str('test')  # tset"
   ]
  },
  {
   "cell_type": "code",
   "execution_count": 9,
   "id": "794d6ea4-0719-4bdd-be50-fb2f7244c975",
   "metadata": {},
   "outputs": [
    {
     "data": {
      "text/plain": [
       "6"
      ]
     },
     "execution_count": 9,
     "metadata": {},
     "output_type": "execute_result"
    }
   ],
   "source": [
    "def sum_digit(n):\n",
    "   if n < 10:\n",
    "       return n\n",
    "   else:\n",
    "       return n % 10 + sum_digit(n // 10)\n",
    "\n",
    "sum_digit(123)  # 6"
   ]
  },
  {
   "cell_type": "code",
   "execution_count": null,
   "id": "9379edaa-97d3-40b1-b28c-3f0dcaa56608",
   "metadata": {},
   "outputs": [],
   "source": []
  }
 ],
 "metadata": {
  "kernelspec": {
   "display_name": "Python 3",
   "language": "python",
   "name": "python3"
  },
  "language_info": {
   "codemirror_mode": {
    "name": "ipython",
    "version": 3
   },
   "file_extension": ".py",
   "mimetype": "text/x-python",
   "name": "python",
   "nbconvert_exporter": "python",
   "pygments_lexer": "ipython3",
   "version": "3.8.5"
  }
 },
 "nbformat": 4,
 "nbformat_minor": 5
}
