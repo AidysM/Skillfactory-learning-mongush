{
 "cells": [
  {
   "cell_type": "code",
   "execution_count": 7,
   "id": "f53b8afa-2a10-4e43-b81a-53193e0e0f92",
   "metadata": {},
   "outputs": [
    {
     "name": "stdin",
     "output_type": "stream",
     "text": [
      "Введите год: 2021\n"
     ]
    },
    {
     "name": "stdout",
     "output_type": "stream",
     "text": [
      "Високосный?  False\n"
     ]
    }
   ],
   "source": [
    "x = int(input(\"Введите год:\"))\n",
    "vg = not(x % 400) or (not(x % 4) and (x % 100))\n",
    "print(\"Високосный? \", vg)"
   ]
  },
  {
   "cell_type": "code",
   "execution_count": null,
   "id": "d35353cb-6ada-463f-8f3c-01b4a1d8c193",
   "metadata": {},
   "outputs": [],
   "source": []
  }
 ],
 "metadata": {
  "kernelspec": {
   "display_name": "Python 3",
   "language": "python",
   "name": "python3"
  },
  "language_info": {
   "codemirror_mode": {
    "name": "ipython",
    "version": 3
   },
   "file_extension": ".py",
   "mimetype": "text/x-python",
   "name": "python",
   "nbconvert_exporter": "python",
   "pygments_lexer": "ipython3",
   "version": "3.8.5"
  }
 },
 "nbformat": 4,
 "nbformat_minor": 5
}
