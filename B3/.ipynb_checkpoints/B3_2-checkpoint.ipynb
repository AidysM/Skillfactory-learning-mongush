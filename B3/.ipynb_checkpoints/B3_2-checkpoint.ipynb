{
 "cells": [
  {
   "cell_type": "markdown",
   "id": "c1f212ca-777c-457b-9149-ebb19af5eecb",
   "metadata": {},
   "source": [
    "Дано целое число 123456789. Определить: входит ли в него цифра 5."
   ]
  },
  {
   "cell_type": "code",
   "execution_count": 1,
   "id": "e24dfd05-500f-4500-a3cc-7d83d9652614",
   "metadata": {},
   "outputs": [
    {
     "name": "stdout",
     "output_type": "stream",
     "text": [
      "True\n"
     ]
    }
   ],
   "source": [
    "x = 123456789\n",
    "y = list(str(x))\n",
    "list_digit = list(map(int, y))\n",
    "print(5 in list_digit)"
   ]
  },
  {
   "cell_type": "code",
   "execution_count": 3,
   "id": "c98a4fc7-dbc5-4fd0-a63a-6971344ef928",
   "metadata": {},
   "outputs": [
    {
     "name": "stdout",
     "output_type": "stream",
     "text": [
      "True\n"
     ]
    }
   ],
   "source": [
    "print('5' in str(123456789))"
   ]
  },
  {
   "cell_type": "markdown",
   "id": "9eeaad55-2332-4721-8448-ef9d924fc135",
   "metadata": {},
   "source": [
    "Дано n-значное число N. Определить: входят ли в него цифры \"3\" и \"7\"."
   ]
  },
  {
   "cell_type": "code",
   "execution_count": 4,
   "id": "c256a7be-c043-4ecb-80a0-1648e341fb4b",
   "metadata": {},
   "outputs": [
    {
     "name": "stdin",
     "output_type": "stream",
     "text": [
      "Введите целое число: 123456789\n"
     ]
    },
    {
     "name": "stdout",
     "output_type": "stream",
     "text": [
      "True\n"
     ]
    }
   ],
   "source": [
    "N = input(\"Введите целое число:\")\n",
    "print('3' in str(N) and '7' in str(N))"
   ]
  },
  {
   "cell_type": "code",
   "execution_count": null,
   "id": "89a3584a-fec4-405d-9118-44d96f8c8228",
   "metadata": {},
   "outputs": [],
   "source": []
  }
 ],
 "metadata": {
  "kernelspec": {
   "display_name": "Python 3",
   "language": "python",
   "name": "python3"
  },
  "language_info": {
   "codemirror_mode": {
    "name": "ipython",
    "version": 3
   },
   "file_extension": ".py",
   "mimetype": "text/x-python",
   "name": "python",
   "nbconvert_exporter": "python",
   "pygments_lexer": "ipython3",
   "version": "3.8.5"
  }
 },
 "nbformat": 4,
 "nbformat_minor": 5
}
