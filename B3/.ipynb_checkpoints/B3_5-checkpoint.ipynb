{
 "cells": [
  {
   "cell_type": "code",
   "execution_count": 1,
   "id": "b153e6c6-ba34-474c-bc7a-def7e2dfdbbd",
   "metadata": {},
   "outputs": [
    {
     "name": "stdout",
     "output_type": "stream",
     "text": [
      "Значение суммы на предыдущем шаге:  0\n",
      "Текущее число:  1\n",
      "Значение суммы после сложения:  1\n",
      "---\n",
      "Значение суммы на предыдущем шаге:  1\n",
      "Текущее число:  2\n",
      "Значение суммы после сложения:  3\n",
      "---\n",
      "Значение суммы на предыдущем шаге:  3\n",
      "Текущее число:  3\n",
      "Значение суммы после сложения:  6\n",
      "---\n",
      "Значение суммы на предыдущем шаге:  6\n",
      "Текущее число:  4\n",
      "Значение суммы после сложения:  10\n",
      "---\n",
      "Значение суммы на предыдущем шаге:  10\n",
      "Текущее число:  5\n",
      "Значение суммы после сложения:  15\n",
      "---\n",
      "Конец цикла\n",
      "\n",
      "Ответ: сумма равна =  15\n"
     ]
    }
   ],
   "source": [
    "S = 0  # заводим переменную счетчик, в которой мы будем считать сумму\n",
    "N = 5\n",
    "\n",
    "# заводим цикл for в котором мы будем проходить по всем числам от одного до N\n",
    "for i in range(1, N + 1):  # равносильно выражению for i in [1, 2, 3, ... , N -1, N]:\n",
    "    print(\"Значение суммы на предыдущем шаге: \", S)\n",
    "    print(\"Текущее число: \", i)\n",
    "    S = S + i  # cуммируем текущее число i и перезаписываем значение суммы\n",
    "    print(\"Значение суммы после сложения: \", S)\n",
    "    print(\"---\")\n",
    "print(\"Конец цикла\")\n",
    "print()\n",
    "print(\"Ответ: сумма равна = \", S)"
   ]
  },
  {
   "cell_type": "code",
   "execution_count": 2,
   "id": "ea1d6d04-adcf-4936-a340-a124cdbdd1fe",
   "metadata": {},
   "outputs": [
    {
     "name": "stdout",
     "output_type": "stream",
     "text": [
      "120\n"
     ]
    }
   ],
   "source": [
    "\"\"\"обратите внимание, что P = 1, потому что если бы\n",
    "мы умножали на 0, то все произведение было бы равно 0\"\"\"\n",
    "P = 1  # заводим переменную счетчик, в которой мы будем считать произведение\n",
    "N = 5\n",
    "\n",
    "# запишите цикл for для подсчета произведения\n",
    "for i in range(1, N+1):\n",
    "    P *= i\n",
    "\n",
    "print(P)"
   ]
  },
  {
   "cell_type": "code",
   "execution_count": 3,
   "id": "94743648-5e6e-4f98-ae8a-50871bdb233e",
   "metadata": {},
   "outputs": [
    {
     "name": "stdout",
     "output_type": "stream",
     "text": [
      "*\n",
      "**\n",
      "***\n",
      "****\n",
      "*****\n"
     ]
    }
   ],
   "source": [
    "N = 5\n",
    "\n",
    "for i in range(1, N + 1):\n",
    "   print(\"*\" * i)"
   ]
  },
  {
   "cell_type": "code",
   "execution_count": 4,
   "id": "2f7772a5-b8c7-4080-9cd6-3cf04cbbf089",
   "metadata": {},
   "outputs": [
    {
     "name": "stdout",
     "output_type": "stream",
     "text": [
      "Ещё считаю ...\n",
      "Ещё считаю ...\n",
      "Ещё считаю ...\n",
      "Ещё считаю ...\n",
      "Ещё считаю ...\n",
      "Ещё считаю ...\n",
      "Ещё считаю ...\n",
      "Ещё считаю ...\n",
      "Ещё считаю ...\n",
      "Ещё считаю ...\n",
      "Ещё считаю ...\n",
      "Ещё считаю ...\n",
      "Ещё считаю ...\n",
      "Ещё считаю ...\n",
      "Ещё считаю ...\n",
      "Ещё считаю ...\n",
      "Ещё считаю ...\n",
      "Ещё считаю ...\n",
      "Ещё считаю ...\n",
      "Ещё считаю ...\n",
      "Ещё считаю ...\n",
      "Ещё считаю ...\n",
      "Ещё считаю ...\n",
      "Ещё считаю ...\n",
      "Ещё считаю ...\n",
      "Ещё считаю ...\n",
      "Ещё считаю ...\n",
      "Ещё считаю ...\n",
      "Ещё считаю ...\n",
      "Ещё считаю ...\n",
      "Ещё считаю ...\n",
      "Ещё считаю ...\n",
      "Сумма равна:  528\n",
      "Количество чисел:  32\n"
     ]
    }
   ],
   "source": [
    "S = 0  # заводим переменную счетчик, в которой мы будем считать сумму\n",
    "n = 1  # текущее натуральное число\n",
    "\n",
    "# заводим цикл while, который будет работать пока сумма не превысит 500\n",
    "while S < 500:  # делай пока ...\n",
    "    S += n  # увеличиваем сумму, равносильно S = S + n\n",
    "    n += 1  # так как сумма ещё не достигла нужного значения, то увеличиваем переменную счетчик\n",
    "    print(\"Ещё считаю ...\")\n",
    "\n",
    "print(\"Сумма равна: \", S)\n",
    "print(\"Количество чисел: \", n-1)"
   ]
  },
  {
   "cell_type": "code",
   "execution_count": 5,
   "id": "814860b2-c708-4900-9e26-9d7fab5379ba",
   "metadata": {},
   "outputs": [
    {
     "name": "stdout",
     "output_type": "stream",
     "text": [
      "Искомое число 31\n"
     ]
    }
   ],
   "source": [
    "n = 1\n",
    "while n**2 < 1000:\n",
    "    n += 1\n",
    "print(\"Искомое число\", n - 1)"
   ]
  },
  {
   "cell_type": "code",
   "execution_count": 6,
   "id": "431c7c81-b8b9-48df-a7eb-98f9df9c9f1a",
   "metadata": {},
   "outputs": [
    {
     "name": "stdout",
     "output_type": "stream",
     "text": [
      "Искомое число 31\n"
     ]
    }
   ],
   "source": [
    "n = 1\n",
    "while True:\n",
    "    if n**2 >= 1000:\n",
    "        print(\"Искомое число\", n - 1)\n",
    "        break\n",
    "    n += 1"
   ]
  },
  {
   "cell_type": "code",
   "execution_count": 7,
   "id": "6c1b2b75-a483-4bd5-809d-9663717c7791",
   "metadata": {},
   "outputs": [
    {
     "name": "stdout",
     "output_type": "stream",
     "text": [
      "0 1 2 3 4 5 "
     ]
    }
   ],
   "source": [
    "N = 2\n",
    "M = 3\n",
    "# заполнили матрицу последовательными числами\n",
    "matrix = [\n",
    "    [0, 1, 2], \n",
    "    [3, 4, 5], \n",
    "]\n",
    "\n",
    "\n",
    "for i in range(N):  # цикл отвечающий за строки\n",
    "    for j in range(M):  # цикл отвечающий за столбцы\n",
    "        print(matrix[i][j], end=\" \")\n",
    "# 0 1 2 3 4 5"
   ]
  },
  {
   "cell_type": "code",
   "execution_count": 8,
   "id": "a770b49e-3500-4664-bf9d-c37ba5f2cf70",
   "metadata": {},
   "outputs": [
    {
     "name": "stdout",
     "output_type": "stream",
     "text": [
      "0 1 2 \n",
      "3 4 5 \n"
     ]
    }
   ],
   "source": [
    "N = 2\n",
    "M = 3\n",
    "# заполнили матрицу последовательными числами\n",
    "matrix = [\n",
    "    [0, 1, 2], \n",
    "    [3, 4, 5], \n",
    "]\n",
    "for i in range(N):  # цикл отвечающий за строки\n",
    "    for j in range(M):  # цикл отвечающий за столбцы\n",
    "        print(matrix[i][j], end=\" \")\n",
    "    print()\n"
   ]
  },
  {
   "cell_type": "code",
   "execution_count": 9,
   "id": "dc2f53cc-fa3a-47e3-8d57-0e92a2aab8a6",
   "metadata": {},
   "outputs": [
    {
     "name": "stdout",
     "output_type": "stream",
     "text": [
      "Минимальные элементы: [1, 2, 4]\n",
      "Их индексы: [2, 0, 0]\n",
      "Максимальные элементы: [9, 5, 8]\n",
      "Их индексы: [0, 1, 1]\n"
     ]
    }
   ],
   "source": [
    "random_matrix = [\n",
    "   [9, 2, 1],\n",
    "   [2, 5, 3],\n",
    "   [4, 8, 5]\n",
    "]\n",
    "min_value_rows = []\n",
    "min_index_rows = []\n",
    "max_value_rows = []\n",
    "max_index_rows = []\n",
    "for row in random_matrix:\n",
    "    min_index = 0\n",
    "    min_value = row[min_index]\n",
    "    max_index = 0\n",
    "    max_value = row[max_index]\n",
    "    for index_col in range(len(row)):\n",
    "        if row[index_col] < min_value: \n",
    "            min_value = row[index_col]\n",
    "            min_index = index_col\n",
    "        if row[index_col] > max_value: \n",
    "            max_value = row[index_col]\n",
    "            max_index = index_col\n",
    "    min_value_rows.append(min_value)\n",
    "    min_index_rows.append(min_index)\n",
    "    max_value_rows.append(max_value)\n",
    "    max_index_rows.append(max_index)\n",
    "print(\"Минимальные элементы:\", min_value_rows)\n",
    "print(\"Их индексы:\", min_index_rows)\n",
    "print(\"Максимальные элементы:\", max_value_rows)\n",
    "print(\"Их индексы:\", max_index_rows)"
   ]
  },
  {
   "cell_type": "code",
   "execution_count": null,
   "id": "1c0f21c4-e9f9-4846-aa7d-0336c9b463db",
   "metadata": {},
   "outputs": [],
   "source": []
  }
 ],
 "metadata": {
  "kernelspec": {
   "display_name": "Python 3",
   "language": "python",
   "name": "python3"
  },
  "language_info": {
   "codemirror_mode": {
    "name": "ipython",
    "version": 3
   },
   "file_extension": ".py",
   "mimetype": "text/x-python",
   "name": "python",
   "nbconvert_exporter": "python",
   "pygments_lexer": "ipython3",
   "version": "3.8.5"
  }
 },
 "nbformat": 4,
 "nbformat_minor": 5
}
