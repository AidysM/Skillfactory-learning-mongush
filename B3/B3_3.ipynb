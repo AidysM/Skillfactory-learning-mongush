{
 "cells": [
  {
   "cell_type": "code",
   "execution_count": 4,
   "id": "856ada60-71a1-4db6-ae8c-2d516979dc6e",
   "metadata": {},
   "outputs": [
    {
     "name": "stdin",
     "output_type": "stream",
     "text": [
      " 5\n"
     ]
    },
    {
     "name": "stdout",
     "output_type": "stream",
     "text": [
      "0\n",
      "5\n"
     ]
    }
   ],
   "source": [
    "mx = 0\n",
    "s = 0\n",
    "x = int(input())\n",
    "if x < 0:\n",
    "    s = x\n",
    "\n",
    "b = 7\n",
    "b /= b\n",
    "\n",
    "if x > mx:\n",
    "    mx = x\n",
    "    \n",
    "print(s)\n",
    "print(mx)"
   ]
  },
  {
   "cell_type": "code",
   "execution_count": 9,
   "id": "cbcad9f8-56c9-4b2a-81cd-d7ad0dce7724",
   "metadata": {},
   "outputs": [
    {
     "name": "stdin",
     "output_type": "stream",
     "text": [
      " 5\n",
      " 7\n"
     ]
    },
    {
     "name": "stdout",
     "output_type": "stream",
     "text": [
      "Числа А и В нечетные\n"
     ]
    }
   ],
   "source": [
    "A = int(input())\n",
    "B = int(input())\n",
    "if A % 2 == 1 and B % 2 == 1:\n",
    "    print('Числа А и В нечетные')"
   ]
  },
  {
   "cell_type": "code",
   "execution_count": 10,
   "id": "eeb3be82-2268-408c-9979-a59f6deeec4b",
   "metadata": {},
   "outputs": [
    {
     "name": "stdin",
     "output_type": "stream",
     "text": [
      "Введите скорость ветра в м/с: 6\n"
     ]
    },
    {
     "name": "stdout",
     "output_type": "stream",
     "text": [
      "умеренный\n"
     ]
    }
   ],
   "source": [
    "U = int(input(\"Введите скорость ветра в м/с:\"))\n",
    "if 1 <= U <= 4:\n",
    "    print(\"слабый\")\n",
    "elif 5 <= U <= 10:\n",
    "    print(\"умеренный\")\n",
    "elif 11 <= U <= 18:\n",
    "    print(\"сильный\")\n",
    "elif 19 <= U:\n",
    "    print(\"ураганный\")\n"
   ]
  },
  {
   "cell_type": "code",
   "execution_count": 12,
   "id": "ec9172d7-d244-4200-88c2-06f40272ef79",
   "metadata": {},
   "outputs": [
    {
     "name": "stdin",
     "output_type": "stream",
     "text": [
      "Введите логин:\n",
      " root\n",
      "Введите пароль:\n",
      " 123\n"
     ]
    },
    {
     "name": "stdout",
     "output_type": "stream",
     "text": [
      "Отказано в доступе\n"
     ]
    }
   ],
   "source": [
    "login_list = [\n",
    "   'root',\n",
    "   'username1'\n",
    "   ]\n",
    "\n",
    "password_list = {\n",
    "   'root': '1q2w3e4r',\n",
    "   'username1': 'qwerty123'\n",
    "}\n",
    "\n",
    "username = input('Введите логин:\\n')\n",
    "\n",
    "if username in login_list:\n",
    "   password = input('Введите пароль:\\n')\n",
    "   if password_list[username] == password:\n",
    "       print('Вы успешно вошли в систему')\n",
    "   else:\n",
    "       print('Отказано в доступе')\n",
    "else:\n",
    "   print('Такого пользователя не существует')"
   ]
  },
  {
   "cell_type": "code",
   "execution_count": 13,
   "id": "ed08b46d-0e9e-4be0-a444-30a45707751a",
   "metadata": {},
   "outputs": [
    {
     "name": "stdin",
     "output_type": "stream",
     "text": [
      "Введите первое число\n",
      " 16\n",
      "Введите второе число\n",
      " 56\n",
      "Введите третье число\n",
      " 98\n"
     ]
    },
    {
     "name": "stdout",
     "output_type": "stream",
     "text": [
      "Есть число меньше 45 и только одно\n"
     ]
    }
   ],
   "source": [
    "A = int(input('Введите первое число\\n'))\n",
    "B = int(input('Введите второе число\\n'))\n",
    "C = int(input('Введите третье число\\n'))\n",
    "\n",
    "if ((A < 45) and (B >= 45) and (C >=45)) or \\\n",
    "    ((A >= 45) and (B < 45) and (C >=45)) or \\\n",
    "    ((A >= 45) and (B >= 45) and (C < 45)):\n",
    "    print('Есть число меньше 45 и только одно')\n",
    "else:\n",
    "    print('Числа меньше 45 нет или их несколько')"
   ]
  },
  {
   "cell_type": "code",
   "execution_count": 14,
   "id": "a7418a54-1314-4818-b6c6-d1ebcf88e597",
   "metadata": {},
   "outputs": [
    {
     "name": "stdin",
     "output_type": "stream",
     "text": [
      "Введите число\n",
      " 45\n"
     ]
    },
    {
     "name": "stdout",
     "output_type": "stream",
     "text": [
      "Число не принадлежит интервалу\n"
     ]
    }
   ],
   "source": [
    "A = int(input('Введите число\\n'))\n",
    "\n",
    "if not (-10 <= A <= -1 or 2 <= A <= 15):\n",
    "    print(\"Число не принадлежит интервалу\")\n",
    "else:\n",
    "    print(\"Число принадлежит интервалу\")"
   ]
  },
  {
   "cell_type": "code",
   "execution_count": 15,
   "id": "71243b69-5c44-40a2-a57a-f22a8c02c642",
   "metadata": {},
   "outputs": [
    {
     "name": "stdout",
     "output_type": "stream",
     "text": [
      "True\n"
     ]
    }
   ],
   "source": [
    "n = 15\n",
    "first_digit = n // 10\n",
    "second_digit = n % 10\n",
    "\n",
    "print((first_digit == 5) or (second_digit == 5))"
   ]
  },
  {
   "cell_type": "code",
   "execution_count": 16,
   "id": "4a8f9f5c-782e-49b0-96d1-5a7c9a77c703",
   "metadata": {},
   "outputs": [
    {
     "name": "stdout",
     "output_type": "stream",
     "text": [
      "True\n"
     ]
    }
   ],
   "source": [
    "list_ = [-5, 2, 4, 8, 12, -7, 5]\n",
    "\n",
    "print(len(list_) == len(set(list_)))"
   ]
  },
  {
   "cell_type": "code",
   "execution_count": 17,
   "id": "78d0b9bc-d41b-446d-8ccf-5ff2cbb7b742",
   "metadata": {},
   "outputs": [
    {
     "name": "stdout",
     "output_type": "stream",
     "text": [
      "False\n"
     ]
    }
   ],
   "source": [
    "num = 12345678\n",
    "\n",
    "print(str(num) == str(num)[::-1])"
   ]
  },
  {
   "cell_type": "code",
   "execution_count": null,
   "id": "c4afc90b-b4dd-4f58-be64-44887bc24539",
   "metadata": {},
   "outputs": [],
   "source": []
  }
 ],
 "metadata": {
  "kernelspec": {
   "display_name": "Python 3",
   "language": "python",
   "name": "python3"
  },
  "language_info": {
   "codemirror_mode": {
    "name": "ipython",
    "version": 3
   },
   "file_extension": ".py",
   "mimetype": "text/x-python",
   "name": "python",
   "nbconvert_exporter": "python",
   "pygments_lexer": "ipython3",
   "version": "3.8.5"
  }
 },
 "nbformat": 4,
 "nbformat_minor": 5
}
