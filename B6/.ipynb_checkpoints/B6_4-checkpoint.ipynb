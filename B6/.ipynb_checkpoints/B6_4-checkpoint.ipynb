{
 "cells": [
  {
   "cell_type": "code",
   "execution_count": 1,
   "id": "e3d3c2a8-97d6-4c24-b4fa-3d42693f6137",
   "metadata": {},
   "outputs": [],
   "source": [
    "user_peter = {\n",
    "    \"name\": \"Peter\",\n",
    "    \"email\": \"peterrobertson@mail.com\",\n",
    "    \"created_at\": \"2019-05-05\",\n",
    "    \"is_email_verified\": True,\n",
    "    \"purchases\": [\"Egg\", \"Spam\", \"Hat\", \"Knife\", \"Shield\", \"Book of Knight secrets\"],\n",
    "}\n",
    "\n",
    "user_julia = {\n",
    "    \"name\": \"Julia Donaldson\",\n",
    "    \"email\": \"juliadonaldson@mail.com\",\n",
    "    \"created_at\": \"2019-06-13\",\n",
    "    \"is_email_verified\": True,\n",
    "    \"purchases\": [\"Egg\", \"Spam\", \"Magic Brush\"],\n",
    "}\n",
    "\n",
    "product_eggs = {\n",
    "    \"name\": \"Egg\",\n",
    "    \"category\": \"food\",\n",
    "    \"is_available\": False,\n",
    "    \"quantity_in_stock\": 0,\n",
    "    \"vendor\": \"Dark Knight LTD\",\n",
    "    \"manager\": \"William The Conqueror\",\n",
    "}\n",
    "\n",
    "def is_product_available(product):\n",
    "    return True if product[\"quantity_in_stock\"] > 0 else False"
   ]
  },
  {
   "cell_type": "code",
   "execution_count": 3,
   "id": "dde70cf0-ec08-43cd-9f07-398d1b8cd23f",
   "metadata": {},
   "outputs": [
    {
     "name": "stdout",
     "output_type": "stream",
     "text": [
      "Peter Robertson\n",
      "Julia Donaldson\n"
     ]
    }
   ],
   "source": [
    "class User:\n",
    "    pass # этот класс ничего не делает\n",
    "\n",
    "peter = User()\n",
    "peter.name = \"Peter Robertson\"\n",
    "\n",
    "julia = User()\n",
    "julia.name = \"Julia Donaldson\"\n",
    "\n",
    "print(peter.name)\n",
    "print(julia.name)"
   ]
  },
  {
   "cell_type": "code",
   "execution_count": 5,
   "id": "693a911e-7148-4d08-a9f5-7ecb6adf0174",
   "metadata": {},
   "outputs": [
    {
     "name": "stdout",
     "output_type": "stream",
     "text": [
      "peterrobertson@mail.com\n",
      "\n",
      "\n"
     ]
    },
    {
     "ename": "AttributeError",
     "evalue": "'User' object has no attribute 'email'",
     "output_type": "error",
     "traceback": [
      "\u001b[0;31m---------------------------------------------------------------------------\u001b[0m",
      "\u001b[0;31mAttributeError\u001b[0m                            Traceback (most recent call last)",
      "\u001b[0;32m<ipython-input-5-d90c7a692a59>\u001b[0m in \u001b[0;36m<module>\u001b[0;34m\u001b[0m\n\u001b[1;32m      2\u001b[0m \u001b[0mprint\u001b[0m\u001b[0;34m(\u001b[0m\u001b[0mpeter\u001b[0m\u001b[0;34m.\u001b[0m\u001b[0memail\u001b[0m\u001b[0;34m)\u001b[0m\u001b[0;34m\u001b[0m\u001b[0;34m\u001b[0m\u001b[0m\n\u001b[1;32m      3\u001b[0m \u001b[0mprint\u001b[0m\u001b[0;34m(\u001b[0m\u001b[0;34m'\\n'\u001b[0m\u001b[0;34m)\u001b[0m\u001b[0;34m\u001b[0m\u001b[0;34m\u001b[0m\u001b[0m\n\u001b[0;32m----> 4\u001b[0;31m \u001b[0mprint\u001b[0m\u001b[0;34m(\u001b[0m\u001b[0mjulia\u001b[0m\u001b[0;34m.\u001b[0m\u001b[0memail\u001b[0m\u001b[0;34m)\u001b[0m\u001b[0;34m\u001b[0m\u001b[0;34m\u001b[0m\u001b[0m\n\u001b[0m\u001b[1;32m      5\u001b[0m \u001b[0;34m\u001b[0m\u001b[0m\n",
      "\u001b[0;31mAttributeError\u001b[0m: 'User' object has no attribute 'email'"
     ]
    }
   ],
   "source": [
    "peter.email = \"peterrobertson@mail.com\"\n",
    "print(peter.email)\n",
    "print('\\n')\n",
    "print(julia.email)\n",
    "\n"
   ]
  },
  {
   "cell_type": "code",
   "execution_count": 6,
   "id": "b70fea73-e577-495e-a027-1aaba69fc8f5",
   "metadata": {},
   "outputs": [
    {
     "name": "stdout",
     "output_type": "stream",
     "text": [
      "5\n"
     ]
    }
   ],
   "source": [
    "class User:\n",
    "    number_of_fingers = 5\n",
    "    number_of_eyes = 2\n",
    "\n",
    "lancelot = User()\n",
    "print(lancelot.number_of_fingers)"
   ]
  },
  {
   "cell_type": "code",
   "execution_count": null,
   "id": "0c6f05a3-3d1a-4cff-b58b-9fadbf5916a9",
   "metadata": {},
   "outputs": [],
   "source": []
  }
 ],
 "metadata": {
  "kernelspec": {
   "display_name": "Python 3",
   "language": "python",
   "name": "python3"
  },
  "language_info": {
   "codemirror_mode": {
    "name": "ipython",
    "version": 3
   },
   "file_extension": ".py",
   "mimetype": "text/x-python",
   "name": "python",
   "nbconvert_exporter": "python",
   "pygments_lexer": "ipython3",
   "version": "3.8.5"
  }
 },
 "nbformat": 4,
 "nbformat_minor": 5
}
