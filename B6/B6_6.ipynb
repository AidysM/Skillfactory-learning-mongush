{
 "cells": [
  {
   "cell_type": "code",
   "execution_count": 1,
   "id": "bfb82f66-922a-49eb-b1cf-2578e2fd927c",
   "metadata": {},
   "outputs": [],
   "source": [
    "class Product:\n",
    "    def __init__(self, name, category, quantity_in_stock):\n",
    "        self.name = name\n",
    "        self.category = category\n",
    "        self.quantity_in_stock = quantity_in_stock\n",
    "\n",
    "    def is_available(self):\n",
    "        return True if self.quantity_in_stock > 0 else False"
   ]
  },
  {
   "cell_type": "code",
   "execution_count": 2,
   "id": "2f46fff5-c886-42a5-98c0-96f8a3ca48c2",
   "metadata": {},
   "outputs": [
    {
     "name": "stdout",
     "output_type": "stream",
     "text": [
      "True\n"
     ]
    }
   ],
   "source": [
    "eggs = Product(\"eggs\", \"food\", 5)\n",
    "print(eggs.is_available())"
   ]
  },
  {
   "cell_type": "code",
   "execution_count": 3,
   "id": "7108dc11-28a5-4736-bd61-e0d23642351f",
   "metadata": {},
   "outputs": [],
   "source": [
    "class Event:\n",
    "    def __init__(self, timestamp, event_type, session_id):\n",
    "        self.timestamp = timestamp\n",
    "        self.type = event_type\n",
    "        self.session_id = session_id"
   ]
  },
  {
   "cell_type": "code",
   "execution_count": 4,
   "id": "2ff8549e-4305-46ea-aebf-b2c64ee7db24",
   "metadata": {},
   "outputs": [],
   "source": [
    "events = [\n",
    "    {\n",
    "     \"timestamp\": 1554583508000,\n",
    "     \"type\": \"itemViewEvent\",\n",
    "     \"session_id\": \"0:NynteeXG:MYlskrqZbcmXNSFEJaZIsNVGeDLLpmct\",\n",
    "    },\n",
    "    {\n",
    "     \"timestamp\": 1555296337000,\n",
    "     \"type\": \"itemViewEvent\",\n",
    "     \"session_id\": \"0:NynteeXG:MYlskrqZbcmXNSFEJaZIsNVGeDLLpmct\",\n",
    "    },\n",
    "    {\n",
    "     \"timestamp\": 1549461608000,\n",
    "     \"type\": \"itemBuyEvent\",\n",
    "     \"session_id\": \"0:NynteeXG:MYlskrqZbcmXNSFEJaZIsNVGeDLLpmct\",\n",
    "    },\n",
    "]"
   ]
  },
  {
   "cell_type": "code",
   "execution_count": 5,
   "id": "9eba4123-a72d-46fd-9fa7-868a4bd73753",
   "metadata": {},
   "outputs": [
    {
     "name": "stdout",
     "output_type": "stream",
     "text": [
      "1554583508000\n",
      "1555296337000\n",
      "1549461608000\n"
     ]
    }
   ],
   "source": [
    "for event in events:\n",
    "    event_obj = Event(timestamp=event.get(\"timestamp\"),\n",
    "                      event_type=event.get(\"type\"),\n",
    "                      session_id=event.get(\"session_id\"))\n",
    "    print(event_obj.timestamp)"
   ]
  },
  {
   "cell_type": "markdown",
   "id": "3497c1d2-448c-4ad2-b0b4-b71b41783f83",
   "metadata": {},
   "source": [
    "использовали метод словаря .get(), который не вызовет ошибку, если такого ключа в словаре нет. "
   ]
  },
  {
   "cell_type": "code",
   "execution_count": 6,
   "id": "fb0c3f45-644a-46d8-8777-d8a568ef5cbb",
   "metadata": {},
   "outputs": [],
   "source": [
    "class Event:\n",
    "    def __init__(self, timestamp=0, event_type=\"\", session_id=\"\"):\n",
    "        self.timestamp = timestamp\n",
    "        self.type = event_type\n",
    "        self.session_id = session_id\n",
    "        \n",
    "    def init_from_dict(self, event_dict):\n",
    "        self.timestamp = event_dict.get(\"timestamp\")\n",
    "        self.type = event_dict.get(\"type\")\n",
    "        self.session_id = event_dict.get(\"session_id\")"
   ]
  },
  {
   "cell_type": "code",
   "execution_count": 7,
   "id": "4c248479-b2ed-4d9b-b61f-dd4d2c0e1e6e",
   "metadata": {},
   "outputs": [
    {
     "name": "stdout",
     "output_type": "stream",
     "text": [
      "1554583508000\n",
      "1555296337000\n",
      "1549461608000\n"
     ]
    }
   ],
   "source": [
    "for event in events:\n",
    "    event_obj = Event()\n",
    "    event_obj.init_from_dict(event)\n",
    "    print(event_obj.timestamp)"
   ]
  },
  {
   "cell_type": "markdown",
   "id": "b855054c-731c-494b-a1cb-d624eb33ce2c",
   "metadata": {},
   "source": [
    "Инкапусляция — это один из принципов ООП, который говорит нам о том, что поля и методы должны быть одной целой системой. Иначе говоря, работаем с полями класса только через методы."
   ]
  },
  {
   "cell_type": "code",
   "execution_count": 8,
   "id": "8145e133-23f0-4f20-bf6a-8dc5f4539a0f",
   "metadata": {},
   "outputs": [
    {
     "name": "stdout",
     "output_type": "stream",
     "text": [
      "15\n"
     ]
    }
   ],
   "source": [
    "# Пример неправильного кода\n",
    " \n",
    "# Создаём неправильный класс.\n",
    "class Human:\n",
    "    # класс человек с полем возраста\n",
    "    age = None\n",
    " \n",
    "    def __init__(self, age=4):\n",
    "        self.age = age\n",
    " \n",
    " \n",
    "h = Human()\n",
    "h.age = 15 # (Так делать лучше не стоит, если вы хотите когда-нибудь найти работу)\n",
    "print(h.age) # и так тоже"
   ]
  },
  {
   "cell_type": "code",
   "execution_count": 9,
   "id": "ca4a8cb6-8781-4323-8d68-2a8b18b5d4bf",
   "metadata": {},
   "outputs": [
    {
     "name": "stdout",
     "output_type": "stream",
     "text": [
      "15\n"
     ]
    }
   ],
   "source": [
    "# Более правильный пример\n",
    " \n",
    "# Исправим наш предыдущий код.\n",
    "class Human:\n",
    "    age = None\n",
    " \n",
    "    def __init__(self, age=4):\n",
    "        self.age = age\n",
    " \n",
    "    # добавляем геттер - специальный метод для получения поля\n",
    "    def get_age(self):\n",
    "        return self.age\n",
    " \n",
    "    # добавляем сеттер - специальный метод для установки нового значения \n",
    "    def set_age(self, age):\n",
    "        if age > 0 and isinstance(age, int): # проверяем условия, что человеку должно быть больше 0 лет и его возраст - целое число\n",
    "            self.age = age\n",
    " \n",
    " \n",
    "h = Human()\n",
    "h.set_age(15)\n",
    "print(h.get_age())"
   ]
  },
  {
   "cell_type": "code",
   "execution_count": null,
   "id": "ab98efc9-0a7f-4e86-bea0-3505b90f1214",
   "metadata": {},
   "outputs": [],
   "source": []
  }
 ],
 "metadata": {
  "kernelspec": {
   "display_name": "Python 3",
   "language": "python",
   "name": "python3"
  },
  "language_info": {
   "codemirror_mode": {
    "name": "ipython",
    "version": 3
   },
   "file_extension": ".py",
   "mimetype": "text/x-python",
   "name": "python",
   "nbconvert_exporter": "python",
   "pygments_lexer": "ipython3",
   "version": "3.8.5"
  }
 },
 "nbformat": 4,
 "nbformat_minor": 5
}
