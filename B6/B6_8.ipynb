{
 "cells": [
  {
   "cell_type": "code",
   "execution_count": null,
   "id": "95a730c1-a18a-4e13-8afb-8d7ff9a93230",
   "metadata": {},
   "outputs": [],
   "source": [
    "class Restangle:\n",
    "    def __init__(self, width, height):\n",
    "        self.width = width\n",
    "        self.height = height\n",
    "        \n",
    "    def getWidth(self):\n",
    "        return self.width\n",
    "    \n",
    "    def getHeight(self):\n",
    "        return self.height\n",
    "    \n",
    "    #метод рассчитывающий площадь\n",
    "    def getArea(self):\n",
    "        return self.width * self.height\n",
    "    "
   ]
  }
 ],
 "metadata": {
  "kernelspec": {
   "display_name": "Python 3",
   "language": "python",
   "name": "python3"
  },
  "language_info": {
   "codemirror_mode": {
    "name": "ipython",
    "version": 3
   },
   "file_extension": ".py",
   "mimetype": "text/x-python",
   "name": "python",
   "nbconvert_exporter": "python",
   "pygments_lexer": "ipython3",
   "version": "3.8.5"
  }
 },
 "nbformat": 4,
 "nbformat_minor": 5
}
