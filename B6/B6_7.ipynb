{
 "cells": [
  {
   "cell_type": "code",
   "execution_count": 1,
   "id": "01536662-cefa-42b2-ae6a-0e8eb97af132",
   "metadata": {},
   "outputs": [
    {
     "name": "stdout",
     "output_type": "stream",
     "text": [
      "100000\n"
     ]
    }
   ],
   "source": [
    "import datetime\n",
    "\n",
    "\n",
    "class Product:\n",
    "    max_quantity = 100000\n",
    "\n",
    "    def __init__(self, name, category, quantity_in_stock):\n",
    "        self.name = name\n",
    "        self.category = category\n",
    "        self.quantity_in_stock = quantity_in_stock\n",
    "\n",
    "    def is_available(self):\n",
    "        return True if self.quantity_in_stock > 0 else False\n",
    "\n",
    "\n",
    "class Food(Product):\n",
    "    is_critical = True\n",
    "    needs_to_be_refreshed = True\n",
    "    refresh_frequency = datetime.timedelta(days=1)\n",
    "\n",
    "\n",
    "eggs = Food(name=\"eggs\", category=\"food\", quantity_in_stock=5)\n",
    "print(eggs.max_quantity)"
   ]
  },
  {
   "cell_type": "code",
   "execution_count": 2,
   "id": "61e78cd8-e07c-4730-820f-6b1b957952f3",
   "metadata": {},
   "outputs": [
    {
     "name": "stdout",
     "output_type": "stream",
     "text": [
      "True\n"
     ]
    }
   ],
   "source": [
    "print(eggs.is_available())"
   ]
  },
  {
   "cell_type": "code",
   "execution_count": 3,
   "id": "212b06d8-0eb6-471f-b330-647438a8904c",
   "metadata": {},
   "outputs": [
    {
     "name": "stdout",
     "output_type": "stream",
     "text": [
      "This event means someone has browsed an item.\n",
      "itemViewEvent\n"
     ]
    }
   ],
   "source": [
    "class Event:\n",
    "    def __init__(self, timestamp=0, event_type=\"\", session_id=\"\"):\n",
    "        self.timestamp = timestamp\n",
    "        self.type = event_type\n",
    "        self.session_id = session_id\n",
    "\n",
    "    def init_from_dict(self, event_dict):\n",
    "        self.timestamp = event_dict.get(\"timestamp\")\n",
    "        self.type = event_dict.get(\"type\")\n",
    "        self.session_id = event_dict.get(\"session_id\")\n",
    "\n",
    "    def show_description(self):\n",
    "        print(\"This is generic event.\")\n",
    "\n",
    "\n",
    "class ItemViewEvent(Event):\n",
    "    type = \"itemViewEvent\"\n",
    "\n",
    "    def __init__(self, timestamp=0, session_id=\"\", number_of_views=0):\n",
    "        self.timestamp = timestamp\n",
    "        self.session_id = session_id\n",
    "        self.number_of_views = number_of_views\n",
    "\n",
    "    def show_description(self):\n",
    "        print(\"This event means someone has browsed an item.\")\n",
    "\n",
    "\n",
    "if __name__ == \"__main__\":\n",
    "    test_view_event = ItemViewEvent(timestamp=1549461608000, session_id=\"0:NynteeXG:MYlskrqZbcmXNSFEJaZIsNVGeDLLpmct\", number_of_views=6)\n",
    "    test_view_event.show_description()\n",
    "    print(test_view_event.type)"
   ]
  },
  {
   "cell_type": "code",
   "execution_count": 4,
   "id": "883a7f07-2671-4867-8505-6fef09809a69",
   "metadata": {},
   "outputs": [
    {
     "name": "stdout",
     "output_type": "stream",
     "text": [
      "True\n"
     ]
    }
   ],
   "source": [
    "print(isinstance(\"foo\", str))"
   ]
  },
  {
   "cell_type": "code",
   "execution_count": 5,
   "id": "26d0b8b6-5405-4c9d-9f5d-84a59d84f725",
   "metadata": {},
   "outputs": [
    {
     "name": "stdout",
     "output_type": "stream",
     "text": [
      "True\n"
     ]
    }
   ],
   "source": [
    "print(isinstance(test_view_event, ItemViewEvent))"
   ]
  },
  {
   "cell_type": "code",
   "execution_count": 6,
   "id": "f6d5fbd1-21fa-4d8f-9945-e4c4d4e48c98",
   "metadata": {},
   "outputs": [
    {
     "name": "stdout",
     "output_type": "stream",
     "text": [
      "True\n"
     ]
    }
   ],
   "source": [
    "print(isinstance(test_view_event, Event))"
   ]
  },
  {
   "cell_type": "code",
   "execution_count": 7,
   "id": "d6363abb-5055-42cb-96fe-1059b617d5d4",
   "metadata": {},
   "outputs": [
    {
     "name": "stdout",
     "output_type": "stream",
     "text": [
      "True\n"
     ]
    }
   ],
   "source": [
    "print(isinstance(\"foo\", object))"
   ]
  },
  {
   "cell_type": "code",
   "execution_count": null,
   "id": "31c12d8f-9ed3-4386-94d5-0576cca4ad62",
   "metadata": {},
   "outputs": [],
   "source": []
  }
 ],
 "metadata": {
  "kernelspec": {
   "display_name": "Python 3",
   "language": "python",
   "name": "python3"
  },
  "language_info": {
   "codemirror_mode": {
    "name": "ipython",
    "version": 3
   },
   "file_extension": ".py",
   "mimetype": "text/x-python",
   "name": "python",
   "nbconvert_exporter": "python",
   "pygments_lexer": "ipython3",
   "version": "3.8.5"
  }
 },
 "nbformat": 4,
 "nbformat_minor": 5
}
