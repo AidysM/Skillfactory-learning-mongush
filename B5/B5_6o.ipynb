{
 "cells": [
  {
   "cell_type": "code",
   "execution_count": 1,
   "id": "594eada3-a7ba-4da0-9232-56659703c279",
   "metadata": {},
   "outputs": [
    {
     "name": "stdout",
     "output_type": "stream",
     "text": [
      "[['-', '-', '-'], ['-', '-', '-'], ['-', '-', '-']]\n"
     ]
    }
   ],
   "source": [
    "field = [['-', '-', '-'],\n",
    "        ['-', '-', '-'],\n",
    "        ['-', '-', '-']]\n",
    "field = [['-']*3 for _ in range(3)]\n",
    "print(field)"
   ]
  },
  {
   "cell_type": "code",
   "execution_count": 2,
   "id": "5fa3d5ea-9c65-47c2-86df-f2c0c9e6f631",
   "metadata": {},
   "outputs": [
    {
     "name": "stdout",
     "output_type": "stream",
     "text": [
      "['-', '-', '-'] ['-', '-', '-'] ['-', '-', '-']\n"
     ]
    }
   ],
   "source": [
    "print(*field)"
   ]
  },
  {
   "cell_type": "code",
   "execution_count": 4,
   "id": "b450b413-d40c-4f2a-80e0-ef059f503e39",
   "metadata": {},
   "outputs": [
    {
     "name": "stdout",
     "output_type": "stream",
     "text": [
      "  0 1 2\n",
      "0 - - -\n",
      "1 - - -\n",
      "2 - - -\n"
     ]
    }
   ],
   "source": [
    "print('  0 1 2')\n",
    "for i in range(len(field)):\n",
    "    print(str(i), *field[i])"
   ]
  },
  {
   "cell_type": "code",
   "execution_count": 5,
   "id": "a3a85ec3-bc00-4b0e-9d50-a528af15f47f",
   "metadata": {},
   "outputs": [
    {
     "name": "stdout",
     "output_type": "stream",
     "text": [
      "  0 1 2\n",
      "0 - - -\n",
      "1 - - -\n",
      "2 - - -\n"
     ]
    }
   ],
   "source": [
    "print('  0 1 2')\n",
    "for i in range(len(field)):\n",
    "    print(str(i)+' '+' '.join(field[i]))"
   ]
  },
  {
   "cell_type": "code",
   "execution_count": 7,
   "id": "d7e14c51-fa2a-41e4-899c-12959d38c4ec",
   "metadata": {},
   "outputs": [
    {
     "name": "stdout",
     "output_type": "stream",
     "text": [
      "  a b c\n",
      "a - - -\n",
      "b - - -\n",
      "c - - -\n"
     ]
    }
   ],
   "source": [
    "num = '  a b c'\n",
    "print(num)\n",
    "for row,i in zip(field, num.split()):\n",
    "    print(f\"{i} {' '.join(str(j) for j in row)}\")"
   ]
  },
  {
   "cell_type": "code",
   "execution_count": 8,
   "id": "956bf89a-6ad5-4176-87ed-18c6fe61c7ac",
   "metadata": {},
   "outputs": [
    {
     "name": "stdout",
     "output_type": "stream",
     "text": [
      "  0 1 2\n",
      "0 - - -\n",
      "1 - - -\n",
      "2 - - -\n"
     ]
    }
   ],
   "source": [
    "def show_field(f):\n",
    "    print('  0 1 2')\n",
    "    for i in range(len(field)):\n",
    "        print(str(i)+' '+' '.join(field[i]))\n",
    "show_field(field)"
   ]
  },
  {
   "cell_type": "code",
   "execution_count": 15,
   "id": "6164eefe-0b2d-498e-a940-98ecca02d000",
   "metadata": {},
   "outputs": [
    {
     "name": "stdin",
     "output_type": "stream",
     "text": [
      "Введите координаты:  1 2\n"
     ]
    },
    {
     "data": {
      "text/plain": [
       "(1, 2)"
      ]
     },
     "execution_count": 15,
     "metadata": {},
     "output_type": "execute_result"
    }
   ],
   "source": [
    "def users_input(f):\n",
    "    while True:\n",
    "        place = input(\"Введите координаты: \").split()\n",
    "        if len(place) != 2:\n",
    "            print(\"Введите две координаты\")\n",
    "            continue\n",
    "        if not(place[0].isdigit() and place[1].isdigit()):\n",
    "            print(\"Введите числа\")\n",
    "            continue\n",
    "        x, y = map(int, place)\n",
    "        if not(x >= 0 and x < 3 and y >=0 and y < 3):\n",
    "            print(\"Вышли из диапазона\")\n",
    "            continue\n",
    "        if f[x][y] != '-':\n",
    "            print(\"Клетка занята\")\n",
    "            continue\n",
    "        break\n",
    "    return x, y\n",
    "users_input(field)"
   ]
  },
  {
   "cell_type": "code",
   "execution_count": 28,
   "id": "e5fa4b03-b359-43d3-b20e-c7cd76497e9f",
   "metadata": {},
   "outputs": [
    {
     "name": "stdout",
     "output_type": "stream",
     "text": [
      "  0 1 2\n",
      "0 - - -\n",
      "1 - - -\n",
      "2 - - -\n"
     ]
    },
    {
     "name": "stdin",
     "output_type": "stream",
     "text": [
      "Введите координаты:  0 0\n"
     ]
    },
    {
     "ename": "TypeError",
     "evalue": "'int' object is not iterable",
     "output_type": "error",
     "traceback": [
      "\u001b[0;31m---------------------------------------------------------------------------\u001b[0m",
      "\u001b[0;31mTypeError\u001b[0m                                 Traceback (most recent call last)",
      "\u001b[0;32m<ipython-input-28-38bf9dcbab1f>\u001b[0m in \u001b[0;36m<module>\u001b[0;34m\u001b[0m\n\u001b[1;32m     11\u001b[0m     \u001b[0;32mif\u001b[0m \u001b[0mcount\u001b[0m \u001b[0;34m==\u001b[0m \u001b[0;36m9\u001b[0m\u001b[0;34m:\u001b[0m\u001b[0;34m\u001b[0m\u001b[0;34m\u001b[0m\u001b[0m\n\u001b[1;32m     12\u001b[0m         \u001b[0mprint\u001b[0m\u001b[0;34m(\u001b[0m\u001b[0;34m'Ничья'\u001b[0m\u001b[0;34m)\u001b[0m\u001b[0;34m\u001b[0m\u001b[0;34m\u001b[0m\u001b[0m\n\u001b[0;32m---> 13\u001b[0;31m     \u001b[0;32mif\u001b[0m \u001b[0mwin_v3\u001b[0m\u001b[0;34m(\u001b[0m\u001b[0mfield\u001b[0m\u001b[0;34m,\u001b[0m \u001b[0muser\u001b[0m\u001b[0;34m)\u001b[0m\u001b[0;34m:\u001b[0m\u001b[0;34m\u001b[0m\u001b[0;34m\u001b[0m\u001b[0m\n\u001b[0m\u001b[1;32m     14\u001b[0m         \u001b[0mprint\u001b[0m\u001b[0;34m(\u001b[0m\u001b[0;34mf\"Выиграл {user}\"\u001b[0m\u001b[0;34m)\u001b[0m\u001b[0;34m\u001b[0m\u001b[0;34m\u001b[0m\u001b[0m\n\u001b[1;32m     15\u001b[0m         \u001b[0mshow_field\u001b[0m\u001b[0;34m(\u001b[0m\u001b[0mfield\u001b[0m\u001b[0;34m)\u001b[0m\u001b[0;34m\u001b[0m\u001b[0;34m\u001b[0m\u001b[0m\n",
      "\u001b[0;32m<ipython-input-25-7e9014ebf80f>\u001b[0m in \u001b[0;36mwin_v3\u001b[0;34m(f, user)\u001b[0m\n\u001b[1;32m      2\u001b[0m     \u001b[0mf_list\u001b[0m\u001b[0;34m=\u001b[0m\u001b[0;34m[\u001b[0m\u001b[0;34m]\u001b[0m\u001b[0;34m\u001b[0m\u001b[0;34m\u001b[0m\u001b[0m\n\u001b[1;32m      3\u001b[0m     \u001b[0;32mfor\u001b[0m \u001b[0ml\u001b[0m \u001b[0;32min\u001b[0m \u001b[0mf\u001b[0m\u001b[0;34m:\u001b[0m\u001b[0;34m\u001b[0m\u001b[0;34m\u001b[0m\u001b[0m\n\u001b[0;32m----> 4\u001b[0;31m         \u001b[0mf_list\u001b[0m \u001b[0;34m+=\u001b[0m \u001b[0;36m1\u001b[0m\u001b[0;34m\u001b[0m\u001b[0;34m\u001b[0m\u001b[0m\n\u001b[0m\u001b[1;32m      5\u001b[0m     \u001b[0mpositions\u001b[0m\u001b[0;34m=\u001b[0m\u001b[0;34m[\u001b[0m\u001b[0;34m[\u001b[0m\u001b[0;36m0\u001b[0m\u001b[0;34m,\u001b[0m\u001b[0;36m1\u001b[0m\u001b[0;34m,\u001b[0m\u001b[0;36m2\u001b[0m\u001b[0;34m]\u001b[0m\u001b[0;34m,\u001b[0m\u001b[0;34m[\u001b[0m\u001b[0;36m3\u001b[0m\u001b[0;34m,\u001b[0m\u001b[0;36m4\u001b[0m\u001b[0;34m,\u001b[0m\u001b[0;36m5\u001b[0m\u001b[0;34m]\u001b[0m\u001b[0;34m,\u001b[0m\u001b[0;34m[\u001b[0m\u001b[0;36m6\u001b[0m\u001b[0;34m,\u001b[0m\u001b[0;36m7\u001b[0m\u001b[0;34m,\u001b[0m\u001b[0;36m8\u001b[0m\u001b[0;34m]\u001b[0m\u001b[0;34m,\u001b[0m\u001b[0;34m[\u001b[0m\u001b[0;36m0\u001b[0m\u001b[0;34m,\u001b[0m\u001b[0;36m3\u001b[0m\u001b[0;34m,\u001b[0m\u001b[0;36m6\u001b[0m\u001b[0;34m]\u001b[0m\u001b[0;34m,\u001b[0m\u001b[0;34m[\u001b[0m\u001b[0;36m1\u001b[0m\u001b[0;34m,\u001b[0m\u001b[0;36m4\u001b[0m\u001b[0;34m,\u001b[0m\u001b[0;36m7\u001b[0m\u001b[0;34m]\u001b[0m\u001b[0;34m,\u001b[0m\u001b[0;34m[\u001b[0m\u001b[0;36m2\u001b[0m\u001b[0;34m,\u001b[0m\u001b[0;36m5\u001b[0m\u001b[0;34m,\u001b[0m\u001b[0;36m8\u001b[0m\u001b[0;34m]\u001b[0m\u001b[0;34m,\u001b[0m\u001b[0;34m[\u001b[0m\u001b[0;36m0\u001b[0m\u001b[0;34m,\u001b[0m\u001b[0;36m4\u001b[0m\u001b[0;34m,\u001b[0m\u001b[0;36m8\u001b[0m\u001b[0;34m]\u001b[0m\u001b[0;34m,\u001b[0m\u001b[0;34m[\u001b[0m\u001b[0;36m2\u001b[0m\u001b[0;34m,\u001b[0m\u001b[0;36m4\u001b[0m\u001b[0;34m,\u001b[0m\u001b[0;36m6\u001b[0m\u001b[0;34m]\u001b[0m\u001b[0;34m]\u001b[0m\u001b[0;34m\u001b[0m\u001b[0;34m\u001b[0m\u001b[0m\n\u001b[1;32m      6\u001b[0m     \u001b[0mindices\u001b[0m \u001b[0;34m=\u001b[0m \u001b[0mset\u001b[0m\u001b[0;34m(\u001b[0m\u001b[0;34m[\u001b[0m\u001b[0mi\u001b[0m \u001b[0;32mfor\u001b[0m \u001b[0mi\u001b[0m\u001b[0;34m,\u001b[0m \u001b[0mx\u001b[0m \u001b[0;32min\u001b[0m \u001b[0menumerate\u001b[0m\u001b[0;34m(\u001b[0m\u001b[0mf_list\u001b[0m\u001b[0;34m)\u001b[0m \u001b[0;32mif\u001b[0m \u001b[0mx\u001b[0m \u001b[0;34m==\u001b[0m \u001b[0muser\u001b[0m\u001b[0;34m]\u001b[0m\u001b[0;34m)\u001b[0m\u001b[0;34m\u001b[0m\u001b[0;34m\u001b[0m\u001b[0m\n",
      "\u001b[0;31mTypeError\u001b[0m: 'int' object is not iterable"
     ]
    }
   ],
   "source": [
    "field = [['-']*3 for _ in range(3)]\n",
    "count = 0\n",
    "while True:\n",
    "    if count % 2 == 0:\n",
    "        user = 'x'\n",
    "    else:\n",
    "        user = 'o'\n",
    "    show_field(field)\n",
    "    x, y = users_input(field)\n",
    "    field[x][y] = user\n",
    "    if count == 9:\n",
    "        print('Ничья')\n",
    "    if win_v3(field, user):\n",
    "        print(f\"Выиграл {user}\")\n",
    "        show_field(field)\n",
    "        break\n",
    "    count += 1"
   ]
  },
  {
   "cell_type": "code",
   "execution_count": null,
   "id": "394e724d-43d0-4bcf-9a58-6c659ad12420",
   "metadata": {},
   "outputs": [],
   "source": [
    "def win_v1(f, user):\n",
    "    def check_line(a1, a2, user):\n",
    "        if a1 == user and a2 == user and a3 == user:\n",
    "            return True\n",
    "    for n in range(3):\n",
    "        if check_line(f[n][0], f[n][1], f[n][2], user) or \\\n",
    "            check_line(f[0][n], f[1][n], f[2][n], user) or \\\n",
    "            check_line(f[0][0], f[1][1], f[2][2], user) or \\\n",
    "            check_line(f[2][0], f[1][1], f[0][2], user):\n",
    "            return True\n",
    "    return False"
   ]
  },
  {
   "cell_type": "code",
   "execution_count": 30,
   "id": "2431ebd4-9f97-4a08-81dd-c3ba348eeee0",
   "metadata": {},
   "outputs": [],
   "source": [
    "def win_v2(f, user):\n",
    "    win_cord = (((0, 0), (0, 1), (0, 2)), ((1, 0), (1, 1), (1, 2)), \n",
    "                ((2, 0), (2, 1), (2, 2)), ((0, 0), (1, 0), (2, 0)),\n",
    "                ((0, 2), (1, 1), (2, 0)), ((1, 1), (1, 1), (2, 2)), \n",
    "                ((0, 1), (1, 1), (2, 1)), ((0, 2), (1, 2), (2, 2)))\n",
    "    for cord in win_cord:\n",
    "        symbols = []\n",
    "        for c in cord:\n",
    "            symbols.append(f[c[0]][c[1]])\n",
    "        if symbols == [user, user, user]:\n",
    "            return True\n",
    "    return False"
   ]
  },
  {
   "cell_type": "code",
   "execution_count": 34,
   "id": "815ad3bc-1abc-41f5-b26a-c582bf6a62c1",
   "metadata": {},
   "outputs": [],
   "source": [
    "def win_v3(f, user):\n",
    "    f_list=[]\n",
    "    for l in f:\n",
    "        f_list += l\n",
    "    positions=[[0,1,2],[3,4,5],[6,7,8],[0,3,6],[1,4,7],[2,5,8],[0,4,8],[2,4,6]]\n",
    "    indices = set([i for i, x in enumerate(f_list) if x == user])\n",
    "    \n",
    "    for p in positions:\n",
    "        if len(indices.intersection(set(p)))==3:\n",
    "            return True\n",
    "    return False"
   ]
  },
  {
   "cell_type": "code",
   "execution_count": 35,
   "id": "6191cea6-e98e-4804-83d5-a3278cc2c0ec",
   "metadata": {},
   "outputs": [
    {
     "name": "stdout",
     "output_type": "stream",
     "text": [
      "  0 1 2\n",
      "0 - - -\n",
      "1 - - -\n",
      "2 - - -\n"
     ]
    },
    {
     "name": "stdin",
     "output_type": "stream",
     "text": [
      "Введите координаты:  0 0\n"
     ]
    },
    {
     "name": "stdout",
     "output_type": "stream",
     "text": [
      "  0 1 2\n",
      "0 x - -\n",
      "1 - - -\n",
      "2 - - -\n"
     ]
    },
    {
     "name": "stdin",
     "output_type": "stream",
     "text": [
      "Введите координаты:  0 1\n"
     ]
    },
    {
     "name": "stdout",
     "output_type": "stream",
     "text": [
      "  0 1 2\n",
      "0 x o -\n",
      "1 - - -\n",
      "2 - - -\n"
     ]
    },
    {
     "name": "stdin",
     "output_type": "stream",
     "text": [
      "Введите координаты:  1\n"
     ]
    },
    {
     "name": "stdout",
     "output_type": "stream",
     "text": [
      "Введите две координаты\n"
     ]
    },
    {
     "name": "stdin",
     "output_type": "stream",
     "text": [
      "Введите координаты:  1 1\n"
     ]
    },
    {
     "name": "stdout",
     "output_type": "stream",
     "text": [
      "  0 1 2\n",
      "0 x o -\n",
      "1 - x -\n",
      "2 - - -\n"
     ]
    },
    {
     "name": "stdin",
     "output_type": "stream",
     "text": [
      "Введите координаты:  1 0\n"
     ]
    },
    {
     "name": "stdout",
     "output_type": "stream",
     "text": [
      "  0 1 2\n",
      "0 x o -\n",
      "1 o x -\n",
      "2 - - -\n"
     ]
    },
    {
     "name": "stdin",
     "output_type": "stream",
     "text": [
      "Введите координаты:  2 2\n"
     ]
    },
    {
     "name": "stdout",
     "output_type": "stream",
     "text": [
      "Выиграл x\n",
      "  0 1 2\n",
      "0 x o -\n",
      "1 o x -\n",
      "2 - - x\n"
     ]
    }
   ],
   "source": [
    "field = [['-']*3 for _ in range(3)]\n",
    "count = 0\n",
    "while True:\n",
    "    if count % 2 == 0:\n",
    "        user = 'x'\n",
    "    else:\n",
    "        user = 'o'\n",
    "    show_field(field)\n",
    "    x, y = users_input(field)\n",
    "    field[x][y] = user\n",
    "    if count == 9:\n",
    "        print('Ничья')\n",
    "    if win_v3(field, user):\n",
    "        print(f\"Выиграл {user}\")\n",
    "        show_field(field)\n",
    "        break\n",
    "    count += 1"
   ]
  },
  {
   "cell_type": "code",
   "execution_count": null,
   "id": "0ab9fe0c-56a4-43fd-af7e-a5fa41e9a805",
   "metadata": {},
   "outputs": [],
   "source": []
  }
 ],
 "metadata": {
  "kernelspec": {
   "display_name": "Python 3",
   "language": "python",
   "name": "python3"
  },
  "language_info": {
   "codemirror_mode": {
    "name": "ipython",
    "version": 3
   },
   "file_extension": ".py",
   "mimetype": "text/x-python",
   "name": "python",
   "nbconvert_exporter": "python",
   "pygments_lexer": "ipython3",
   "version": "3.8.5"
  }
 },
 "nbformat": 4,
 "nbformat_minor": 5
}
