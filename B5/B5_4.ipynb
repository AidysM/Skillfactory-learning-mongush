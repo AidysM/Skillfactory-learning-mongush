{
 "cells": [
  {
   "cell_type": "code",
   "execution_count": 1,
   "id": "46650030-bf64-4176-be9a-f095758e8993",
   "metadata": {},
   "outputs": [
    {
     "data": {
      "text/plain": [
       "4.5"
      ]
     },
     "execution_count": 1,
     "metadata": {},
     "output_type": "execute_result"
    }
   ],
   "source": [
    "def linear_solve(a, b):\n",
    "    return b/a\n",
    "linear_solve(2, 9)"
   ]
  },
  {
   "cell_type": "code",
   "execution_count": 2,
   "id": "a2117bc3-c2e7-4b62-8dac-cf8a25148f08",
   "metadata": {},
   "outputs": [
    {
     "ename": "ZeroDivisionError",
     "evalue": "division by zero",
     "output_type": "error",
     "traceback": [
      "\u001b[0;31m---------------------------------------------------------------------------\u001b[0m",
      "\u001b[0;31mZeroDivisionError\u001b[0m                         Traceback (most recent call last)",
      "\u001b[0;32m<ipython-input-2-c5198ec12dee>\u001b[0m in \u001b[0;36m<module>\u001b[0;34m\u001b[0m\n\u001b[1;32m      2\u001b[0m     \u001b[0;32mreturn\u001b[0m \u001b[0mb\u001b[0m\u001b[0;34m/\u001b[0m\u001b[0ma\u001b[0m\u001b[0;34m\u001b[0m\u001b[0;34m\u001b[0m\u001b[0m\n\u001b[1;32m      3\u001b[0m \u001b[0;31m# 0*x = 1\u001b[0m\u001b[0;34m\u001b[0m\u001b[0;34m\u001b[0m\u001b[0;34m\u001b[0m\u001b[0m\n\u001b[0;32m----> 4\u001b[0;31m \u001b[0mprint\u001b[0m\u001b[0;34m(\u001b[0m\u001b[0mlinear_solve\u001b[0m\u001b[0;34m(\u001b[0m\u001b[0;36m0\u001b[0m\u001b[0;34m,\u001b[0m\u001b[0;36m1\u001b[0m\u001b[0;34m)\u001b[0m\u001b[0;34m)\u001b[0m\u001b[0;34m\u001b[0m\u001b[0;34m\u001b[0m\u001b[0m\n\u001b[0m",
      "\u001b[0;32m<ipython-input-2-c5198ec12dee>\u001b[0m in \u001b[0;36mlinear_solve\u001b[0;34m(a, b)\u001b[0m\n\u001b[1;32m      1\u001b[0m \u001b[0;32mdef\u001b[0m \u001b[0mlinear_solve\u001b[0m\u001b[0;34m(\u001b[0m\u001b[0ma\u001b[0m\u001b[0;34m,\u001b[0m \u001b[0mb\u001b[0m\u001b[0;34m)\u001b[0m\u001b[0;34m:\u001b[0m\u001b[0;34m\u001b[0m\u001b[0;34m\u001b[0m\u001b[0m\n\u001b[0;32m----> 2\u001b[0;31m     \u001b[0;32mreturn\u001b[0m \u001b[0mb\u001b[0m\u001b[0;34m/\u001b[0m\u001b[0ma\u001b[0m\u001b[0;34m\u001b[0m\u001b[0;34m\u001b[0m\u001b[0m\n\u001b[0m\u001b[1;32m      3\u001b[0m \u001b[0;31m# 0*x = 1\u001b[0m\u001b[0;34m\u001b[0m\u001b[0;34m\u001b[0m\u001b[0;34m\u001b[0m\u001b[0m\n\u001b[1;32m      4\u001b[0m \u001b[0mprint\u001b[0m\u001b[0;34m(\u001b[0m\u001b[0mlinear_solve\u001b[0m\u001b[0;34m(\u001b[0m\u001b[0;36m0\u001b[0m\u001b[0;34m,\u001b[0m\u001b[0;36m1\u001b[0m\u001b[0;34m)\u001b[0m\u001b[0;34m)\u001b[0m\u001b[0;34m\u001b[0m\u001b[0;34m\u001b[0m\u001b[0m\n",
      "\u001b[0;31mZeroDivisionError\u001b[0m: division by zero"
     ]
    }
   ],
   "source": [
    "def linear_solve(a, b):\n",
    "    return b/a\n",
    "# 0*x = 1\n",
    "print(linear_solve(0,1))"
   ]
  },
  {
   "cell_type": "code",
   "execution_count": 4,
   "id": "86952bc1-0c83-4499-bcd8-6981b024c2b6",
   "metadata": {},
   "outputs": [
    {
     "name": "stdout",
     "output_type": "stream",
     "text": [
      "Нет корней\n"
     ]
    }
   ],
   "source": [
    "def linear_solve(a, b):\n",
    "    if a: # помним, что 0 интерпретируется как False, иначе True\n",
    "        return b/a\n",
    "    else:\n",
    "        return \"Нет корней\"\n",
    "print(linear_solve(0,1))"
   ]
  },
  {
   "cell_type": "code",
   "execution_count": 5,
   "id": "1e41ac50-ba6e-4fe1-bfd7-c8aa0a989fdd",
   "metadata": {},
   "outputs": [
    {
     "name": "stdout",
     "output_type": "stream",
     "text": [
      "Бесконечное количество корней\n"
     ]
    }
   ],
   "source": [
    "def linear_solve(a, b):\n",
    "    if a: \n",
    "        return b/a\n",
    "    elif not a and not b: # снова используем числа в логических выражениях\n",
    "        return \"Бесконечное количество корней\"\n",
    "    else:\n",
    "        return \"Нет корней\"\n",
    "print(linear_solve(0,0))"
   ]
  },
  {
   "cell_type": "code",
   "execution_count": null,
   "id": "3cce5c02-3944-4e54-9055-cb4ca1a38b5d",
   "metadata": {},
   "outputs": [],
   "source": [
    "# a*x**2 + b*x + c = 0 - общий вид уравнения\n",
    "# D = b**2 - 4*a*c - дискриминант\n",
    "# Если D<0, то уравнение не имеет вещественных корней\n",
    "# Если D=0, то уравнение имеет один корень - x = -b/(2*a)\n",
    "# Если D>0, то уравнение имеет два корня\n",
    "# x1 = (-b - D**0.5)/(2*a)\n",
    "# x2 = (-b + D**0.5)/(2*a)\n",
    "#\n",
    "# P.S. D**0.5 - равносильно извлечению квадратного корня"
   ]
  },
  {
   "cell_type": "code",
   "execution_count": null,
   "id": "ad3b28f9-0054-41fb-93e9-53ae56ac280a",
   "metadata": {},
   "outputs": [],
   "source": [
    "def D(a,b,c):\n",
    "    return b**2 - 4*a*c"
   ]
  },
  {
   "cell_type": "code",
   "execution_count": 6,
   "id": "a1dff6bb-8775-478e-89fe-256a1b41daf3",
   "metadata": {},
   "outputs": [],
   "source": [
    "def quadratic_solve(a,b,c):\n",
    "    if D(a,b,c) < 0:\n",
    "        return \"Нет вещественных корней\""
   ]
  },
  {
   "cell_type": "code",
   "execution_count": 7,
   "id": "ff89aee6-d907-4b7d-bda1-960e5d473115",
   "metadata": {},
   "outputs": [],
   "source": [
    "def quadratic_solve(a,b,c):\n",
    "    if D(a,b,c) < 0:\n",
    "        return \"Нет вещественных корней\"\n",
    "    elif D(a,b,c) == 0:\n",
    "        return -b/(2*a)"
   ]
  },
  {
   "cell_type": "code",
   "execution_count": 12,
   "id": "1c3cd417-d8d4-49e8-b80f-feea62f955fd",
   "metadata": {},
   "outputs": [
    {
     "data": {
      "text/plain": [
       "(-2.0, -1.0)"
      ]
     },
     "execution_count": 12,
     "metadata": {},
     "output_type": "execute_result"
    }
   ],
   "source": [
    "def D(a,b,c):\n",
    "    return b**2 - 4*a*c\n",
    "def quadratic_solve(a,b,c):\n",
    "    if D(a,b,c) < 0:\n",
    "        return \"Нет вещественных корней\"\n",
    "    elif D(a,b,c) == 0:\n",
    "        return -b/(2*a)\n",
    "    else:\n",
    "        return (-b-D(a,b,c)**0.5)/(2*a), (-b+D(a,b,c)**0.5)/(2*a)\n",
    "    \n",
    "quadratic_solve(2,6,4)"
   ]
  },
  {
   "cell_type": "markdown",
   "id": "a737eceb-bbf9-4103-a91d-ce363bb678ae",
   "metadata": {},
   "source": [
    "Напишите рекурсивную функцию, находящую минимальный элемент списка без использование циклов и встроенной функции min()."
   ]
  },
  {
   "cell_type": "code",
   "execution_count": 1,
   "id": "68601a33-be2c-4bbc-9e1f-58e6930287a7",
   "metadata": {},
   "outputs": [],
   "source": [
    "def min_list(L):\n",
    "    if len(L) == 1:\n",
    "        return L[0]\n",
    "    return L[0] if L[0] < min_list(L[1:]) else min_list(L[1:])"
   ]
  },
  {
   "cell_type": "markdown",
   "id": "4bce2949-76f6-4c29-a460-4724e5e067ca",
   "metadata": {},
   "source": [
    "Напишите рекурсивную функцию, которая зеркально разворачивает число. Предполагается, что число не содержит нули."
   ]
  },
  {
   "cell_type": "code",
   "execution_count": 2,
   "id": "244bf976-14a1-403c-8cc4-39ddd98172b5",
   "metadata": {},
   "outputs": [],
   "source": [
    "def mirror(a, res=0):\n",
    "    return mirror(a // 10, res*10 + a % 10) if a else res "
   ]
  },
  {
   "cell_type": "markdown",
   "id": "7f3d89d9-0008-4741-bccc-bb9b482f7908",
   "metadata": {},
   "source": [
    "Поработаем над более сложной рекурсивной функцией. Сейчас попробуем реализовать функцию equal(N, S), проверяющую, совпадает ли сумма цифр числа N с числом S. При написании программы следует обратить внимание на то, что, если S стала отрицательной, то необходимо сразу вернуть False."
   ]
  },
  {
   "cell_type": "code",
   "execution_count": 3,
   "id": "b6b35cdb-6552-47d8-bc0c-f7ab9b18fadf",
   "metadata": {},
   "outputs": [],
   "source": [
    "def equal(N, S):\n",
    "    if S < 0:\n",
    "        return False\n",
    "    if N < 10:\n",
    "        return N == S\n",
    "    else:\n",
    "        return equal(N // 10, S - N % 10) "
   ]
  },
  {
   "cell_type": "markdown",
   "id": "8439c84c-50db-4845-92eb-8f54dce0a3b1",
   "metadata": {},
   "source": [
    "Реализуйте функцию-генератор, каждое значение которого — приближение числа e с некоторым числом n."
   ]
  },
  {
   "cell_type": "code",
   "execution_count": 4,
   "id": "fe235b4a-9d88-4519-93fc-51f9373262f7",
   "metadata": {},
   "outputs": [
    {
     "name": "stdout",
     "output_type": "stream",
     "text": [
      "2.7181652432261854\n"
     ]
    }
   ],
   "source": [
    "def e():\n",
    "    n = 1\n",
    "    \n",
    "    while True:\n",
    "        yield (1+1/n)**n\n",
    "        n += 1\n",
    "        \n",
    "last = 0\n",
    "for a in e(): # e() - генератор\n",
    "    if (a - last) < 0.00000001: # ограничение на точность\n",
    "        print(a)\n",
    "        break # после достижения которого - завершаем цикл\n",
    "    else:\n",
    "        last = a # иначе - присваиваем новое значение "
   ]
  },
  {
   "cell_type": "code",
   "execution_count": 9,
   "id": "fccde951-fa9a-421e-a366-24c1d609e162",
   "metadata": {},
   "outputs": [
    {
     "name": "stdout",
     "output_type": "stream",
     "text": [
      "H\n",
      "e\n",
      "l\n",
      "l\n",
      "o\n",
      "!\n"
     ]
    },
    {
     "ename": "StopIteration",
     "evalue": "",
     "output_type": "error",
     "traceback": [
      "\u001b[0;31m---------------------------------------------------------------------------\u001b[0m",
      "\u001b[0;31mStopIteration\u001b[0m                             Traceback (most recent call last)",
      "\u001b[0;32m<ipython-input-9-d3d59f93631a>\u001b[0m in \u001b[0;36m<module>\u001b[0;34m\u001b[0m\n\u001b[1;32m      7\u001b[0m \u001b[0mprint\u001b[0m\u001b[0;34m(\u001b[0m\u001b[0mnext\u001b[0m\u001b[0;34m(\u001b[0m\u001b[0miter_obj\u001b[0m\u001b[0;34m)\u001b[0m\u001b[0;34m)\u001b[0m\u001b[0;34m\u001b[0m\u001b[0;34m\u001b[0m\u001b[0m\n\u001b[1;32m      8\u001b[0m \u001b[0mprint\u001b[0m\u001b[0;34m(\u001b[0m\u001b[0mnext\u001b[0m\u001b[0;34m(\u001b[0m\u001b[0miter_obj\u001b[0m\u001b[0;34m)\u001b[0m\u001b[0;34m)\u001b[0m\u001b[0;34m\u001b[0m\u001b[0;34m\u001b[0m\u001b[0m\n\u001b[0;32m----> 9\u001b[0;31m \u001b[0mprint\u001b[0m\u001b[0;34m(\u001b[0m\u001b[0mnext\u001b[0m\u001b[0;34m(\u001b[0m\u001b[0miter_obj\u001b[0m\u001b[0;34m)\u001b[0m\u001b[0;34m)\u001b[0m\u001b[0;34m\u001b[0m\u001b[0;34m\u001b[0m\u001b[0m\n\u001b[0m",
      "\u001b[0;31mStopIteration\u001b[0m: "
     ]
    }
   ],
   "source": [
    "iter_obj = iter(\"Hello!\")\n",
    "\n",
    "print(next(iter_obj)) \n",
    "print(next(iter_obj)) \n",
    "print(next(iter_obj)) \n",
    "print(next(iter_obj)) \n",
    "print(next(iter_obj)) \n",
    "print(next(iter_obj)) \n",
    "print(next(iter_obj)) \n"
   ]
  },
  {
   "cell_type": "code",
   "execution_count": 10,
   "id": "52378a2f-a9e6-46b5-aaea-c6ba321a01e5",
   "metadata": {},
   "outputs": [
    {
     "name": "stdin",
     "output_type": "stream",
     "text": [
      "Введите Y, если хотите авторизоваться или N, \n",
      "             если хотите продолжить работу как анонимный пользователь:  Y\n"
     ]
    },
    {
     "name": "stdout",
     "output_type": "stream",
     "text": [
      "Пользователь авторизован\n",
      "some data from database\n"
     ]
    }
   ],
   "source": [
    "yesno = input(\"\"\"Введите Y, если хотите авторизоваться или N, \n",
    "             если хотите продолжить работу как анонимный пользователь: \"\"\")\n",
    "\n",
    "auth = yesno == \"Y\"\n",
    "\n",
    "def is_auth(func):\n",
    "    def wrapper():\n",
    "        if auth:\n",
    "            print(\"Пользователь авторизован\")\n",
    "            func()\n",
    "        else:\n",
    "            print(\"Пользователь неавторизован. Функция выполнена не будет\")\n",
    "    return wrapper\n",
    "\n",
    "@is_auth\n",
    "def from_db():\n",
    "    print(\"some data from database\")\n",
    "\n",
    "from_db()\n"
   ]
  },
  {
   "cell_type": "code",
   "execution_count": 14,
   "id": "209a6da4-ee5f-4262-b654-1867590d47ae",
   "metadata": {},
   "outputs": [
    {
     "name": "stdin",
     "output_type": "stream",
     "text": [
      "Введите Y, если хотите авторизоваться или N, \n",
      "             если хотите продолжить работу как анонимный пользователь:  Y\n",
      "Введите ваш username: admin\n"
     ]
    },
    {
     "name": "stdout",
     "output_type": "stream",
     "text": [
      "Пользователь авторизован\n",
      "Авторизован как  admin\n",
      "some data from database\n"
     ]
    }
   ],
   "source": [
    "USERS = ['admin', 'guest', 'director', 'root', 'superstar']\n",
    "\n",
    "yesno = input(\"\"\"Введите Y, если хотите авторизоваться или N, \n",
    "             если хотите продолжить работу как анонимный пользователь: \"\"\")\n",
    "\n",
    "auth = yesno == \"Y\"\n",
    "\n",
    "if auth:\n",
    "    username = input(\"Введите ваш username:\")\n",
    "\n",
    "def is_auth(func):\n",
    "    def wrapper():\n",
    "        if auth:\n",
    "            print(\"Пользователь авторизован\")\n",
    "            func()\n",
    "        else:\n",
    "            print(\"Пользователь неавторизован. Функция выполнена не будет\")\n",
    "    return wrapper    \n",
    "\n",
    "def has_access(func):\n",
    "    def wrapper():\n",
    "        if username in USERS:\n",
    "            print(\"Авторизован как \", username)\n",
    "            func()\n",
    "        else:\n",
    "            print(\"Доступ пользователю \", username, \"запрещен\")\n",
    "    return wrapper\n",
    "    \n",
    "@is_auth\n",
    "@has_access\n",
    "def from_db():\n",
    "    print(\"some data from database\")\n",
    "\n",
    "from_db()\n"
   ]
  },
  {
   "cell_type": "code",
   "execution_count": null,
   "id": "3fe846bd-6a02-4b12-bcab-af05176e7ae4",
   "metadata": {},
   "outputs": [],
   "source": []
  }
 ],
 "metadata": {
  "kernelspec": {
   "display_name": "Python 3",
   "language": "python",
   "name": "python3"
  },
  "language_info": {
   "codemirror_mode": {
    "name": "ipython",
    "version": 3
   },
   "file_extension": ".py",
   "mimetype": "text/x-python",
   "name": "python",
   "nbconvert_exporter": "python",
   "pygments_lexer": "ipython3",
   "version": "3.8.5"
  }
 },
 "nbformat": 4,
 "nbformat_minor": 5
}
