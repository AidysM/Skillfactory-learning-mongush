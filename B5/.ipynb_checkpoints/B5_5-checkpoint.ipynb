{
 "cells": [
  {
   "cell_type": "markdown",
   "id": "0ebd3ee3-e496-4dda-8d98-df76ddfdd6d8",
   "metadata": {},
   "source": [
    "Псевдокод функции map():"
   ]
  },
  {
   "cell_type": "code",
   "execution_count": null,
   "id": "832ab59b-d185-430c-9031-4c9c7a5fcc5b",
   "metadata": {},
   "outputs": [],
   "source": [
    "def map_(func, some_list):\n",
    "    # some_list объект, над которым будет производиться преобразование\n",
    "    # func функция, которая должна выполняться над каждым объектом\n",
    "    outp = []\n",
    "    for i in range(len(some_list)):\n",
    "        outp.append(func(some_list[i]))\n",
    "    return outp"
   ]
  },
  {
   "cell_type": "markdown",
   "id": "16263a3d-e99e-4783-bb8a-6e3d3c17f3ef",
   "metadata": {},
   "source": [
    "Чтобы не использовать такую конструкцию каждый раз, введена встроенная функция:\n",
    "map(function, iter1, iter2, ...)\n",
    "iter1, iter2, ... — может быть 1 и более итерируемых объектов, однако на вход функции должно приходить такое же количество аргументов.\n",
    "function — ссылка на функцию.\n",
    "\n",
    "Но особенность функции map в том, что она возвращает результат вычислений не сразу, а в виде итератора, который в дальнейшем производит «ленивые» вычисления. Чтобы получить список значений, нужно в явном виде привести к нужному типу либо воспользоваться циклом for:\n",
    "print(list(map(pow_, a_list)))  # [1, 4, 9]\n",
    "\n",
    "for i in map(pow_, a_list):\n",
    "   pass"
   ]
  },
  {
   "cell_type": "code",
   "execution_count": 1,
   "id": "e1270030-3fe9-4416-98e7-581b4e78caf7",
   "metadata": {},
   "outputs": [
    {
     "name": "stdout",
     "output_type": "stream",
     "text": [
      "['this', 'is', 'lower', 'string']\n"
     ]
    }
   ],
   "source": [
    "L = ['THIS', 'IS', 'LOWER', 'STRING']\n",
    "\n",
    "print(list(map(str.lower, L)))\n",
    "# ['this', 'is', 'lower', 'string']\n"
   ]
  },
  {
   "cell_type": "markdown",
   "id": "cb12f43f-15a4-4f36-888e-026c539cfeeb",
   "metadata": {},
   "source": [
    "Псевдокод функции filter():"
   ]
  },
  {
   "cell_type": "code",
   "execution_count": 2,
   "id": "842dd0e9-27d0-4897-8b38-62039fc317bb",
   "metadata": {},
   "outputs": [],
   "source": [
    "def filter(func, cont):\n",
    "    outp = []\n",
    "    for x in cont: # проходим циклом по итерируемому объекту\n",
    "        if func(x): # проверяем условие для каждого элемента\n",
    "            outp.append(x) # если True, добавляем в новый список\n",
    "    return outp"
   ]
  },
  {
   "cell_type": "code",
   "execution_count": 3,
   "id": "a428fe25-c233-47fe-9651-916395ebaed4",
   "metadata": {},
   "outputs": [
    {
     "name": "stdout",
     "output_type": "stream",
     "text": [
      "[1, 2]\n"
     ]
    }
   ],
   "source": [
    "# Из заданного списка вывести только положительные элементы\n",
    "def positive(x):\n",
    "    return x > 0  # функция возвращает только True или False\n",
    "\n",
    "result = filter(positive, [-2, -1, 0, 1, -3, 2, -3])\n",
    "\n",
    "# Возвращается итератор, т.е. перечисляйте или приводите к списку\n",
    "print(list(result))   # [1, 2]"
   ]
  },
  {
   "cell_type": "code",
   "execution_count": 4,
   "id": "9ab72752-6596-4878-86d6-3a18ff2a4307",
   "metadata": {},
   "outputs": [
    {
     "name": "stdout",
     "output_type": "stream",
     "text": [
      "[-2, 0, 2]\n"
     ]
    }
   ],
   "source": [
    "def even(x):\n",
    "   return x % 2 == 0\n",
    "\n",
    "result = filter(even, [-2, -1, 0, 1, -3, 2, -3])\n",
    "\n",
    "print(list(result))   # [-2, 0, 2]"
   ]
  },
  {
   "cell_type": "markdown",
   "id": "ce82010c-7932-4c8c-8b55-6572943856ae",
   "metadata": {},
   "source": [
    "Чаще всего генераторы списков более читаемы, чем map и filter, особенно в простых конструкциях."
   ]
  },
  {
   "cell_type": "code",
   "execution_count": 5,
   "id": "0399d0e2-65d7-4eb1-a760-65fede14caa8",
   "metadata": {},
   "outputs": [
    {
     "name": "stdout",
     "output_type": "stream",
     "text": [
      "[-10, -9, -8, -7, -6, -5, -4, -3, -2, -1, 0, 1, 2, 3, 4, 5, 6, 7, 8, 9]\n",
      "[1, 4, 9, 16, 25, 36, 49, 64, 81]\n"
     ]
    }
   ],
   "source": [
    "# map + filter\n",
    "some_list = [i - 10 for i in range(20)]\n",
    "def pow2(x): return x**2\n",
    "def positive(x): return x > 0\n",
    "\n",
    "print(some_list)\n",
    "print(list(map(pow2, filter(positive, some_list))))"
   ]
  },
  {
   "cell_type": "markdown",
   "id": "ed074a89-ace1-460b-a691-462ea0940448",
   "metadata": {},
   "source": [
    "Тоже самое через list comprehension."
   ]
  },
  {
   "cell_type": "code",
   "execution_count": 6,
   "id": "aff9474b-a771-4ee6-bfa3-2a1c96c084f0",
   "metadata": {},
   "outputs": [
    {
     "data": {
      "text/plain": [
       "[1, 4, 9, 16, 25, 36, 49, 64, 81]"
      ]
     },
     "execution_count": 6,
     "metadata": {},
     "output_type": "execute_result"
    }
   ],
   "source": [
    "[i**2 for i in some_list if i > 0]"
   ]
  },
  {
   "cell_type": "markdown",
   "id": "be833f3a-a343-4ab3-a915-a4e54729e1fc",
   "metadata": {},
   "source": [
    "Возникает вопрос, когда использовать map, а когда list comprehension? Как оговаривалось ранее, map работает по принципу ленивых вычислений, а list comprehension возвращает результат вычислений сразу."
   ]
  },
  {
   "cell_type": "code",
   "execution_count": null,
   "id": "f2cd75fe-6ef9-4588-8c47-14bda4dc75cc",
   "metadata": {},
   "outputs": [],
   "source": [
    "map(func, list1)  # итератор, но никаких вычислений не будет произведено\n",
    "list(map(...))  # только здесь появляется объект\n",
    "\n",
    "[func(i) for i in list1]  # сразу готовый объект\n",
    "\n",
    "\n",
    "[func(i) for i in list1] == list(map(func, list1))  # результат один и тот же"
   ]
  },
  {
   "cell_type": "markdown",
   "id": "641857eb-a6dc-46b5-99b5-1f32d04abf0c",
   "metadata": {},
   "source": [
    "Специально для одноразовых функций были сделаны анонимные функции. Объявляются они по ключевому слову lambda."
   ]
  },
  {
   "cell_type": "code",
   "execution_count": 8,
   "id": "b3467f87-3352-4607-9505-7a2177e87bce",
   "metadata": {},
   "outputs": [
    {
     "data": {
      "text/plain": [
       "<function __main__.<lambda>(x1, x2)>"
      ]
     },
     "execution_count": 8,
     "metadata": {},
     "output_type": "execute_result"
    }
   ],
   "source": [
    "# эти две функции выполняют одно и тоже складывают два числа\n",
    "def my_function(x1, x2):  # Обычная функция\n",
    "   return x2 + x1\n",
    "\n",
    "lambda x1, x2: x2 + x1  # Анонимная функция"
   ]
  },
  {
   "cell_type": "markdown",
   "id": "dccea905-d85b-48f6-a417-9e62b960c8ab",
   "metadata": {},
   "source": [
    "Анонимные функции могут содержать в себе только одну инструкцию (выражение), которую они выполняют."
   ]
  },
  {
   "cell_type": "code",
   "execution_count": null,
   "id": "199e91b6-0e21-4d5c-8a22-67b3aa7b96e7",
   "metadata": {},
   "outputs": [],
   "source": [
    "# Возвести первые 10 натуральных чисел в квадрат\n",
    "list(map(lambda x: x ** 2, range(1, 11)))  # правильно\n",
    "# [1, 4, 9, 16, 25, 36, 49, 64, 81, 100]\n",
    "\n",
    "list(map(lambda x: x ** 2; x + 1, range(1, 11)))  #  неправильно, так как lambda содержит две конструкции"
   ]
  },
  {
   "cell_type": "code",
   "execution_count": 10,
   "id": "567e7b1d-fc2c-411f-9abf-2f190ead25b7",
   "metadata": {},
   "outputs": [
    {
     "name": "stdout",
     "output_type": "stream",
     "text": [
      "{1: 'd', 2: 'c', 3: 'b', 4: 'a'}\n"
     ]
    }
   ],
   "source": [
    "d = {2 : \"c\", 1 : \"d\", 4 : \"a\", 3 : \"b\"}\n",
    "\n",
    "# Чтобы отсортировать его по ключам нужно сделать так\n",
    "print(dict(sorted(d.items())))  \n",
    "# {1: 'd', 2: 'c', 3: 'b', 4: 'a'}"
   ]
  },
  {
   "cell_type": "code",
   "execution_count": 11,
   "id": "d47e254a-b9e7-455e-9968-56c6f19a3ab9",
   "metadata": {},
   "outputs": [
    {
     "data": {
      "text/plain": [
       "[(4, 'a'), (3, 'b'), (2, 'c'), (1, 'd')]"
      ]
     },
     "execution_count": 11,
     "metadata": {},
     "output_type": "execute_result"
    }
   ],
   "source": [
    "sorted(d.items(), key=lambda x: x[1])  # сортировка по значению словаря"
   ]
  },
  {
   "cell_type": "markdown",
   "id": "86db8554-ad61-4b32-8951-e90d941807e0",
   "metadata": {},
   "source": [
    "Zadanie 5.5.3"
   ]
  },
  {
   "cell_type": "markdown",
   "id": "a78c64ed-f0c5-43b8-967b-034d3628254d",
   "metadata": {},
   "source": [
    "Предположим у нас есть список с данными о росте и весе людей. Задача — отсортировать их по индексу массы тела. Он вычисляется по формуле: свой рост в метрах возвести в квадрат, потом массу тела в килограммах разделить на полученную цифру."
   ]
  },
  {
   "cell_type": "code",
   "execution_count": 13,
   "id": "30333df7-2303-4b19-a240-9c8991434817",
   "metadata": {},
   "outputs": [
    {
     "data": {
      "text/plain": [
       "[(76, 184), (68, 174), (82, 191), (73, 179), (90, 189)]"
      ]
     },
     "execution_count": 13,
     "metadata": {},
     "output_type": "execute_result"
    }
   ],
   "source": [
    "# (вес, рост)\n",
    "data = [\n",
    "   (82, 191),\n",
    "   (68, 174),\n",
    "   (90, 189),\n",
    "   (73, 179),\n",
    "   (76, 184)\n",
    "]\n",
    "\n",
    "sorted(data, key = lambda x: x[0] / x[1] ** 2)"
   ]
  },
  {
   "cell_type": "markdown",
   "id": "aae7c334-d592-485e-a715-96a713173e30",
   "metadata": {},
   "source": [
    "Zadanie 5.5.4"
   ]
  },
  {
   "cell_type": "markdown",
   "id": "f8ee4a6e-6ac2-44a3-bd4d-a2cad8d0fd18",
   "metadata": {},
   "source": [
    "Из списка в предыдущем задании найти кортеж с минимальным индексом массы тела"
   ]
  },
  {
   "cell_type": "code",
   "execution_count": 14,
   "id": "b449188c-8853-4b5b-9213-5aaab1d74db8",
   "metadata": {},
   "outputs": [
    {
     "name": "stdout",
     "output_type": "stream",
     "text": [
      "(76, 184)\n"
     ]
    }
   ],
   "source": [
    "print(min(data, key=lambda x: x[0] / x[1] ** 2))  # отбор по ключу"
   ]
  },
  {
   "cell_type": "markdown",
   "id": "69a3799c-bf3c-434a-8324-d0c6531c6639",
   "metadata": {},
   "source": [
    "Zadanie 5.5.5"
   ]
  },
  {
   "cell_type": "code",
   "execution_count": 16,
   "id": "4b11bed4-1367-4d91-b9e8-3dc44d31e990",
   "metadata": {},
   "outputs": [
    {
     "name": "stdout",
     "output_type": "stream",
     "text": [
      "[3, 3, 4, 4]\n"
     ]
    }
   ],
   "source": [
    "a = [\"asd\", \"bbd\", \"ddfa\", \"mcsa\"]\n",
    "\n",
    "print([len(x) for x in a])"
   ]
  },
  {
   "cell_type": "code",
   "execution_count": 17,
   "id": "5f3efb1e-df91-463a-ae5a-3c05aae379cf",
   "metadata": {},
   "outputs": [
    {
     "name": "stdout",
     "output_type": "stream",
     "text": [
      "[3, 3, 4, 4]\n"
     ]
    }
   ],
   "source": [
    "print(list(map(lambda x: len(x), a)))"
   ]
  },
  {
   "cell_type": "code",
   "execution_count": 37,
   "id": "0885e324-1b47-4f39-be79-03345a7d6bb2",
   "metadata": {},
   "outputs": [
    {
     "name": "stdout",
     "output_type": "stream",
     "text": [
      "[3, 3, 4, 4]\n"
     ]
    }
   ],
   "source": [
    "a = [\"asd\", \"bbd\", \"ddfa\", \"mcsa\"]\n",
    "print(list(map(len, a)))"
   ]
  },
  {
   "cell_type": "markdown",
   "id": "ecfc5c42-7119-47e8-9e59-062e4bc94ea4",
   "metadata": {},
   "source": [
    "Zadanie 5.5.6"
   ]
  },
  {
   "cell_type": "code",
   "execution_count": 38,
   "id": "e298da40-05eb-4406-932d-3459c92bd65b",
   "metadata": {},
   "outputs": [
    {
     "name": "stdout",
     "output_type": "stream",
     "text": [
      "['ЭТО', 'МАЛЕНЬКИЙ', 'ТЕКСТ', 'ОБИДНО']\n"
     ]
    }
   ],
   "source": [
    "a = [\"это\", \"маленький\", \"текст\", \"обидно\"]\n",
    "\n",
    "print(list(map(str.upper, a)))"
   ]
  },
  {
   "cell_type": "code",
   "execution_count": null,
   "id": "d52d056f-2f1c-43a0-ad85-cdea76fc553d",
   "metadata": {},
   "outputs": [],
   "source": []
  }
 ],
 "metadata": {
  "kernelspec": {
   "display_name": "Python 3",
   "language": "python",
   "name": "python3"
  },
  "language_info": {
   "codemirror_mode": {
    "name": "ipython",
    "version": 3
   },
   "file_extension": ".py",
   "mimetype": "text/x-python",
   "name": "python",
   "nbconvert_exporter": "python",
   "pygments_lexer": "ipython3",
   "version": "3.8.5"
  }
 },
 "nbformat": 4,
 "nbformat_minor": 5
}
