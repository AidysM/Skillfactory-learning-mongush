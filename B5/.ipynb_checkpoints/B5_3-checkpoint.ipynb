{
 "cells": [
  {
   "cell_type": "code",
   "execution_count": 2,
   "id": "91882f8e-25c4-407f-a97b-07ca198ebe96",
   "metadata": {},
   "outputs": [
    {
     "name": "stdout",
     "output_type": "stream",
     "text": [
      "<class 'tuple'>\n"
     ]
    }
   ],
   "source": [
    "some_var = (2,)\n",
    "if some_var is None:\n",
    "    print(\"NoneType\")\n",
    "else:\n",
    "    print(type(some_var))"
   ]
  },
  {
   "cell_type": "code",
   "execution_count": 3,
   "id": "e0c6e73d-6d60-4ad6-97a3-8ca3315f1971",
   "metadata": {},
   "outputs": [
    {
     "name": "stdout",
     "output_type": "stream",
     "text": [
      "1\n"
     ]
    }
   ],
   "source": [
    "a = '' # пустая строка\n",
    "b = a or 1\n",
    "print(b)"
   ]
  },
  {
   "cell_type": "code",
   "execution_count": 4,
   "id": "30d4e57f-292f-4f3d-a816-d7a179e52038",
   "metadata": {},
   "outputs": [
    {
     "name": "stdout",
     "output_type": "stream",
     "text": [
      "[False]\n"
     ]
    }
   ],
   "source": [
    "print( 1 and \"hello\" and [False])\n",
    "# [False]"
   ]
  },
  {
   "cell_type": "code",
   "execution_count": 5,
   "id": "cfd7f8f5-b08d-4fb3-887e-c97ab16bcfa0",
   "metadata": {},
   "outputs": [
    {
     "name": "stdout",
     "output_type": "stream",
     "text": [
      "0\n"
     ]
    }
   ],
   "source": [
    "print(42 and 0 and '' and False)\n",
    "# 0"
   ]
  },
  {
   "cell_type": "code",
   "execution_count": 6,
   "id": "c7237e83-38b0-4628-970e-54dc9e730367",
   "metadata": {},
   "outputs": [
    {
     "name": "stdout",
     "output_type": "stream",
     "text": [
      "3.14\n"
     ]
    }
   ],
   "source": [
    "print([] or 3.14 or False)\n",
    "# 3.14"
   ]
  },
  {
   "cell_type": "code",
   "execution_count": 7,
   "id": "1beddbda-c7a5-4fd8-9e5e-82a21fcb0a84",
   "metadata": {},
   "outputs": [
    {
     "name": "stdout",
     "output_type": "stream",
     "text": [
      "False\n"
     ]
    }
   ],
   "source": [
    "print(0 or '' or False)\n",
    "# False"
   ]
  },
  {
   "cell_type": "code",
   "execution_count": null,
   "id": "ecaa04ce-1297-422d-a55f-ed8c890c1d42",
   "metadata": {},
   "outputs": [],
   "source": [
    "if a is None:\n",
    "    b = 1\n",
    "else:\n",
    "    b = a"
   ]
  },
  {
   "cell_type": "code",
   "execution_count": null,
   "id": "951aff94-ecb2-4b7f-9fd0-5c75ffdf7051",
   "metadata": {},
   "outputs": [],
   "source": [
    "b = a if a is not None else 1"
   ]
  },
  {
   "cell_type": "code",
   "execution_count": null,
   "id": "9e7cedeb-ad4b-4f2f-8354-78546ea9ef22",
   "metadata": {},
   "outputs": [],
   "source": [
    "b = a or 1"
   ]
  },
  {
   "cell_type": "code",
   "execution_count": 8,
   "id": "ce237510-d56a-42ef-a647-11d8cd9ff282",
   "metadata": {},
   "outputs": [
    {
     "name": "stdout",
     "output_type": "stream",
     "text": [
      "foo\n"
     ]
    }
   ],
   "source": [
    "a = \"foo\"\n",
    "b = \"bar\"\n",
    "\n",
    "print(1 and a or b)"
   ]
  },
  {
   "cell_type": "code",
   "execution_count": 9,
   "id": "a25c6923-7eea-4314-a38f-9559bb8f9782",
   "metadata": {},
   "outputs": [
    {
     "name": "stdout",
     "output_type": "stream",
     "text": [
      "bar\n"
     ]
    }
   ],
   "source": [
    "a = \"\"\n",
    "b = \"bar\"\n",
    "\n",
    "print(1 and a or b)"
   ]
  },
  {
   "cell_type": "code",
   "execution_count": 14,
   "id": "4e94058a-bea9-4cf7-9edf-c07a1516851e",
   "metadata": {},
   "outputs": [
    {
     "name": "stdout",
     "output_type": "stream",
     "text": [
      "Обе переменные истинные\n",
      "foo bar\n"
     ]
    }
   ],
   "source": [
    "a = \"foo\"\n",
    "b = \"bar\"\n",
    "# пусть a и b - переменные, которые мы хотим проверить\n",
    "if a and b : # проверка истинности обеих переменных\n",
    "    print(\"Обе переменные истинные\")\n",
    "    print(a,b)"
   ]
  },
  {
   "cell_type": "code",
   "execution_count": 17,
   "id": "1d36ee76-204e-4a8e-8991-da1f2cef3329",
   "metadata": {},
   "outputs": [
    {
     "name": "stdout",
     "output_type": "stream",
     "text": [
      "Обе переменные ложные\n"
     ]
    }
   ],
   "source": [
    "a = \"\"\n",
    "b = \"\"\n",
    "# пусть a и b - переменные, которые мы хотим проверить\n",
    "if a and b:\n",
    "    print(\"Обе переменные истинные\")\n",
    "    print(a,b)\n",
    "elif a or b:\n",
    "    print(\"Одна из переменных истинная\")\n",
    "    print( a or b ) # печать значения одной переменной, которая является истинной\n",
    "else:\n",
    "    print(\"Обе переменные ложные\")"
   ]
  },
  {
   "cell_type": "code",
   "execution_count": 20,
   "id": "ce9d3953-a2e5-4909-87ec-457af62ea39d",
   "metadata": {},
   "outputs": [
    {
     "name": "stdin",
     "output_type": "stream",
     "text": [
      " 120\n"
     ]
    },
    {
     "name": "stdout",
     "output_type": "stream",
     "text": [
      "Число удовлетворяет условиям\n"
     ]
    }
   ],
   "source": [
    "a = int(input())\n",
    "\n",
    "if type(a) == int:\n",
    "    if 100 <= a <= 999:\n",
    "        if a % 2 == 0:\n",
    "            if a % 3 == 0:\n",
    "                print(\"Число удовлетворяет условиям\")"
   ]
  },
  {
   "cell_type": "code",
   "execution_count": 21,
   "id": "58946cff-180f-491a-8632-dcd7a8ad7277",
   "metadata": {},
   "outputs": [
    {
     "name": "stdin",
     "output_type": "stream",
     "text": [
      " 120\n"
     ]
    },
    {
     "name": "stdout",
     "output_type": "stream",
     "text": [
      "Число удовлетворяет условиям\n"
     ]
    }
   ],
   "source": [
    "a = int(input())\n",
    "\n",
    "if type(a) == int and 100 <= a <= 999 and a % 2 == 0 and a % 3 == 0:\n",
    "    print(\"Число удовлетворяет условиям\")"
   ]
  },
  {
   "cell_type": "code",
   "execution_count": 22,
   "id": "ae95e158-faad-4ecf-ac97-e5b3622c7899",
   "metadata": {},
   "outputs": [
    {
     "name": "stdin",
     "output_type": "stream",
     "text": [
      " 120\n"
     ]
    },
    {
     "name": "stdout",
     "output_type": "stream",
     "text": [
      "Число удовлетворяет условиям\n"
     ]
    }
   ],
   "source": [
    "a = int(input())\n",
    "\n",
    "if all([type(a) == int,\n",
    "        100 <= a <= 999,\n",
    "        a % 2 == 0,\n",
    "        a % 3 == 0]):\n",
    "    print(\"Число удовлетворяет условиям\")"
   ]
  },
  {
   "cell_type": "code",
   "execution_count": 23,
   "id": "a24d9b27-7ab2-4de2-a43d-81ad2b28a746",
   "metadata": {},
   "outputs": [
    {
     "name": "stdin",
     "output_type": "stream",
     "text": [
      " 112\n"
     ]
    },
    {
     "name": "stdout",
     "output_type": "stream",
     "text": [
      "Число удовлетворяет условиям\n"
     ]
    }
   ],
   "source": [
    "a = int(input())\n",
    "\n",
    "if any([type(a) == int,\n",
    "        100 <= a <= 999,\n",
    "        a % 2 == 0,\n",
    "        a % 3 == 0]):\n",
    "    print(\"Число удовлетворяет условиям\")"
   ]
  },
  {
   "cell_type": "code",
   "execution_count": 25,
   "id": "85682561-10d3-4be4-b299-90ffa627d0d1",
   "metadata": {},
   "outputs": [
    {
     "name": "stdin",
     "output_type": "stream",
     "text": [
      " 0 2 5\n"
     ]
    },
    {
     "name": "stdout",
     "output_type": "stream",
     "text": [
      "False\n"
     ]
    }
   ],
   "source": [
    "L = list(map(int, input().split()))\n",
    "\n",
    "print(all(L))"
   ]
  },
  {
   "cell_type": "code",
   "execution_count": 26,
   "id": "8869cca1-5107-46da-8b36-e63b99c446fd",
   "metadata": {},
   "outputs": [
    {
     "name": "stdin",
     "output_type": "stream",
     "text": [
      " 0 0 0\n"
     ]
    },
    {
     "name": "stdout",
     "output_type": "stream",
     "text": [
      "True\n"
     ]
    }
   ],
   "source": [
    "L = list(map(int, input().split()))\n",
    "\n",
    "print(not any(L))"
   ]
  },
  {
   "cell_type": "code",
   "execution_count": 28,
   "id": "29657e78-cd4c-4485-bc15-a84bc5ca47a3",
   "metadata": {},
   "outputs": [
    {
     "name": "stdout",
     "output_type": "stream",
     "text": [
      "[1, 4, 9, 16, 25, 36, 49, 64, 81, 100]\n"
     ]
    }
   ],
   "source": [
    "squares = [i**2 for i in range(1,11)]\n",
    "# [1, 4, 9, 16, 25, 36, 49, 64, 81, 100]\n",
    "print(squares)"
   ]
  },
  {
   "cell_type": "code",
   "execution_count": 29,
   "id": "dbc3983a-4f8f-4d17-b33a-6bf284d78d3b",
   "metadata": {},
   "outputs": [
    {
     "name": "stdout",
     "output_type": "stream",
     "text": [
      "[1, 9, 25, 49, 81]\n"
     ]
    }
   ],
   "source": [
    "squares = [i**2 for i in range(1,11) if i % 2 == 1]\n",
    "# [1, 9, 25, 49, 81]\n",
    "print(squares)"
   ]
  },
  {
   "cell_type": "code",
   "execution_count": 30,
   "id": "b792d9ce-5301-4379-b568-e3fb64f6d600",
   "metadata": {},
   "outputs": [
    {
     "name": "stdout",
     "output_type": "stream",
     "text": [
      "[(1, 1), (2, 4), (3, 9), (4, 16), (5, 25), (6, 36), (7, 49), (8, 64), (9, 81), (10, 100)]\n"
     ]
    }
   ],
   "source": [
    "list_tuples = [(i, i**2) for i in range(1,11)]\n",
    "#[(1, 1),\n",
    "# (2, 4),\n",
    "# (3, 9),\n",
    "# (4, 16),\n",
    "# (5, 25),\n",
    "# (6, 36),\n",
    "# (7, 49),\n",
    "# (8, 64),\n",
    "# (9, 81),\n",
    "# (10, 100)]\n",
    "print(list_tuples)"
   ]
  },
  {
   "cell_type": "code",
   "execution_count": 31,
   "id": "61aef2d8-a9f4-4008-b886-bfd8904880f0",
   "metadata": {},
   "outputs": [
    {
     "name": "stdout",
     "output_type": "stream",
     "text": [
      "[[0, 1, 2, 3, 4], [1, 2, 3, 4, 5], [2, 3, 4, 5, 6], [3, 4, 5, 6, 7], [4, 5, 6, 7, 8]]\n"
     ]
    }
   ],
   "source": [
    "M = [[i+j for j in range(5)] for i in range(5)]\n",
    "#[[0, 1, 2, 3, 4],\n",
    "# [1, 2, 3, 4, 5],\n",
    "# [2, 3, 4, 5, 6],\n",
    "# [3, 4, 5, 6, 7],\n",
    "# [4, 5, 6, 7, 8]]\n",
    "print(M)"
   ]
  },
  {
   "cell_type": "code",
   "execution_count": 32,
   "id": "f0859f84-e42e-481f-adef-3d8e0fb0b11d",
   "metadata": {},
   "outputs": [
    {
     "name": "stdout",
     "output_type": "stream",
     "text": [
      "[[1, 2, 3, 4, 5, 6, 7, 8, 9, 10], [2, 4, 6, 8, 10, 12, 14, 16, 18, 20], [3, 6, 9, 12, 15, 18, 21, 24, 27, 30], [4, 8, 12, 16, 20, 24, 28, 32, 36, 40], [5, 10, 15, 20, 25, 30, 35, 40, 45, 50], [6, 12, 18, 24, 30, 36, 42, 48, 54, 60], [7, 14, 21, 28, 35, 42, 49, 56, 63, 70], [8, 16, 24, 32, 40, 48, 56, 64, 72, 80], [9, 18, 27, 36, 45, 54, 63, 72, 81, 90], [10, 20, 30, 40, 50, 60, 70, 80, 90, 100]]\n"
     ]
    }
   ],
   "source": [
    "T = [[i*j for j in range(1,11)] for i in range(1,11)]\n",
    "print(T)"
   ]
  },
  {
   "cell_type": "code",
   "execution_count": 33,
   "id": "852d291b-11dd-4835-9bab-e1bb8969e7ab",
   "metadata": {},
   "outputs": [
    {
     "name": "stdin",
     "output_type": "stream",
     "text": [
      " 1\n",
      " 3\n",
      " 2\n",
      " 4\n",
      " 5\n"
     ]
    },
    {
     "name": "stdout",
     "output_type": "stream",
     "text": [
      "['1', '3', '2', '4', '5']\n"
     ]
    }
   ],
   "source": [
    "L = [input() for i in range(5)]\n",
    "print(L)"
   ]
  },
  {
   "cell_type": "code",
   "execution_count": 34,
   "id": "56c46ede-5c00-4eee-94d2-16fedca8630c",
   "metadata": {},
   "outputs": [
    {
     "name": "stdin",
     "output_type": "stream",
     "text": [
      " 2\n",
      " 3\n",
      " 4\n",
      " 1\n",
      " 4\n"
     ]
    },
    {
     "name": "stdout",
     "output_type": "stream",
     "text": [
      "[2, 3, 4, 1, 4]\n"
     ]
    }
   ],
   "source": [
    "L = [int(input()) for i in range(5)]\n",
    "print(L)"
   ]
  },
  {
   "cell_type": "code",
   "execution_count": 35,
   "id": "1c3406ed-b13e-4896-9e5c-815d3fb461ea",
   "metadata": {},
   "outputs": [
    {
     "name": "stdin",
     "output_type": "stream",
     "text": [
      " 2\n",
      " 3\n",
      " 5\n",
      " 4\n",
      " 1\n"
     ]
    },
    {
     "name": "stdout",
     "output_type": "stream",
     "text": [
      "[True, False, False, True, False]\n"
     ]
    }
   ],
   "source": [
    "L = [int(input()) % 2 == 0 for i in range(5)]\n",
    "print(L)"
   ]
  },
  {
   "cell_type": "code",
   "execution_count": 38,
   "id": "d0d3c3e5-8712-423e-bb76-b95e5c0e4e5f",
   "metadata": {},
   "outputs": [
    {
     "name": "stdin",
     "output_type": "stream",
     "text": [
      " 1\n",
      " 2\n",
      " 3\n",
      " 5\n",
      " 7\n"
     ]
    },
    {
     "name": "stdout",
     "output_type": "stream",
     "text": [
      "True\n"
     ]
    }
   ],
   "source": [
    "L = [int(input()) % 2 == 0 for i in range(5)]\n",
    "print(any(L))"
   ]
  },
  {
   "cell_type": "code",
   "execution_count": 39,
   "id": "8cac56dd-33a2-4bf3-aa6e-6ca2d10f43e6",
   "metadata": {},
   "outputs": [
    {
     "name": "stdout",
     "output_type": "stream",
     "text": [
      "[0, 9, 16, 21, 24, 25, 24, 21, 16, 9]\n"
     ]
    }
   ],
   "source": [
    "L = [i for i in range(10)]\n",
    "# 0 1 2 3 4 5 6 7 8 9\n",
    "M = [i for i in range(10,0,-1)]\n",
    "# 10 9 8 7 6 5 4 3 2 1\n",
    "\n",
    "# он должен выглядеть так\n",
    "# 0 9 16 21 24 25 24 21 16 9\n",
    "\n",
    "N = [ ]\n",
    "\n",
    "for i in range(10):\n",
    "    N.append(L[i] * M[i])\n",
    "print(N)"
   ]
  },
  {
   "cell_type": "code",
   "execution_count": 40,
   "id": "06532291-ab5b-4d56-a7b9-aed00798dbf7",
   "metadata": {},
   "outputs": [
    {
     "name": "stdout",
     "output_type": "stream",
     "text": [
      "(0, 10)\n",
      "(1, 9)\n",
      "(2, 8)\n",
      "(3, 7)\n",
      "(4, 6)\n",
      "(5, 5)\n",
      "(6, 4)\n",
      "(7, 3)\n",
      "(8, 2)\n",
      "(9, 1)\n"
     ]
    }
   ],
   "source": [
    "for a in zip(L,M):\n",
    "    print(a)\n",
    "#(0, 10)\n",
    "#(1, 9)\n",
    "#(2, 8)\n",
    "#(3, 7)\n",
    "#(4, 6)\n",
    "#(5, 5)\n",
    "#(6, 4)\n",
    "#(7, 3)\n",
    "#(8, 2)\n",
    "#(9, 1)"
   ]
  },
  {
   "cell_type": "code",
   "execution_count": 41,
   "id": "5bc1e2fd-c4ce-49c5-bf50-3bb45fce7d15",
   "metadata": {},
   "outputs": [
    {
     "name": "stdout",
     "output_type": "stream",
     "text": [
      "a = 0 b = 10\n",
      "a = 1 b = 9\n",
      "a = 2 b = 8\n",
      "a = 3 b = 7\n",
      "a = 4 b = 6\n",
      "a = 5 b = 5\n",
      "a = 6 b = 4\n",
      "a = 7 b = 3\n",
      "a = 8 b = 2\n",
      "a = 9 b = 1\n"
     ]
    }
   ],
   "source": [
    "for a, b in zip(L,M):\n",
    "    print('a =', a, 'b =', b)\n",
    "#a = 0 b = 10\n",
    "#a = 1 b = 9\n",
    "#a = 2 b = 8\n",
    "#a = 3 b = 7\n",
    "#a = 4 b = 6\n",
    "#a = 5 b = 5\n",
    "#a = 6 b = 4\n",
    "#a = 7 b = 3\n",
    "#a = 8 b = 2\n",
    "#a = 9 b = 1\n"
   ]
  },
  {
   "cell_type": "code",
   "execution_count": 42,
   "id": "752c46ab-2832-4a1d-8687-01a3784cf48d",
   "metadata": {},
   "outputs": [
    {
     "name": "stdout",
     "output_type": "stream",
     "text": [
      "[0, 9, 16, 21, 24, 25, 24, 21, 16, 9]\n"
     ]
    }
   ],
   "source": [
    "N = [a*b for a,b in zip(L,M)]\n",
    "print(N)"
   ]
  },
  {
   "cell_type": "code",
   "execution_count": 43,
   "id": "c0c17989-fa84-48c7-8cf4-9ef071a08851",
   "metadata": {},
   "outputs": [
    {
     "name": "stdin",
     "output_type": "stream",
     "text": [
      " aaabbccccdaa\n"
     ]
    },
    {
     "name": "stdout",
     "output_type": "stream",
     "text": [
      "a3b2c4d1a2\n"
     ]
    }
   ],
   "source": [
    "text = input() # получаем строку\n",
    "\n",
    "last = text[0] # сохраняем первый символ\n",
    "count = 0 # заводим счетчик\n",
    "result = '' # и результирующую строку\n",
    "\n",
    "for c in text:\n",
    "    if c == last: # если символ совпадает с сохраненным, \n",
    "        count += 1 # то увеличиваем счетчик\n",
    "    else:\n",
    "        result += last + str(count) # иначе - записываем в результат\n",
    "        last = c # и обновляем сохраненный символ с его счетчиком\n",
    "        count = 1\n",
    "        \n",
    "result += last + str(count) # и добавляем в результат последний символ\n",
    "print(result)\n"
   ]
  },
  {
   "cell_type": "code",
   "execution_count": null,
   "id": "c4510b71-6e6b-4bc5-8557-b2495e8d05b4",
   "metadata": {},
   "outputs": [],
   "source": []
  }
 ],
 "metadata": {
  "kernelspec": {
   "display_name": "Python 3",
   "language": "python",
   "name": "python3"
  },
  "language_info": {
   "codemirror_mode": {
    "name": "ipython",
    "version": 3
   },
   "file_extension": ".py",
   "mimetype": "text/x-python",
   "name": "python",
   "nbconvert_exporter": "python",
   "pygments_lexer": "ipython3",
   "version": "3.8.5"
  }
 },
 "nbformat": 4,
 "nbformat_minor": 5
}
