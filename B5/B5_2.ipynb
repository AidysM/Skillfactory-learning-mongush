{
 "cells": [
  {
   "cell_type": "code",
   "execution_count": 1,
   "id": "cec77e32-b011-4d7d-8a1e-0d4077e75cf9",
   "metadata": {},
   "outputs": [
    {
     "name": "stdout",
     "output_type": "stream",
     "text": [
      "140313629725760\n",
      "140313629725760\n"
     ]
    }
   ],
   "source": [
    "L = ['a', 'b', 'c']\n",
    "print(id(L))\n",
    "\n",
    "L.append('d')\n",
    "print(id(L))"
   ]
  },
  {
   "cell_type": "code",
   "execution_count": 3,
   "id": "9365ffd5-732e-4b89-a29f-13211291d8cc",
   "metadata": {},
   "outputs": [
    {
     "name": "stdout",
     "output_type": "stream",
     "text": [
      "9785024\n",
      "9785024\n",
      "0\n"
     ]
    }
   ],
   "source": [
    "a = 5\n",
    "b = 3+2\n",
    "print(id(a))\n",
    "print(id(b))\n",
    "print(id(a)-id(b))"
   ]
  },
  {
   "cell_type": "code",
   "execution_count": 4,
   "id": "fbc989cc-8626-4af9-a1be-4f0a2fb78611",
   "metadata": {},
   "outputs": [
    {
     "name": "stdout",
     "output_type": "stream",
     "text": [
      "257\n"
     ]
    }
   ],
   "source": [
    "a = 0\n",
    "b = 0\n",
    "\n",
    "while id(a) == id(b):\n",
    "    a += 1\n",
    "    b += 1\n",
    "\n",
    "print(a)"
   ]
  },
  {
   "cell_type": "code",
   "execution_count": 5,
   "id": "1cb1061d-8ce8-4a72-a647-b721622e6193",
   "metadata": {},
   "outputs": [
    {
     "name": "stdout",
     "output_type": "stream",
     "text": [
      "-6\n"
     ]
    }
   ],
   "source": [
    "a = 0\n",
    "b = 0\n",
    "\n",
    "while id(a) == id(b):\n",
    "    a -= 1\n",
    "    b -= 1\n",
    "\n",
    "print(a)"
   ]
  },
  {
   "cell_type": "code",
   "execution_count": 6,
   "id": "a268648d-a7a5-4ed5-bcc6-95240fb4bf72",
   "metadata": {},
   "outputs": [
    {
     "name": "stdout",
     "output_type": "stream",
     "text": [
      "True\n",
      "True\n"
     ]
    }
   ],
   "source": [
    "a = 42\n",
    "b = 42\n",
    "\n",
    "print(a == b)\n",
    "# True\n",
    "\n",
    "print(a is b)\n",
    "# True"
   ]
  },
  {
   "cell_type": "code",
   "execution_count": 7,
   "id": "9696cd55-5e2f-4637-beb6-061e2ee44726",
   "metadata": {},
   "outputs": [
    {
     "name": "stdout",
     "output_type": "stream",
     "text": [
      "True\n",
      "False\n"
     ]
    }
   ],
   "source": [
    "c = 123456789\n",
    "d = 123456789\n",
    "\n",
    "print(c == d)\n",
    "# True\n",
    "\n",
    "print(c is d)\n",
    "# False"
   ]
  },
  {
   "cell_type": "code",
   "execution_count": 8,
   "id": "f3b47ada-ed7b-40b2-93b0-811ffd1cf3ec",
   "metadata": {},
   "outputs": [
    {
     "name": "stdout",
     "output_type": "stream",
     "text": [
      "True\n"
     ]
    }
   ],
   "source": [
    "L = ['Hello', 'world']\n",
    "M = L\n",
    "\n",
    "print(M is L)\n",
    "# True"
   ]
  },
  {
   "cell_type": "code",
   "execution_count": 9,
   "id": "5bf2bbad-4e18-4aba-9e02-c4289c831fb3",
   "metadata": {},
   "outputs": [
    {
     "name": "stdout",
     "output_type": "stream",
     "text": [
      "['Hello', 'world', '!']\n"
     ]
    }
   ],
   "source": [
    "M.append('!')\n",
    "\n",
    "print(L)\n",
    "# ['Hello', 'world', '!']"
   ]
  },
  {
   "cell_type": "code",
   "execution_count": 10,
   "id": "fad959ef-415a-4fd3-952b-d9013a9b3b34",
   "metadata": {},
   "outputs": [
    {
     "name": "stdout",
     "output_type": "stream",
     "text": [
      "False\n"
     ]
    }
   ],
   "source": [
    "M = L.copy()\n",
    "\n",
    "print(M is L)\n",
    "# False"
   ]
  },
  {
   "cell_type": "code",
   "execution_count": 11,
   "id": "1068b594-9f21-466b-89d8-e56c9f05b063",
   "metadata": {},
   "outputs": [
    {
     "name": "stdout",
     "output_type": "stream",
     "text": [
      "('Галерея', 'Санкт-Петербург', 'Лиговский пр., 30', ['H&M', 'Zara', 'Uniqlo'])\n"
     ]
    }
   ],
   "source": [
    "shopping_center = (\"Галерея\", \"Санкт-Петербург\", \"Лиговский пр., 30\", [\"H&M\", \"Zara\"])\n",
    "\n",
    "shopping_center[-1].append(\"Uniqlo\")\n",
    "\n",
    "print(shopping_center)\n",
    "# ('Галерея', 'Санкт-Петербург', 'Лиговский пр., 30', ['H&M', 'Zara', 'Uniqlo'])"
   ]
  },
  {
   "cell_type": "code",
   "execution_count": 12,
   "id": "92c4fcbf-7448-49ce-b02a-f648da4e9292",
   "metadata": {},
   "outputs": [
    {
     "name": "stdout",
     "output_type": "stream",
     "text": [
      "True\n"
     ]
    }
   ],
   "source": [
    "shopping_center = (\"Галерея\", \"Санкт-Петербург\", \"Лиговский пр., 30\", [\"H&M\", \"Zara\"])\n",
    "list_id_before = id(shopping_center[-1])\n",
    "\n",
    "shopping_center[-1].append(\"Uniqlo\")\n",
    "list_id_after = id(shopping_center[-1])\n",
    "\n",
    "print(list_id_before == list_id_after)"
   ]
  },
  {
   "cell_type": "code",
   "execution_count": null,
   "id": "535557c2-d861-4c21-b775-bdb75be2f3e2",
   "metadata": {},
   "outputs": [],
   "source": [
    "a = {'a', 'b', 'c', 'd'} # используя синтаксис { }"
   ]
  },
  {
   "cell_type": "code",
   "execution_count": 1,
   "id": "89da02f5-05ae-4e10-89f6-c2384fb82048",
   "metadata": {},
   "outputs": [
    {
     "name": "stdout",
     "output_type": "stream",
     "text": [
      "{1, 2, 3}\n"
     ]
    }
   ],
   "source": [
    "L = [1,1,2,3,2]\n",
    "\n",
    "b = set(L)\n",
    "\n",
    "print(b)\n",
    "# {1,2,3}"
   ]
  },
  {
   "cell_type": "code",
   "execution_count": 2,
   "id": "6b4c9bef-2191-41d9-b7cb-89e2c84f12b7",
   "metadata": {},
   "outputs": [
    {
     "name": "stdout",
     "output_type": "stream",
     "text": [
      "[1, 2, 3]\n"
     ]
    }
   ],
   "source": [
    "b_list = list(b)\n",
    "\n",
    "print(b_list)\n",
    "# [1,2,3]\n"
   ]
  },
  {
   "cell_type": "code",
   "execution_count": 3,
   "id": "1f878d98-7fa3-4189-ad8a-f959ee42fcb5",
   "metadata": {},
   "outputs": [
    {
     "name": "stdout",
     "output_type": "stream",
     "text": [
      "[1, 2, 3]\n"
     ]
    }
   ],
   "source": [
    "c = list(set(L))\n",
    "\n",
    "print(c)\n",
    "# [1,2,3]"
   ]
  },
  {
   "cell_type": "code",
   "execution_count": 7,
   "id": "d1b81572-6c27-4f94-b8b0-fbfad16380a9",
   "metadata": {},
   "outputs": [
    {
     "name": "stdin",
     "output_type": "stream",
     "text": [
      "Введите текст: The Zen of Python Beautiful is better than ugly. Explicit is better than implicit. Simple is better than complex. Complex is better than complicated. Flat is better than nested. Sparse is better than dense. Readability counts. Special cases aren't special enough to break the rules. Although practicality beats purity. Errors should never pass silently. Unless explicitly silenced. In the face of ambiguity, refuse the temptation to guess. There should be one-- and preferably only one --obvious way to do it. Although that way may not be obvious at first unless you're Dutch. Now is better than never. Although never is often better than *right* now. If the implementation is hard to explain, it's a bad idea. If the implementation is easy to explain, it may be a good idea. Namespaces are one honking great idea -- let's do more of those!\n"
     ]
    },
    {
     "name": "stdout",
     "output_type": "stream",
     "text": [
      "Количество уникальных символов:  44\n"
     ]
    }
   ],
   "source": [
    "text = input(\"Введите текст:\")\n",
    "\n",
    "unique = set(text)\n",
    "\n",
    "print(\"Количество уникальных символов: \", len(unique))"
   ]
  },
  {
   "cell_type": "code",
   "execution_count": 10,
   "id": "b1764f88-59c1-4fc6-b666-a25d1ad3a491",
   "metadata": {},
   "outputs": [
    {
     "name": "stdout",
     "output_type": "stream",
     "text": [
      "Количество уникальных символов:  45\n"
     ]
    }
   ],
   "source": [
    "text = '''The Zen of Python\n",
    "Beautiful is better than ugly.\n",
    "Explicit is better than implicit.\n",
    "Simple is better than complex.\n",
    "Complex is better than complicated.\n",
    "Flat is better than nested.\n",
    "Sparse is better than dense.\n",
    "Readability counts.\n",
    "Special cases aren't special enough to break the rules.\n",
    "Although practicality beats purity.\n",
    "Errors should never pass silently.\n",
    "Unless explicitly silenced.\n",
    "In the face of ambiguity, refuse the temptation to guess.\n",
    "There should be one-- and preferably only one --obvious way to do it.\n",
    "Although that way may not be obvious at first unless you're Dutch.\n",
    "Now is better than never.\n",
    "Although never is often better than *right* now.\n",
    "If the implementation is hard to explain, it's a bad idea.\n",
    "If the implementation is easy to explain, it may be a good idea.\n",
    "Namespaces are one honking great idea -- let's do more of those!'''\n",
    "\n",
    "unique = set(text)\n",
    "\n",
    "print(\"Количество уникальных символов: \", len(unique))"
   ]
  },
  {
   "cell_type": "code",
   "execution_count": 11,
   "id": "2857e2a6-5a04-4c1d-b68c-8870f75080d9",
   "metadata": {},
   "outputs": [
    {
     "name": "stdout",
     "output_type": "stream",
     "text": [
      "{'Иванов', 'Васильев'}\n"
     ]
    }
   ],
   "source": [
    "abons = {\"Иванов\", \"Петров\", \"Васильев\", \"Антонов\"}\n",
    "\n",
    "debtors = {\"Петров\", \"Антонов\"}\n",
    "\n",
    "non_debtors = abons.difference(debtors)\n",
    "\n",
    "print(non_debtors)\n",
    "# {'Васильев', 'Иванов'}"
   ]
  },
  {
   "cell_type": "code",
   "execution_count": 14,
   "id": "a3e1a57c-df76-4463-879b-240483e54201",
   "metadata": {},
   "outputs": [
    {
     "name": "stdin",
     "output_type": "stream",
     "text": [
      "Введите первую строку:  ASDF\n",
      "Введите вторую строку:  ASDFGG\n"
     ]
    },
    {
     "name": "stdout",
     "output_type": "stream",
     "text": [
      "{'A', 'S', 'D', 'F'}\n"
     ]
    }
   ],
   "source": [
    "a = input(\"Введите первую строку: \")\n",
    "b = input(\"Введите вторую строку: \")\n",
    "\n",
    "a_set, b_set = set(a), set(b) # используем множественное присваивание\n",
    "\n",
    "a_and_b = a_set.intersection(b_set)\n",
    "\n",
    "print(a_and_b)"
   ]
  },
  {
   "cell_type": "code",
   "execution_count": 8,
   "id": "86f27fd2-5962-4d78-a3a5-41953186cc70",
   "metadata": {},
   "outputs": [
    {
     "name": "stdout",
     "output_type": "stream",
     "text": [
      "{'1', '5', '7', '10', '12', '3'}\n",
      "[1, 5, 7, 10, 12, 3]\n"
     ]
    }
   ],
   "source": [
    "a = \"1 2 3 4 5 6 7 8\"\n",
    "b = \"2 4 6 8 10 12\"\n",
    "A = a.split(\" \")\n",
    "B = b.split(\" \")\n",
    "\n",
    "a_set, b_set = set(A), set(B) # используем множественное присваивание\n",
    "\n",
    "a_and_b = a_set.symmetric_difference(b_set)\n",
    "\n",
    "print(a_and_b)\n",
    "\n",
    "C = list(a_and_b)\n",
    "D = list(map(int, C))\n",
    "#n = C.count()\n",
    "#for i in n:\n",
    "#    c[i] = int(C[i])\n",
    "#    D.append(c[i])\n",
    "    \n",
    "print(D)"
   ]
  },
  {
   "cell_type": "code",
   "execution_count": null,
   "id": "74390b57-3e37-4697-ab89-40c41247c33d",
   "metadata": {},
   "outputs": [],
   "source": []
  }
 ],
 "metadata": {
  "kernelspec": {
   "display_name": "Python 3",
   "language": "python",
   "name": "python3"
  },
  "language_info": {
   "codemirror_mode": {
    "name": "ipython",
    "version": 3
   },
   "file_extension": ".py",
   "mimetype": "text/x-python",
   "name": "python",
   "nbconvert_exporter": "python",
   "pygments_lexer": "ipython3",
   "version": "3.8.5"
  }
 },
 "nbformat": 4,
 "nbformat_minor": 5
}
