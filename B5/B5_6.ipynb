{
 "cells": [
  {
   "cell_type": "code",
   "execution_count": null,
   "id": "21226ce4-3e17-4ca2-9913-d6fe7921c4d0",
   "metadata": {},
   "outputs": [],
   "source": [
    "print(\"Игра крестики и нолики\")\n",
    "print(\"  0 1 2 - ось x\")\n",
    "for i in range(0, 3):\n",
    "    print(i, \"_ _ _\")\n",
    "    \n",
    "print(\"Два игрока вводят координаты заполняемых полей по очереди:\")\n",
    "gamer = ('Игрок 1', 'Игрок 2')\n",
    "Pole = [[]]\n",
    "for n in range(0, 9):\n",
    "    if (n + 2) % 2 == 0:\n",
    "        n1 = 0\n",
    "        print(f\"Игрок 1, ваш\", n1 + 1, \"-й ход.\")\n",
    "        n1 += 1\n",
    "    else:\n",
    "        n2 = 0\n",
    "        print(f\"Игрок 2, ваш\", n2 + 1,\"-й ход.\")\n",
    "        n2 += 1\n",
    "    x = input(\"Введите x:\")\n",
    "    y = input(\"Введите y:\")\n",
    "    Pole[x][y] = X"
   ]
  },
  {
   "cell_type": "code",
   "execution_count": null,
   "id": "94a4e6da-8524-4997-964a-47dc64b3cfa1",
   "metadata": {},
   "outputs": [],
   "source": []
  }
 ],
 "metadata": {
  "kernelspec": {
   "display_name": "Python 3",
   "language": "python",
   "name": "python3"
  },
  "language_info": {
   "codemirror_mode": {
    "name": "ipython",
    "version": 3
   },
   "file_extension": ".py",
   "mimetype": "text/x-python",
   "name": "python",
   "nbconvert_exporter": "python",
   "pygments_lexer": "ipython3",
   "version": "3.8.5"
  }
 },
 "nbformat": 4,
 "nbformat_minor": 5
}
