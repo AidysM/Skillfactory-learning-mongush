{
 "cells": [
  {
   "cell_type": "code",
   "execution_count": 1,
   "id": "bbf021a0-748c-4b30-8132-6c64372964ed",
   "metadata": {},
   "outputs": [
    {
     "name": "stdout",
     "output_type": "stream",
     "text": [
      "b'<p>Bacon ipsum dolor amet fatback cow rump bresaola turkey.  Burgdoggen venison pancetta filet mignon tail, meatloaf pork tongue flank.  Andouille picanha prosciutto tri-tip.  Flank bacon jerky, t-bone leberkas frankfurter porchetta meatloaf bresaola brisket.  Buffalo boudin burgdoggen, pastrami spare ribs hamburger sirloin corned beef pork belly meatball jowl.  Spare ribs cupim doner strip steak, beef ribs bresaola short ribs meatloaf tongue ball tip pig andouille rump.</p>\\n<p>Boudin kielbasa ground round ham meatball prosciutto, jerky porchetta rump pig hamburger short ribs.  Biltong spare ribs drumstick alcatra, pork pork loin filet mignon shank fatback capicola buffalo tongue bresaola meatball.  Boudin short ribs kevin, rump ham hock doner porchetta sausage jerky.  Brisket ball tip prosciutto, tongue chislic pig alcatra ham hock pork chop leberkas capicola short ribs strip steak chicken.</p>\\n<p>Chicken hamburger drumstick pork biltong corned beef andouille leberkas ground round porchetta brisket beef ribs strip steak.  Beef ribs pork belly spare ribs frankfurter pancetta andouille ground round jerky sausage chicken filet mignon pork loin pig.  Rump meatball tenderloin landjaeger.  Tri-tip strip steak salami ball tip tongue spare ribs.  Strip steak kielbasa chislic, sausage buffalo shank leberkas.</p>\\n'\n"
     ]
    }
   ],
   "source": [
    "import requests\n",
    " \n",
    " \n",
    "r = requests.get('https://baconipsum.com/api/?type=all-meat&paras=3&start-with-lorem=1&format=html') # делаем запрос на сервер по переданному адресу\n",
    "print(r.content)"
   ]
  },
  {
   "cell_type": "code",
   "execution_count": 2,
   "id": "ff90af39-4913-4a14-804d-9e0504ec60b8",
   "metadata": {},
   "outputs": [
    {
     "name": "stdout",
     "output_type": "stream",
     "text": [
      "200\n"
     ]
    }
   ],
   "source": [
    "import requests\n",
    " \n",
    " \n",
    "r = requests.get('https://baconipsum.com/api/?type=all-meat&paras=3&start-with-lorem=1&format=html')\n",
    "print(r.status_code) # узнаем статус полученного ответа"
   ]
  },
  {
   "cell_type": "markdown",
   "id": "2633fba6-c70c-4caa-9f3b-74b008e186cc",
   "metadata": {},
   "source": [
    "Информацию с сайта мы можем получать не только в виде HTML, но и формате JSON."
   ]
  },
  {
   "cell_type": "markdown",
   "id": "fefbd02b-e5e9-4228-9ce0-f15bb31ca3d2",
   "metadata": {},
   "source": [
    "JSON переводится как JavaScriptObjectNotation."
   ]
  },
  {
   "cell_type": "code",
   "execution_count": 3,
   "id": "be4d561b-67e0-4ecc-b620-e94da7c3506f",
   "metadata": {},
   "outputs": [
    {
     "name": "stdout",
     "output_type": "stream",
     "text": [
      "b'[\"Voluptate turducken salami porchetta pork belly, frankfurter esse leberkas cupim pancetta labore sirloin minim.  Porchetta picanha short loin tri-tip exercitation andouille veniam landjaeger sed leberkas.  Salami in picanha, nostrud pancetta qui et jerky ut fugiat pastrami.  Turducken drumstick cupidatat non fugiat pastrami spare ribs tail ham quis biltong est veniam ea.  Aute pancetta short loin ground round corned beef sirloin ipsum eu aliqua.  Kielbasa kevin tongue jowl fugiat ipsum sunt turkey magna proident pastrami t-bone.  Bacon et tail ball tip pig chicken.\",\"Qui andouille pastrami, prosciutto hamburger ground round boudin ut chuck chicken lorem.  Bacon qui consectetur pork loin.  Incididunt dolore consectetur landjaeger kevin rump ribeye shank do excepteur short ribs shoulder mollit dolor.  Dolore minim in shankle ex ut lorem drumstick incididunt ball tip shoulder.\",\"Cupidatat burgdoggen beef irure.  Pariatur ex exercitation elit turkey.  Strip steak pork belly culpa, mollit sint in id sausage ad ipsum duis quis eu.  Sirloin veniam kevin andouille deserunt ham hock.  Andouille ullamco quis capicola ut pork chop burgdoggen excepteur fatback.\",\"Turducken beef brisket, cupidatat lorem short loin shankle esse meatloaf ex pork prosciutto aliqua.  Do capicola ad pork belly reprehenderit ground round ut sint andouille irure duis doner cupidatat ham hock.  T-bone ad corned beef ut dolor in mollit beef do drumstick irure buffalo esse porchetta.  Sunt turducken labore tail, ut eiusmod hamburger jowl pig biltong dolor rump ball tip kevin.  Esse capicola turkey jerky sirloin non labore magna chicken ipsum.  Dolore esse pork belly commodo pariatur, short loin boudin.  Tongue fatback in et biltong.\",\"Ad fugiat kielbasa, incididunt ut id beef ribs.  Nostrud deserunt in reprehenderit, nulla fatback dolore culpa jerky irure meatloaf anim ullamco bacon voluptate.  Drumstick meatball est shankle flank rump frankfurter.  Pork loin drumstick kevin dolor.  Velit dolore dolore pork belly est cupidatat nulla tri-tip commodo.  In consectetur dolor mollit doner.  Enim ut flank, pork belly in sunt velit veniam spare ribs shankle.\"]'\n"
     ]
    }
   ],
   "source": [
    "import requests\n",
    " \n",
    " \n",
    "r = requests.get('https://baconipsum.com/api/?type=meat-and-filler') # попробуем поймать json ответ\n",
    "print(r.content)"
   ]
  },
  {
   "cell_type": "code",
   "execution_count": 4,
   "id": "5ab7a8f9-19ef-494b-bfb0-1a5af284ccf7",
   "metadata": {},
   "outputs": [
    {
     "name": "stdout",
     "output_type": "stream",
     "text": [
      "<class 'list'>\n",
      "Spare ribs andouille dolore pig ut biltong.  Groun \n",
      "\n",
      "Pig culpa shoulder officia, voluptate aute beef ri \n",
      "\n",
      "Picanha leberkas pork chop ea short loin pork chis \n",
      "\n",
      "Ham hock shoulder laboris enim ut.  Tail elit nost \n",
      "\n",
      "Duis ut cillum, excepteur do alcatra t-bone.  Et p \n",
      "\n"
     ]
    }
   ],
   "source": [
    "import requests\n",
    "import json # импортируем необходимую библиотеку\n",
    " \n",
    " \n",
    "r = requests.get('https://baconipsum.com/api/?type=meat-and-filler')\n",
    "texts = json.loads(r.content) # делаем из полученных байтов python объект для удобной работы\n",
    "print(type(texts)) # проверяем тип сконвертированных данных\n",
    " \n",
    "for text in texts: # выводим полученный текст. Но для того чтобы он влез в консоль оставим только первые 50 символов.\n",
    "    print(text[:50], '\\n')"
   ]
  },
  {
   "cell_type": "code",
   "execution_count": 5,
   "id": "86091af3-7ffc-45b1-a8b6-8b4076321750",
   "metadata": {},
   "outputs": [
    {
     "name": "stdout",
     "output_type": "stream",
     "text": [
      "b'{\"current_user_url\":\"https://api.github.com/user\",\"current_user_authorizations_html_url\":\"https://github.com/settings/connections/applications{/client_id}\",\"authorizations_url\":\"https://api.github.com/authorizations\",\"code_search_url\":\"https://api.github.com/search/code?q={query}{&page,per_page,sort,order}\",\"commit_search_url\":\"https://api.github.com/search/commits?q={query}{&page,per_page,sort,order}\",\"emails_url\":\"https://api.github.com/user/emails\",\"emojis_url\":\"https://api.github.com/emojis\",\"events_url\":\"https://api.github.com/events\",\"feeds_url\":\"https://api.github.com/feeds\",\"followers_url\":\"https://api.github.com/user/followers\",\"following_url\":\"https://api.github.com/user/following{/target}\",\"gists_url\":\"https://api.github.com/gists{/gist_id}\",\"hub_url\":\"https://api.github.com/hub\",\"issue_search_url\":\"https://api.github.com/search/issues?q={query}{&page,per_page,sort,order}\",\"issues_url\":\"https://api.github.com/issues\",\"keys_url\":\"https://api.github.com/user/keys\",\"label_search_url\":\"https://api.github.com/search/labels?q={query}&repository_id={repository_id}{&page,per_page}\",\"notifications_url\":\"https://api.github.com/notifications\",\"organization_url\":\"https://api.github.com/orgs/{org}\",\"organization_repositories_url\":\"https://api.github.com/orgs/{org}/repos{?type,page,per_page,sort}\",\"organization_teams_url\":\"https://api.github.com/orgs/{org}/teams\",\"public_gists_url\":\"https://api.github.com/gists/public\",\"rate_limit_url\":\"https://api.github.com/rate_limit\",\"repository_url\":\"https://api.github.com/repos/{owner}/{repo}\",\"repository_search_url\":\"https://api.github.com/search/repositories?q={query}{&page,per_page,sort,order}\",\"current_user_repositories_url\":\"https://api.github.com/user/repos{?type,page,per_page,sort}\",\"starred_url\":\"https://api.github.com/user/starred{/owner}{/repo}\",\"starred_gists_url\":\"https://api.github.com/gists/starred\",\"user_url\":\"https://api.github.com/users/{user}\",\"user_organizations_url\":\"https://api.github.com/user/orgs\",\"user_repositories_url\":\"https://api.github.com/users/{user}/repos{?type,page,per_page,sort}\",\"user_search_url\":\"https://api.github.com/search/users?q={query}{&page,per_page,sort,order}\"}'\n"
     ]
    }
   ],
   "source": [
    "import requests\n",
    "import json\n",
    " \n",
    " \n",
    "r = requests.get('https://api.github.com')\n",
    " \n",
    "print(r.content)"
   ]
  },
  {
   "cell_type": "code",
   "execution_count": 6,
   "id": "b53ce6ac-1d05-4706-a0be-1ab65f4545e3",
   "metadata": {},
   "outputs": [
    {
     "name": "stdout",
     "output_type": "stream",
     "text": [
      "<class 'dict'>\n",
      "https://api.github.com/user/following{/target}\n"
     ]
    }
   ],
   "source": [
    "import requests\n",
    "import json\n",
    " \n",
    "r = requests.get('https://api.github.com')\n",
    " \n",
    "d = json.loads(r.content) # делаем из полученных байтов python объект для удобной работы\n",
    " \n",
    "print(type(d))\n",
    "print(d['following_url']) # обращаемся к полученному объекту как к словарю и попробуем напечатать одно из его значений"
   ]
  },
  {
   "cell_type": "code",
   "execution_count": 7,
   "id": "fc13d83d-8300-44bd-b4be-f9e7f0de8228",
   "metadata": {},
   "outputs": [
    {
     "name": "stdout",
     "output_type": "stream",
     "text": [
      "b'{\\n  \"args\": {}, \\n  \"data\": \"\", \\n  \"files\": {}, \\n  \"form\": {\\n    \"key\": \"value\"\\n  }, \\n  \"headers\": {\\n    \"Accept\": \"*/*\", \\n    \"Accept-Encoding\": \"gzip, deflate\", \\n    \"Content-Length\": \"9\", \\n    \"Content-Type\": \"application/x-www-form-urlencoded\", \\n    \"Host\": \"httpbin.org\", \\n    \"User-Agent\": \"python-requests/2.22.0\", \\n    \"X-Amzn-Trace-Id\": \"Root=1-608da1a8-20ad9ebf3fe69f86451c3ffa\"\\n  }, \\n  \"json\": null, \\n  \"origin\": \"176.59.149.57\", \\n  \"url\": \"https://httpbin.org/post\"\\n}\\n'\n"
     ]
    }
   ],
   "source": [
    "import requests\n",
    " \n",
    " \n",
    "r = requests.post('https://httpbin.org/post', data = {'key':'value'}) # отправляем пост запрос\n",
    "print(r.content) # содержимое ответа и его обработка происходит также как и с ГЕТ запросами, разницы никакой нету"
   ]
  },
  {
   "cell_type": "code",
   "execution_count": 8,
   "id": "a6861820-8acc-40da-9683-875082b95d78",
   "metadata": {},
   "outputs": [
    {
     "name": "stdout",
     "output_type": "stream",
     "text": [
      "b'{\\n  \"args\": {}, \\n  \"data\": \"\\\\\"{\\\\\\\\\\\\\"key\\\\\\\\\\\\\": \\\\\\\\\\\\\"value\\\\\\\\\\\\\"}\\\\\"\", \\n  \"files\": {}, \\n  \"form\": {}, \\n  \"headers\": {\\n    \"Accept\": \"*/*\", \\n    \"Accept-Encoding\": \"gzip, deflate\", \\n    \"Content-Length\": \"22\", \\n    \"Content-Type\": \"application/json\", \\n    \"Host\": \"httpbin.org\", \\n    \"User-Agent\": \"python-requests/2.22.0\", \\n    \"X-Amzn-Trace-Id\": \"Root=1-608da30b-090397c819fa92f20c842690\"\\n  }, \\n  \"json\": \"{\\\\\"key\\\\\": \\\\\"value\\\\\"}\", \\n  \"origin\": \"176.59.149.57\", \\n  \"url\": \"https://httpbin.org/post\"\\n}\\n'\n"
     ]
    }
   ],
   "source": [
    "import requests\n",
    "import json\n",
    " \n",
    " \n",
    "data = {'key': 'value'}\n",
    " \n",
    "r = requests.post('https://httpbin.org/post', json=json.dumps(data)) # отправляем пост запрос, но только в этот раз тип передаваемых данных будет JSON \n",
    "print(r.content)"
   ]
  },
  {
   "cell_type": "markdown",
   "id": "76aee8d5-4c85-4edb-adfc-6de0de7f1511",
   "metadata": {},
   "source": [
    "Задание 10.2.3\n",
    "Напишите программу, которая отправляет запрос на генерацию случайных текстов (используйте этот сервис). Выведите первый из сгенерированных текстов."
   ]
  },
  {
   "cell_type": "code",
   "execution_count": 9,
   "id": "0b85b613-8ad9-4c97-b88e-c6a64e972162",
   "metadata": {},
   "outputs": [
    {
     "name": "stdout",
     "output_type": "stream",
     "text": [
      "Salami sint meatball excepteur ut sirloin dolor ham.  Anim quis minim enim, rump in chislic chuck dolor shoulder beef ribs consequat bresaola beef.  Ipsum cow nostrud laborum boudin.  Eu pork chop excepteur shankle short ribs sausage reprehenderit.\n"
     ]
    }
   ],
   "source": [
    "import requests\n",
    "import json\n",
    " \n",
    " \n",
    "r = requests.get('https://baconipsum.com/api/?type=meat-and-filler')\n",
    " \n",
    "r = json.loads(r.content)\n",
    " \n",
    "print(r[0])"
   ]
  },
  {
   "cell_type": "code",
   "execution_count": null,
   "id": "0bc9f357-a737-4c44-b06f-e690475a0b3e",
   "metadata": {},
   "outputs": [],
   "source": []
  }
 ],
 "metadata": {
  "kernelspec": {
   "display_name": "Python 3",
   "language": "python",
   "name": "python3"
  },
  "language_info": {
   "codemirror_mode": {
    "name": "ipython",
    "version": 3
   },
   "file_extension": ".py",
   "mimetype": "text/x-python",
   "name": "python",
   "nbconvert_exporter": "python",
   "pygments_lexer": "ipython3",
   "version": "3.8.5"
  }
 },
 "nbformat": 4,
 "nbformat_minor": 5
}
