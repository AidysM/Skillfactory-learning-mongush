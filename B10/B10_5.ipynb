{
 "cells": [
  {
   "cell_type": "markdown",
   "id": "65d235fd-9134-49ed-b0a5-0fb873238fde",
   "metadata": {},
   "source": [
    "Кэширование — это временное сохранение данных для дальнейшего доступа к ним."
   ]
  },
  {
   "cell_type": "markdown",
   "id": "fe9a418d-115c-4d60-b945-6fcacfdc755c",
   "metadata": {},
   "source": [
    "import redis # импортируем библиотеку\n",
    " \n",
    " \n",
    "red = redis.Redis(\n",
    "    host=хост, # ваш хост, если вы поставили редис к себе на локальную машину, то у вас это будет localhost. Если же вы находитесь на windows, то воспользуйтесь полем host из вашей облачной БД которую мы создавали в скринкасте. \n",
    "    port=порт, # порт подключения. На локальной машине это должно быть 6379. Для пользователей облачного сервиса порт всегд разный, по этому его надо копировать оттуда же, что и host.\n",
    "    password=пароль # для локальной машины пароль не требуется (если вы устанавливали редис к себе на компьютер и не пользовались облачным сервисом из скринкаста выше) Для пользователей облачного сервиса пароль находится в вашей облачной базе данных в поле password\n",
    ")"
   ]
  },
  {
   "cell_type": "code",
   "execution_count": 1,
   "id": "99ae0e67-5f7d-43e1-a082-7685e21c893b",
   "metadata": {},
   "outputs": [
    {
     "name": "stdout",
     "output_type": "stream",
     "text": [
      "b'value1'\n"
     ]
    }
   ],
   "source": [
    "import redis \n",
    " \n",
    " \n",
    "red = redis.Redis(\n",
    "    host='localhost', \n",
    "    port=6379, \n",
    "#     password='пароль' \n",
    ")\n",
    " \n",
    "red.set('var1', 'value1') # записываем в кеш строку \"value1\"\n",
    "print(red.get('var1')) # считываем из кеша данные"
   ]
  },
  {
   "cell_type": "code",
   "execution_count": 2,
   "id": "b80998a4-51e6-453a-a05c-649836e7a30a",
   "metadata": {},
   "outputs": [
    {
     "name": "stdout",
     "output_type": "stream",
     "text": [
      "<class 'dict'>\n",
      "{'key1': 'value1', 'key2': 'value2'}\n"
     ]
    }
   ],
   "source": [
    "import redis\n",
    "import json # так так так, кто это тут у нас? Наш старый друг Джейсон заглянул на огонёк! Ну привет, чем ты сегодня нас порадуешь?\n",
    " \n",
    " \n",
    "red = redis.Redis(\n",
    "    host='localhost', \n",
    "    port=6379, \n",
    "#     password='пароль' \n",
    ")\n",
    " \n",
    "dict1 = {'key1': 'value1', 'key2': 'value2'} # создаём словарь для записи\n",
    "red.set('dict1', json.dumps(dict1)) # с помощью функции dumps() из модуля json превратим наш словарь в строчку\n",
    "converted_dict = json.loads(red.get('dict1')) # с помощью знакомой нам функции прерващаем данные полученные из кеша обратно в словарь\n",
    "print(type(converted_dict)) # убеждаемся что мы получили действительно словарь\n",
    "print(converted_dict) # ну и выводим его содержание"
   ]
  },
  {
   "cell_type": "code",
   "execution_count": 3,
   "id": "35bd3c90-6899-44ad-82dc-8d49324fb2b3",
   "metadata": {},
   "outputs": [
    {
     "name": "stdout",
     "output_type": "stream",
     "text": [
      "None\n"
     ]
    }
   ],
   "source": [
    "import redis\n",
    "import json\n",
    " \n",
    " \n",
    "red = redis.Redis(\n",
    "    host='localhost', \n",
    "    port=6379, \n",
    "#     password='пароль' \n",
    ")\n",
    " \n",
    "red.delete('dict1') # удаляются ключи с помощью метода .delete()\n",
    "print(red.get('dict1'))\n"
   ]
  },
  {
   "cell_type": "code",
   "execution_count": 5,
   "id": "0a8db2f2-52a9-4058-8aa2-ef0da0866961",
   "metadata": {},
   "outputs": [
    {
     "name": "stdin",
     "output_type": "stream",
     "text": [
      "action:\t write\n",
      "name:\t Aiyraa\n",
      "phone:\t 89016783694\n",
      "action:\t read\n",
      "name:\t Aiyraa\n"
     ]
    },
    {
     "name": "stdout",
     "output_type": "stream",
     "text": [
      "Aiyraa's phone is b'89016783694'\n"
     ]
    },
    {
     "name": "stdin",
     "output_type": "stream",
     "text": [
      "action:\t stop\n"
     ]
    }
   ],
   "source": [
    "red = redis.Redis(\n",
    "    host='redis-16832.c60.us-west-1-2.ec2.cloud.redislabs.com', \n",
    "    port=16832, \n",
    "    password='10011979Rd$'\n",
    ")\n",
    " \n",
    "cont = True\n",
    " \n",
    "while cont:\n",
    "    action = input('action:\\t')\n",
    "    if action == 'write':\n",
    "        name = input('name:\\t')\n",
    "        phone = input('phone:\\t')\n",
    "        red.set(name, phone)\n",
    "    elif action == 'read':\n",
    "        name = input('name:\\t')\n",
    "        phone = red.get(name)\n",
    "        if phone:\n",
    "            print(f'{name}\\'s phone is {str(phone)}')\n",
    "    elif action == 'delete':\n",
    "        name = input('name:\\t')\n",
    "        phone = red.delete(name)\n",
    "        if phone:\n",
    "            print(f\"{name}'s phone is deleted\")\n",
    "        else:\n",
    "            print(f\"Not found {name}\")\n",
    "    elif action == 'stop':\n",
    "        break"
   ]
  },
  {
   "cell_type": "code",
   "execution_count": null,
   "id": "79fd50e8-3af2-47cd-8f7a-45ffb946ea4e",
   "metadata": {},
   "outputs": [],
   "source": []
  }
 ],
 "metadata": {
  "kernelspec": {
   "display_name": "Python 3",
   "language": "python",
   "name": "python3"
  },
  "language_info": {
   "codemirror_mode": {
    "name": "ipython",
    "version": 3
   },
   "file_extension": ".py",
   "mimetype": "text/x-python",
   "name": "python",
   "nbconvert_exporter": "python",
   "pygments_lexer": "ipython3",
   "version": "3.8.5"
  }
 },
 "nbformat": 4,
 "nbformat_minor": 5
}
