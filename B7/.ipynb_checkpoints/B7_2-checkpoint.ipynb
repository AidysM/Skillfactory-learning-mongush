{
 "cells": [
  {
   "cell_type": "markdown",
   "id": "e801737e-81e9-4bd3-b880-9e53524a1897",
   "metadata": {},
   "source": [
    "Статические методы — это методы, которые относятся сразу ко всем объектам класса, и могут вызываться вне конкретного объекта, обращаясь к классу напрямую."
   ]
  },
  {
   "cell_type": "code",
   "execution_count": 2,
   "id": "80474fb2-3ac3-43af-bebc-b0cfb5535b4c",
   "metadata": {},
   "outputs": [
    {
     "name": "stdout",
     "output_type": "stream",
     "text": [
      "bar\n"
     ]
    }
   ],
   "source": [
    "class Foo:\n",
    " \n",
    "    @staticmethod # помечаем метод который мы хотим сделать статичным декоратором @staticmethod\n",
    "    def bar():\n",
    "            print(\"bar\")\n",
    " \n",
    "Foo.bar()"
   ]
  },
  {
   "cell_type": "markdown",
   "id": "cdae51b0-b772-437f-8234-7ff4b87a4614",
   "metadata": {},
   "source": [
    "Пример вызова статического метода через объект:"
   ]
  },
  {
   "cell_type": "code",
   "execution_count": 3,
   "id": "c8c77a7f-655d-4f65-8223-c7c99961943c",
   "metadata": {},
   "outputs": [
    {
     "name": "stdout",
     "output_type": "stream",
     "text": [
      "bar\n"
     ]
    }
   ],
   "source": [
    "class foo:\n",
    " \n",
    "    @staticmethod\n",
    "    def bar():\n",
    "        print(\"bar\")\n",
    " \n",
    "f = Foo()\n",
    "f.bar() # вызывать статические методы через объекты так же никто не запрещает"
   ]
  },
  {
   "cell_type": "code",
   "execution_count": 4,
   "id": "002cdd11-5b7f-4c93-b93f-f0ea7a469458",
   "metadata": {},
   "outputs": [
    {
     "name": "stdout",
     "output_type": "stream",
     "text": [
      "bar\n"
     ]
    }
   ],
   "source": [
    "class Foo:\n",
    " \n",
    "    @staticmethod\n",
    "    def GET_BAR(): # вспоминаем, что константа пишется со всеми заглавными буквами (в простонародье - капсом)\n",
    "            return \"bar\"\n",
    " \n",
    "print(Foo.GET_BAR())"
   ]
  },
  {
   "cell_type": "markdown",
   "id": "a8c32114-4913-4b18-a2d9-3d29d7fa9767",
   "metadata": {},
   "source": [
    "Используйте статические методы в основном для работы с внешними ресурсами (API, файлы и т. д.)."
   ]
  },
  {
   "cell_type": "markdown",
   "id": "7b6263af-4b37-43e9-bcea-d1b9ff536e04",
   "metadata": {},
   "source": [
    "Напишите класс SquareFactory с одним статическим методом, принимающим единственный аргумент — сторону квадрата. Данный метод должен возвращать объект класса Square с переданной стороной."
   ]
  },
  {
   "cell_type": "code",
   "execution_count": 5,
   "id": "553383b5-e1df-4e09-b74e-cc256d939943",
   "metadata": {},
   "outputs": [],
   "source": [
    "class SquareFactory:\n",
    " \n",
    "    @staticmethod\n",
    "    def create_square(side):\n",
    "        return Square(side)"
   ]
  },
  {
   "cell_type": "code",
   "execution_count": null,
   "id": "639c13c3-69fe-4f41-94dc-b59b3a942d40",
   "metadata": {},
   "outputs": [],
   "source": []
  }
 ],
 "metadata": {
  "kernelspec": {
   "display_name": "Python 3",
   "language": "python",
   "name": "python3"
  },
  "language_info": {
   "codemirror_mode": {
    "name": "ipython",
    "version": 3
   },
   "file_extension": ".py",
   "mimetype": "text/x-python",
   "name": "python",
   "nbconvert_exporter": "python",
   "pygments_lexer": "ipython3",
   "version": "3.8.5"
  }
 },
 "nbformat": 4,
 "nbformat_minor": 5
}
