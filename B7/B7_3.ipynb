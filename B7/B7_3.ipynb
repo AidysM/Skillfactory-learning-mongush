{
 "cells": [
  {
   "cell_type": "markdown",
   "id": "c92fecd7-b6a2-4b4d-a733-a81aff76200e",
   "metadata": {},
   "source": [
    "@property очень классный декоратор, он-то по сути и обеспечивает нам прямой путь к инкапсуляции, позволяя объединить методы и поля. Давайте же скорее взглянем на пример кода с использованием этого декоратора."
   ]
  },
  {
   "cell_type": "code",
   "execution_count": 1,
   "id": "4d341389-3300-40c4-b1a1-f8df8c983157",
   "metadata": {},
   "outputs": [
    {
     "name": "stdout",
     "output_type": "stream",
     "text": [
      "29.2\n"
     ]
    }
   ],
   "source": [
    "# создадим класс собаки\n",
    "class Dog:\n",
    "    def __init__(self, name, age):\n",
    "            self.name = name\n",
    "            self.age = age\n",
    " \n",
    "    # создадим свойство human_age, которое будет переводить возраст животного в человеческий\n",
    "    @property # тот самый магический декоратор\n",
    "    def human_age(self):\n",
    "            return self.age * 7.3\n",
    " \n",
    " \n",
    "jane = Dog(\"jane\", 4)\n",
    "print(jane.human_age) # т.к. метод помечен декоратором property, то нам не надо вызывать этот метод чтобы получить результат"
   ]
  },
  {
   "cell_type": "code",
   "execution_count": 2,
   "id": "5eeedfff-3547-4902-b90d-8a6c0bd5ddf7",
   "metadata": {},
   "outputs": [
    {
     "name": "stdout",
     "output_type": "stream",
     "text": [
      "100\n"
     ]
    }
   ],
   "source": [
    "class Dog:\n",
    "    _happiness = 10\n",
    " \n",
    "    def __init__(self, name, age):\n",
    "        self.name = name\n",
    "        self.age = age\n",
    " \n",
    "    @property\n",
    "    def human_age(self):\n",
    "        return self.age * 7.3\n",
    " \n",
    "    # добавим новое поле - шкала счастья\n",
    "    @property\n",
    "    def happinness(self):\n",
    "        return self._happiness\n",
    "    \n",
    "    # с помощью декоратора setter мы можем неявно передать во второй аргумент значение, находящееся справа от равно, а не закидывать это значение в скобки, как мы это делали ранее, когда не знали о декораторах класса\n",
    "    @happinness.setter\n",
    "    def happinness(self, value): # допустим мы хотим, чтобы счастье питомца измерялось шкалой от 0 до 100\n",
    "        if value <= 100 and value >= 0: \n",
    "            self._happiness = value\n",
    "        else:\n",
    "            raise ValueError(\"Happiness must be between 0 ... 100\")\n",
    " \n",
    " \n",
    "jane = Dog(\"jane\", 4)\n",
    "jane.happinness = 100 # осчастливим нашу собаку < :\n",
    "print(jane.happinness) "
   ]
  },
  {
   "cell_type": "markdown",
   "id": "e03b244d-d697-48af-93bf-e4eb68cbdf48",
   "metadata": {},
   "source": [
    "Вдобавок к комментариям в коде важно отметить, что декораторы .setter должны называться так же, как и метод, помеченный декоратором @property, для которого вы хотите устанавливать значение, иначе интерпретатор выдаст ошибку.\n",
    "\n",
    "Благодаря декоратору @.setter можно использовать инкапсуляцию, сохраняя привычное нам обращение к полю через точку, а установку нов ого значения через =. Вот такой вот магический декоратор @property."
   ]
  },
  {
   "cell_type": "markdown",
   "id": "021e3fa7-32af-4175-bf05-19ff7a93878e",
   "metadata": {},
   "source": [
    "Ну и напоследок стоит сказать пару слов о декораторе @classmethod. Который встречается довольно редко, ввиду его малой понятности для обывателей и синтаксической громоздкости.\n",
    "\n",
    "Используется он, как правило, чтобы открыть путь в полиморфизм (вспоминаем модуль C1, но если кратко — полиморфизм это разное поведение методов класса-родителя в классах-наследниках)."
   ]
  },
  {
   "cell_type": "code",
   "execution_count": 3,
   "id": "b58a1791-1743-46ef-bb9f-b7648651921a",
   "metadata": {},
   "outputs": [
    {
     "name": "stdout",
     "output_type": "stream",
     "text": [
      "ParentClass classmethod. 0\n",
      "ParentClass classmethod. 5\n",
      "ChildClass classmethod. 0\n",
      "ChildClass classmethod. 6\n",
      "ParentClass classmethod. 1\n",
      "ParentClass classmethod. 10\n"
     ]
    }
   ],
   "source": [
    "class ParentClass:\n",
    " \n",
    "       @classmethod\n",
    "       def method(cls, arg):\n",
    "           print(\"%s classmethod. %d\" % (cls.__name__, arg))\n",
    " \n",
    "       @classmethod\n",
    "       def call_original_method(cls):\n",
    "           cls.method(5)\n",
    " \n",
    "       def call_class_method(self):\n",
    "           self.method(10)\n",
    " \n",
    " \n",
    "class ChildClass(ParentClass):\n",
    "    \n",
    "    @classmethod\n",
    "    def call_original_method(cls):\n",
    "        cls.method(6)\n",
    " \n",
    " \n",
    "# Вызываем методы класса через класс.\n",
    "ParentClass.method(0)  # ParentClassclassmethod. 0\n",
    "ParentClass.call_original_method()  # ParentClassclassmethod. 5\n",
    " \n",
    "ChildClass.method(0)  # ChildClassclassmethod. 0\n",
    "ChildClass.call_original_method()  # ChildClassclassmethod. 6\n",
    " \n",
    "# Вызываем методы класса через объект.\n",
    "my_obj = ParentClass()\n",
    "my_obj.method(1)  # ParentClassclassmethod. 1\n",
    "my_obj.call_class_method()  # ParentClassclassmethod. 10"
   ]
  },
  {
   "cell_type": "markdown",
   "id": "f84bab50-0bf2-40a3-9f90-1ffe81d37ffa",
   "metadata": {},
   "source": [
    "Создать вычисляемое свойство для класса Square. Сделайте метод по вычислению площади свойством. Сделайте сторону квадрата свойством, которое можно установить только через сеттер. В сеттере добавьте проверку условия, что сторона должна быть неотрицательной."
   ]
  },
  {
   "cell_type": "code",
   "execution_count": 5,
   "id": "ae60af18-cd5a-4e50-951e-a399475e4aa1",
   "metadata": {},
   "outputs": [],
   "source": [
    "class Square:\n",
    "    _a = None\n",
    " \n",
    "    def __init__(self, a):\n",
    "        if a > 0:\n",
    "            self._a = a\n",
    " \n",
    "    @property\n",
    "    def a(self):\n",
    "        return self._a\n",
    " \n",
    "    @a.setter\n",
    "    def a(self, value):\n",
    "        if value > 0:\n",
    "            self._a = value"
   ]
  },
  {
   "cell_type": "code",
   "execution_count": null,
   "id": "1ac179c3-cfb0-432b-992a-45c09ab76c2c",
   "metadata": {},
   "outputs": [],
   "source": []
  }
 ],
 "metadata": {
  "kernelspec": {
   "display_name": "Python 3",
   "language": "python",
   "name": "python3"
  },
  "language_info": {
   "codemirror_mode": {
    "name": "ipython",
    "version": 3
   },
   "file_extension": ".py",
   "mimetype": "text/x-python",
   "name": "python",
   "nbconvert_exporter": "python",
   "pygments_lexer": "ipython3",
   "version": "3.8.5"
  }
 },
 "nbformat": 4,
 "nbformat_minor": 5
}
