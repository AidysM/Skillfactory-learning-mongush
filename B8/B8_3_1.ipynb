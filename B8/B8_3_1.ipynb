{
 "cells": [
  {
   "cell_type": "markdown",
   "id": "7e9b59f2-74be-4ef3-b528-aa93a10af309",
   "metadata": {},
   "source": [
    "Вся основная логика модуля заключена в отдельные функции или классы. На глобальном уровне могут быть объявлены только константы или необходимые для инициализации модуля операции."
   ]
  },
  {
   "cell_type": "code",
   "execution_count": null,
   "id": "bffc9801-6540-49d6-a956-0f5103ef71cc",
   "metadata": {},
   "outputs": [],
   "source": [
    "Если вы планируете, что модуль могут запускать как \n",
    "самостоятельный скрипт – используйте следующую инструкцию: \n",
    "    if __name__ == '__main__':."
   ]
  },
  {
   "cell_type": "markdown",
   "id": "e2fe7e0e-73f4-4e60-a589-eabd87a4e840",
   "metadata": {},
   "source": [
    "Хорошая структура модуля выглядит следующим образом:\n",
    "\n",
    "Docstring (описание) модуля.\n",
    "Область импорта:\n",
    "    импорты системных библиотек;\n",
    "    импорты стандартных пакетов (из PyPI);\n",
    "    импорты ваших модулей (локальных).\n",
    "Область объявление глобальных констант.\n",
    "Инициализация модуля.\n",
    "Область определения функций и классов.\n",
    "Функции.\n",
    "if __name__ == '__main__' (метод main) по желанию (это одни из немногих нюансов при работе с собственными модулями)."
   ]
  },
  {
   "cell_type": "code",
   "execution_count": 2,
   "id": "3ce58b32-ea81-4262-aaf5-793d35d12e78",
   "metadata": {},
   "outputs": [
    {
     "data": {
      "text/plain": [
       "10"
      ]
     },
     "execution_count": 2,
     "metadata": {},
     "output_type": "execute_result"
    }
   ],
   "source": [
    "import math\n",
    "math.trunc(math.fmod(math.fabs(-10000000), 55)+0.3)"
   ]
  },
  {
   "cell_type": "code",
   "execution_count": 21,
   "id": "97ec3004-9e9c-42f2-9b79-67730455047c",
   "metadata": {},
   "outputs": [
    {
     "name": "stdout",
     "output_type": "stream",
     "text": [
      "1619600290.461743\n"
     ]
    }
   ],
   "source": [
    "import time\n",
    "# t = time.strptime(time.time())\n",
    "t = time.time()\n",
    "print(t)"
   ]
  },
  {
   "cell_type": "code",
   "execution_count": 20,
   "id": "c8bbbd27-07a9-4f7b-a112-2cdd82bd146c",
   "metadata": {},
   "outputs": [
    {
     "name": "stdout",
     "output_type": "stream",
     "text": [
      "10\n",
      "9\n",
      "8\n",
      "7\n",
      "6\n",
      "5\n",
      "4\n",
      "3\n",
      "2\n",
      "1\n",
      "0\n",
      "Время вышло!\n"
     ]
    }
   ],
   "source": [
    "import time\n",
    "\n",
    "i = 10\n",
    "while i >= 0:\n",
    "    print(i)\n",
    "    time.sleep(1)\n",
    "    i -= 1\n",
    "print(\"Время вышло!\")"
   ]
  },
  {
   "cell_type": "code",
   "execution_count": null,
   "id": "39254f53-4b67-4f65-9e2c-4738ccaff84c",
   "metadata": {},
   "outputs": [],
   "source": []
  }
 ],
 "metadata": {
  "kernelspec": {
   "display_name": "Python 3",
   "language": "python",
   "name": "python3"
  },
  "language_info": {
   "codemirror_mode": {
    "name": "ipython",
    "version": 3
   },
   "file_extension": ".py",
   "mimetype": "text/x-python",
   "name": "python",
   "nbconvert_exporter": "python",
   "pygments_lexer": "ipython3",
   "version": "3.8.5"
  }
 },
 "nbformat": 4,
 "nbformat_minor": 5
}
