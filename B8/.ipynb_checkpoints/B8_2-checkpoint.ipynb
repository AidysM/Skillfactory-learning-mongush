{
 "cells": [
  {
   "cell_type": "markdown",
   "id": "e8b8b67b-31d0-4966-b816-53d3b54b3b11",
   "metadata": {},
   "source": [
    "BaseException\n",
    " +-- SystemExit\n",
    " +-- KeyboardInterrupt\n",
    " +-- GeneratorExit\n",
    " +-- Exception\n",
    "  \t+-- StopIteration\n",
    "  \t+-- StopAsyncIteration\n",
    "  \t+-- ArithmeticError\n",
    "  \t|\tFloatingPointError\n",
    "  \t|\tOverflowError\n",
    "  \t|\tZeroDivisionError\n",
    "  \t+-- AssertionError\n",
    "  \t+-- AttributeError\n",
    "  \t+-- BufferError\n",
    "  \t+-- EOFError\n",
    "  \t+-- ImportError\n",
    "  \t|\t+-- ModuleNotFoundError\n",
    "  \t+-- LookupError\n",
    "  \t|\t+-- IndexError\n",
    "  \t|\t+-- KeyError\n",
    "  \t+-- MemoryError\n",
    "  \t+-- NameError\n",
    "  \t|\t+-- UnboundLocalError\n",
    "  \t+-- OSError\n",
    "  \t|\t+-- BlockingIOError\n",
    "  \t|\t+-- ChildProcessError\n",
    "  \t|\t+-- ConnectionError\n",
    "  \t|\t|\t+-- BrokenPipeError\n",
    "  \t|\t|\t+-- ConnectionAbortedError\n",
    "  \t|\t|\t+-- ConnectionRefusedError\n",
    "  \t|\t|\t+-- ConnectionResetError\n",
    "  \t|\t+-- FileExistsError\n",
    "  \t|\t+-- FileNotFoundError\n",
    "  \t|\t+-- InterruptedError\n",
    "  \t|\t+-- IsADirectoryError\n",
    "  \t|\t+-- NotADirectoryError\n",
    "  \t|\t+-- PermissionError\n",
    "  \t|\t+-- ProcessLookupError\n",
    "  \t|\t+-- TimeoutError\n",
    "  \t+-- ReferenceError\n",
    "  \t+-- RuntimeError\n",
    "  \t|\t+-- NotImplementedError\n",
    "  \t|\t+-- RecursionError\n",
    "  \t+-- SyntaxError\n",
    "  \t|\t+-- IndentationError\n",
    "  \t|     \t+-- TabError\n",
    "  \t+-- SystemError\n",
    "  \t+-- TypeError\n",
    "  \t+-- ValueError\n",
    "  \t|\t+-- UnicodeError\n",
    "  \t|     \t+-- UnicodeDecodeError\n",
    "  \t|     \t+-- UnicodeEncodeError\n",
    "  \t|     \t+-- UnicodeTranslateError\n",
    "  \t+-- Warning\n",
    "       \t+-- DeprecationWarning\n",
    "       \t+-- PendingDeprecationWarning\n",
    "       \t+-- RuntimeWarning\n",
    "       \t+-- SyntaxWarning\n",
    "       \t+-- UserWarning\n",
    "       \t+-- FutureWarning\n",
    "       \t+-- ImportWarning\n",
    "       \t+-- UnicodeWarning\n",
    "       \t+-- BytesWarning\n",
    "       \t+-- ResourceWarning"
   ]
  },
  {
   "cell_type": "code",
   "execution_count": 4,
   "id": "a94faec2-1f00-4648-a565-725c4c0ae863",
   "metadata": {},
   "outputs": [
    {
     "name": "stdout",
     "output_type": "stream",
     "text": [
      "Zero division error\n"
     ]
    }
   ],
   "source": [
    "try:\n",
    "    raise ZeroDivisionError\n",
    "except ZeroDivisionError: # сначала пытаемся поймать наследника\n",
    "    print(\"Zero division error\")\n",
    "except ArithmeticError: # потом ловим потомка\n",
    "    print(\"Arithmetic error\")"
   ]
  },
  {
   "cell_type": "code",
   "execution_count": null,
   "id": "25eed7cc-dea6-49c4-9aa4-255eaa589d4a",
   "metadata": {},
   "outputs": [],
   "source": [
    "class MyException(Exception): # создаём пустой класс – исключения \n",
    "    pass\n",
    " \n",
    "try:\n",
    "    raise MyException(\"message\") # поднимаем наше исключение\n",
    "except MyExceptionas as e: # ловим его за хвост, как шкодливого котёнка\n",
    "    print(e) # выводим информацию об исключении"
   ]
  },
  {
   "cell_type": "code",
   "execution_count": 5,
   "id": "b86de34a-c7d2-413d-b056-82c3b22f4baa",
   "metadata": {},
   "outputs": [
    {
     "name": "stdout",
     "output_type": "stream",
     "text": [
      "message\n"
     ]
    }
   ],
   "source": [
    "class ParentException(Exception): # создаём пустой класс – исключение потомка, наследуемся от exception\n",
    "    pass\n",
    " \n",
    "class ChildException(ParentException): # создаём пустой класс – исключение наследника, наследуемся от ParentException\n",
    "    pass\n",
    " \n",
    "try:\n",
    "    raise ChildException(\"message\") # поднимаем исключение-наследник\n",
    "except ParentException as e: # ловим его родителя\n",
    "    print(e) # выводим информацию об исключении"
   ]
  },
  {
   "cell_type": "code",
   "execution_count": 6,
   "id": "c8885a85-27e6-4d31-896f-81ebc982bd31",
   "metadata": {},
   "outputs": [
    {
     "name": "stdout",
     "output_type": "stream",
     "text": [
      "Errors: error\n",
      "message\n"
     ]
    }
   ],
   "source": [
    "class ParentException(Exception):\n",
    "    def __init__(self, message, error): # допишем к нашему пустому классу конструктор, который будет печатать дополнительно в консоль информацию об ошибке.\n",
    "        super().__init__(message) # помним про вызов конструктора родительского класса\n",
    "        print(f\"Errors: {error}\") # печатаем ошибку\n",
    " \n",
    "class ChildException(ParentException): # создаём пустой класс – исключение наследника, наследуемся от ParentException\n",
    "    def __init__(self, message, error):\n",
    "        super().__init__(message, error)\n",
    " \n",
    "try:\n",
    "    raise ChildException(\"message\", \"error\") # поднимаем исключение-наследник, передаём дополнительный аргумент\n",
    "except ParentException as e:\n",
    "    print(e) # выводим информацию об исключении"
   ]
  },
  {
   "cell_type": "markdown",
   "id": "a386c2a6-3263-4507-8ab5-373c4ad96f79",
   "metadata": {},
   "source": [
    "Давайте подведём итоги (если вы уже высохли от такого повествования, но что поделать, такая уж тема):\n",
    "\n",
    "Исключения — это такие особенные классы, которые как и любые классы можно наследовать. Если вы хотите ловить несколько исключений, то сначала ловите потомков, а потом родителей, чтобы ничего не упустить.\n",
    "\n",
    "Чтобы создать собственный класс, нужно просто написать пустой класс и наследовать его от класса Exception, этого будет достаточно.\n",
    "\n",
    "Не обязательно отлавливать сам класс, при необходимости можно отлавливать его родителя, это тоже будет работать, но вы можете упустить важную информацию."
   ]
  },
  {
   "cell_type": "markdown",
   "id": "30e35a42-a773-4b43-a035-82fcbd7d91d4",
   "metadata": {},
   "source": [
    "Создать класс SquareException. Добавить в конструктор класса Square собственное исключение NonPositiveDigitException, унаследованное от ValueError, которое будет срабатывать каждый раз, когда сторона квадрата строго меньше 0."
   ]
  },
  {
   "cell_type": "code",
   "execution_count": 7,
   "id": "5f5575e0-c255-4676-9b98-0e35ae17cd0d",
   "metadata": {},
   "outputs": [],
   "source": [
    "class NonPositiveDigitException(ValueError):\n",
    "    pass\n",
    " \n",
    "class Square:\n",
    "    def __init__(self, a):\n",
    "        if a < 0:\n",
    "            raise NonPositiveDigitException('Неправильно указана сторона квадрата')"
   ]
  },
  {
   "cell_type": "code",
   "execution_count": null,
   "id": "7d15ec1e-395e-4ded-8f5e-a5b95d11644b",
   "metadata": {},
   "outputs": [],
   "source": []
  }
 ],
 "metadata": {
  "kernelspec": {
   "display_name": "Python 3",
   "language": "python",
   "name": "python3"
  },
  "language_info": {
   "codemirror_mode": {
    "name": "ipython",
    "version": 3
   },
   "file_extension": ".py",
   "mimetype": "text/x-python",
   "name": "python",
   "nbconvert_exporter": "python",
   "pygments_lexer": "ipython3",
   "version": "3.8.5"
  }
 },
 "nbformat": 4,
 "nbformat_minor": 5
}
