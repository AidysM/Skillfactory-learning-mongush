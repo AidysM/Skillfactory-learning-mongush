{
 "cells": [
  {
   "cell_type": "code",
   "execution_count": 2,
   "id": "4e739b87-d6ec-458e-b368-5a5220613986",
   "metadata": {},
   "outputs": [
    {
     "name": "stdout",
     "output_type": "stream",
     "text": [
      "/home/aidys/ObuchenieSkillfactory/B8\n"
     ]
    }
   ],
   "source": [
    "import os\n",
    "# получить текущий путь\n",
    "start_path = os.getcwd()\n",
    "print(start_path)  # /home/nbuser/library"
   ]
  },
  {
   "cell_type": "code",
   "execution_count": 3,
   "id": "07b8257f-3296-4d11-acbb-203754eb01f3",
   "metadata": {},
   "outputs": [
    {
     "data": {
      "text/plain": [
       "'/home/aidys/ObuchenieSkillfactory'"
      ]
     },
     "execution_count": 3,
     "metadata": {},
     "output_type": "execute_result"
    }
   ],
   "source": [
    "os.chdir(\"..\")  # подняться на один уровень выше\n",
    "os.getcwd()  # '/home/nbuser'"
   ]
  },
  {
   "cell_type": "code",
   "execution_count": 4,
   "id": "f11e7a3e-bc05-4888-8f95-2af6b593a103",
   "metadata": {},
   "outputs": [
    {
     "data": {
      "text/plain": [
       "'/home/aidys/ObuchenieSkillfactory/B8'"
      ]
     },
     "execution_count": 4,
     "metadata": {},
     "output_type": "execute_result"
    }
   ],
   "source": [
    "os.chdir(start_path)\n",
    "os.getcwd()  # '/home/nbuser/library'"
   ]
  },
  {
   "cell_type": "code",
   "execution_count": 5,
   "id": "2cf3fb95-f2c1-4ea5-9888-0ff420f0859b",
   "metadata": {},
   "outputs": [
    {
     "name": "stdout",
     "output_type": "stream",
     "text": [
      "['.ipynb_checkpoints', 'B8_2.ipynb', 'B8_4.ipynb', 'B8_3_1.ipynb', 'B8_3_7', 'B8_3.ipynb']\n",
      "Файл отсутствует в данной директории\n"
     ]
    }
   ],
   "source": [
    "# список файлов и директорий в папке\n",
    "import os\n",
    " \n",
    "print(os.listdir())  # ['SnapchatLoader', 'FBLoader', 'tmp.py', '.gitignore', 'venv', '.git']\n",
    " \n",
    "if 'tmp.py' not in os.listdir():\n",
    "   print(\"Файл отсутствует в данной директории\")"
   ]
  },
  {
   "cell_type": "code",
   "execution_count": 6,
   "id": "6fca8751-3214-41f1-abd6-3d97949ec8f2",
   "metadata": {},
   "outputs": [
    {
     "name": "stdout",
     "output_type": "stream",
     "text": [
      "/home/aidys/ObuchenieSkillfactory/B8\n",
      "/home/aidys/ObuchenieSkillfactory/B8/test\n"
     ]
    }
   ],
   "source": [
    "# соединяет пути с учётом особенностей операционной системы\n",
    "print(start_path)\n",
    "print(os.path.join(start_path, 'test'))"
   ]
  },
  {
   "cell_type": "code",
   "execution_count": 7,
   "id": "92ec3c8c-3a4d-4ebf-a8e5-b005177f5ff9",
   "metadata": {},
   "outputs": [
    {
     "name": "stdout",
     "output_type": "stream",
     "text": [
      "Текущая директория /home/aidys/ObuchenieSkillfactory/B8\n",
      "---\n",
      "Список папок ['.ipynb_checkpoints', 'B8_3_7']\n",
      "---\n",
      "Список файлов ['B8_2.ipynb', 'B8_4.ipynb', 'B8_3_1.ipynb', 'B8_3.ipynb']\n",
      "---\n",
      "Все пути:\n",
      "Файл  /home/aidys/ObuchenieSkillfactory/B8/B8_2.ipynb\n",
      "Файл  /home/aidys/ObuchenieSkillfactory/B8/B8_4.ipynb\n",
      "Файл  /home/aidys/ObuchenieSkillfactory/B8/B8_3_1.ipynb\n",
      "Файл  /home/aidys/ObuchenieSkillfactory/B8/B8_3.ipynb\n",
      "Папка  /home/aidys/ObuchenieSkillfactory/B8/.ipynb_checkpoints\n",
      "Папка  /home/aidys/ObuchenieSkillfactory/B8/B8_3_7\n",
      "===\n",
      "Текущая директория /home/aidys/ObuchenieSkillfactory/B8/.ipynb_checkpoints\n",
      "---\n",
      "Папок нет\n",
      "---\n",
      "Список файлов ['B8_3_1-checkpoint.ipynb', 'B8_2-checkpoint.ipynb', 'B8_4-checkpoint.ipynb', 'B8_3-checkpoint.ipynb']\n",
      "---\n",
      "Файл  /home/aidys/ObuchenieSkillfactory/B8/.ipynb_checkpoints/B8_3_1-checkpoint.ipynb\n",
      "Файл  /home/aidys/ObuchenieSkillfactory/B8/.ipynb_checkpoints/B8_2-checkpoint.ipynb\n",
      "Файл  /home/aidys/ObuchenieSkillfactory/B8/.ipynb_checkpoints/B8_4-checkpoint.ipynb\n",
      "Файл  /home/aidys/ObuchenieSkillfactory/B8/.ipynb_checkpoints/B8_3-checkpoint.ipynb\n",
      "===\n",
      "Текущая директория /home/aidys/ObuchenieSkillfactory/B8/B8_3_7\n",
      "---\n",
      "Список папок ['__pycache__', '.idea']\n",
      "---\n",
      "Список файлов ['main.py', 'models.py']\n",
      "---\n",
      "Все пути:\n",
      "Файл  /home/aidys/ObuchenieSkillfactory/B8/B8_3_7/main.py\n",
      "Файл  /home/aidys/ObuchenieSkillfactory/B8/B8_3_7/models.py\n",
      "Папка  /home/aidys/ObuchenieSkillfactory/B8/B8_3_7/__pycache__\n",
      "Папка  /home/aidys/ObuchenieSkillfactory/B8/B8_3_7/.idea\n",
      "===\n",
      "Текущая директория /home/aidys/ObuchenieSkillfactory/B8/B8_3_7/__pycache__\n",
      "---\n",
      "Папок нет\n",
      "---\n",
      "Список файлов ['models.cpython-38.pyc']\n",
      "---\n",
      "Файл  /home/aidys/ObuchenieSkillfactory/B8/B8_3_7/__pycache__/models.cpython-38.pyc\n",
      "===\n",
      "Текущая директория /home/aidys/ObuchenieSkillfactory/B8/B8_3_7/.idea\n",
      "---\n",
      "Список папок ['inspectionProfiles']\n",
      "---\n",
      "Список файлов ['B8_3_7.iml', '.gitignore', 'workspace.xml', 'modules.xml', 'misc.xml']\n",
      "---\n",
      "Все пути:\n",
      "Файл  /home/aidys/ObuchenieSkillfactory/B8/B8_3_7/.idea/B8_3_7.iml\n",
      "Файл  /home/aidys/ObuchenieSkillfactory/B8/B8_3_7/.idea/.gitignore\n",
      "Файл  /home/aidys/ObuchenieSkillfactory/B8/B8_3_7/.idea/workspace.xml\n",
      "Файл  /home/aidys/ObuchenieSkillfactory/B8/B8_3_7/.idea/modules.xml\n",
      "Файл  /home/aidys/ObuchenieSkillfactory/B8/B8_3_7/.idea/misc.xml\n",
      "Папка  /home/aidys/ObuchenieSkillfactory/B8/B8_3_7/.idea/inspectionProfiles\n",
      "===\n",
      "Текущая директория /home/aidys/ObuchenieSkillfactory/B8/B8_3_7/.idea/inspectionProfiles\n",
      "---\n",
      "Папок нет\n",
      "---\n",
      "Список файлов ['Project_Default.xml', 'profiles_settings.xml']\n",
      "---\n",
      "Файл  /home/aidys/ObuchenieSkillfactory/B8/B8_3_7/.idea/inspectionProfiles/Project_Default.xml\n",
      "Файл  /home/aidys/ObuchenieSkillfactory/B8/B8_3_7/.idea/inspectionProfiles/profiles_settings.xml\n",
      "===\n"
     ]
    }
   ],
   "source": [
    "import os\n",
    "\n",
    "def walk_desc(path=None):\n",
    "   start_path = path if path is not None else os.getcwd()\n",
    "\n",
    "   for root, dirs, files in os.walk(start_path):\n",
    "       print(\"Текущая директория\", root)\n",
    "       print(\"---\")\n",
    "      \n",
    "       if dirs:\n",
    "           print(\"Список папок\", dirs)\n",
    "       else:\n",
    "           print(\"Папок нет\")\n",
    "       print(\"---\")\n",
    "      \n",
    "       if files:\n",
    "           print(\"Список файлов\", files)\n",
    "       else:\n",
    "           print(\"Файлов нет\")\n",
    "       print(\"---\")\n",
    "      \n",
    "       if files and dirs:\n",
    "           print(\"Все пути:\")\n",
    "       for f in files:\n",
    "           print(\"Файл \", os.path.join(root, f))\n",
    "       for d in dirs:\n",
    "           print(\"Папка \", os.path.join(root, d))\n",
    "       print(\"===\")\n",
    "\n",
    "walk_desc()"
   ]
  },
  {
   "cell_type": "code",
   "execution_count": 1,
   "id": "67e24f48-4de7-410c-ab73-a86d6f4a5757",
   "metadata": {},
   "outputs": [
    {
     "data": {
      "text/plain": [
       "21"
      ]
     },
     "execution_count": 1,
     "metadata": {},
     "output_type": "execute_result"
    }
   ],
   "source": [
    "f = open('test.txt', 'w', encoding='utf-8')\n",
    "\n",
    "# Запишем в файл строку\n",
    "f.write(\"This is a test string\\n\")\n",
    "f.write(\"This is a new string\\n\")"
   ]
  },
  {
   "cell_type": "code",
   "execution_count": 2,
   "id": "49005c43-6978-40b5-b709-a8ad11ba4741",
   "metadata": {},
   "outputs": [],
   "source": [
    "# обязательно нужно закрыть файл, иначе он будет заблокирован ОС\n",
    "f.close()"
   ]
  },
  {
   "cell_type": "code",
   "execution_count": 4,
   "id": "63ae3d8c-67a3-4e9c-8bd3-1447c0713803",
   "metadata": {},
   "outputs": [],
   "source": [
    "f = open('test.txt', 'r', encoding='utf8')"
   ]
  },
  {
   "cell_type": "code",
   "execution_count": 5,
   "id": "c3c87647-084c-4cd6-b94a-ede3aac64359",
   "metadata": {},
   "outputs": [
    {
     "name": "stdout",
     "output_type": "stream",
     "text": [
      "This is a \n"
     ]
    }
   ],
   "source": [
    "print(f.read(10))  # This is a "
   ]
  },
  {
   "cell_type": "code",
   "execution_count": 6,
   "id": "0da0164f-476f-4287-8fd3-2cd1fdd0c365",
   "metadata": {},
   "outputs": [
    {
     "data": {
      "text/plain": [
       "'test string\\nThis is a new string\\n'"
      ]
     },
     "execution_count": 6,
     "metadata": {},
     "output_type": "execute_result"
    }
   ],
   "source": [
    "# считали остаток файла\n",
    "f.read()  # test string\\nThis is a new string\\n"
   ]
  },
  {
   "cell_type": "code",
   "execution_count": 7,
   "id": "cefcaf77-7fe0-4278-b507-999c971ec5a5",
   "metadata": {},
   "outputs": [],
   "source": [
    "# обязательно закрываем файл\n",
    "f.close()"
   ]
  },
  {
   "cell_type": "code",
   "execution_count": 8,
   "id": "8ac25fc5-8f74-41ef-9222-b408c281fdd3",
   "metadata": {},
   "outputs": [],
   "source": [
    "f = open('test.txt', 'a', encoding='utf8')  # открываем файл на дозапись\n",
    " \n",
    "sequence = [\"other string\\n\", \"123\\n\", \"test test\\n\"]\n",
    "f.writelines(sequence) # берет строки из sequence и записывает в файл (без переносов)\n",
    " \n",
    "f.close()"
   ]
  },
  {
   "cell_type": "code",
   "execution_count": 9,
   "id": "e4619c6b-7461-4631-b5eb-9a2810072631",
   "metadata": {},
   "outputs": [
    {
     "name": "stdout",
     "output_type": "stream",
     "text": [
      "['This is a test string\\n', 'This is a new string\\n', 'other string\\n', '123\\n', 'test test\\n']\n"
     ]
    }
   ],
   "source": [
    "f = open('test.txt', 'r', encoding='utf8')\n",
    " \n",
    "print(f.readlines())  # считывает все строки в список и возвращает список\n",
    " \n",
    "f.close()"
   ]
  },
  {
   "cell_type": "code",
   "execution_count": 10,
   "id": "23cd53bc-12e2-4a4b-b95e-19e0f2db3f92",
   "metadata": {},
   "outputs": [
    {
     "name": "stdout",
     "output_type": "stream",
     "text": [
      "This is a test string\n",
      "\n",
      "This\n",
      " is a new string\n",
      "\n"
     ]
    }
   ],
   "source": [
    "f = open('test.txt', 'r', encoding='utf8')\n",
    " \n",
    "print(f.readline())  # This is a test string\n",
    "print(f.read(4))  # This\n",
    "print(f.readline())  #  is a new string\n",
    " \n",
    "f.close()"
   ]
  },
  {
   "cell_type": "code",
   "execution_count": 11,
   "id": "0ac30398-a728-4f1e-b2a2-b6206f68bf93",
   "metadata": {},
   "outputs": [
    {
     "name": "stdout",
     "output_type": "stream",
     "text": [
      "This is a test string\n",
      "This is a new string\n",
      "other string\n",
      "123\n",
      "test test\n"
     ]
    }
   ],
   "source": [
    "f = open('test.txt') # можно перечислять строки в файле\n",
    "for line in f:\n",
    "    print(line, end='')\n",
    "    \n",
    "# This is a test string\n",
    "# This is a new string\n",
    "# other string\n",
    "# 123\n",
    "# test test\n",
    " \n",
    "f.close()"
   ]
  },
  {
   "cell_type": "code",
   "execution_count": 12,
   "id": "dccfafef-7ec8-4aff-8292-23a41b2bbf5f",
   "metadata": {},
   "outputs": [
    {
     "ename": "ValueError",
     "evalue": "read of closed file",
     "output_type": "error",
     "traceback": [
      "\u001b[0;31m---------------------------------------------------------------------------\u001b[0m",
      "\u001b[0;31mValueError\u001b[0m                                Traceback (most recent call last)",
      "\u001b[0;32m<ipython-input-12-00d9fecf1655>\u001b[0m in \u001b[0;36m<module>\u001b[0;34m\u001b[0m\n\u001b[1;32m      4\u001b[0m     \u001b[0mb\u001b[0m \u001b[0;34m=\u001b[0m \u001b[0mf\u001b[0m\u001b[0;34m.\u001b[0m\u001b[0mread\u001b[0m\u001b[0;34m(\u001b[0m\u001b[0;36m23\u001b[0m\u001b[0;34m)\u001b[0m\u001b[0;34m\u001b[0m\u001b[0;34m\u001b[0m\u001b[0m\n\u001b[1;32m      5\u001b[0m \u001b[0;34m\u001b[0m\u001b[0m\n\u001b[0;32m----> 6\u001b[0;31m \u001b[0mf\u001b[0m\u001b[0;34m.\u001b[0m\u001b[0mread\u001b[0m\u001b[0;34m(\u001b[0m\u001b[0;36m3\u001b[0m\u001b[0;34m)\u001b[0m  \u001b[0;31m# Error!\u001b[0m\u001b[0;34m\u001b[0m\u001b[0;34m\u001b[0m\u001b[0m\n\u001b[0m",
      "\u001b[0;31mValueError\u001b[0m: read of closed file"
     ]
    }
   ],
   "source": [
    "# В блоке менеджера контекста открытый файл «жив» и с ним можно работать, при выходе из блока - файл закрывается.\n",
    "with open(\"test.txt\", 'rb') as f:\n",
    "    a = f.read(10)\n",
    "    b = f.read(23)\n",
    " \n",
    "f.read(3)  # Error!"
   ]
  },
  {
   "cell_type": "code",
   "execution_count": 15,
   "id": "6e1642c8-1fdc-4d92-aa9f-f03233842f3c",
   "metadata": {},
   "outputs": [],
   "source": [
    "f = open('input.txt', 'w')\n",
    "f.write(\"Test post\")\n",
    "f.close()\n",
    "with open('input.txt', 'r') as input_file:\n",
    "   with open('output.txt', 'w') as output_file:\n",
    "       for line in input_file:\n",
    "           output_file.write(line)"
   ]
  },
  {
   "cell_type": "code",
   "execution_count": 21,
   "id": "871019bb-82b4-40b9-8b42-e5891af47993",
   "metadata": {},
   "outputs": [],
   "source": [
    "filename = 'numbers.txt'\n",
    "output = 'output.txt'\n",
    "with open(filename) as f:\n",
    "    numbers = []\n",
    "    for line in f:\n",
    "        numbers.append(float(line))\n",
    "    sum_ = min(numbers) + max(numbers)\n",
    "with open(output, 'w') as f:\n",
    "    f.write(str(sum_))\n",
    "    f.write('\\n')"
   ]
  },
  {
   "cell_type": "code",
   "execution_count": 22,
   "id": "5ac7b8d5-e0b0-4b9f-a926-eda266b1b784",
   "metadata": {},
   "outputs": [
    {
     "name": "stdout",
     "output_type": "stream",
     "text": [
      "Дмитриев Н. 2\n",
      "Котов Д. 2\n",
      "Бирюкова Н. 1\n",
      "Лемонов Ю. 2\n",
      "\n"
     ]
    }
   ],
   "source": [
    "output = \"\"\n",
    "for line in open (\"input.txt\", encoding=\"UTF-8\"):\n",
    "   points = int(line.split()[-1])\n",
    "   if points < 3:\n",
    "       output += line\n",
    "print(output)"
   ]
  },
  {
   "cell_type": "code",
   "execution_count": 23,
   "id": "544803ad-c548-45cd-94b4-ff60e6b27cc7",
   "metadata": {},
   "outputs": [],
   "source": [
    "with open('input.txt', 'r') as input_file:\n",
    "   with open('output.txt', 'w') as output_file:\n",
    "       for line in reversed(input_file.readlines()):\n",
    "           output_file.write(line)"
   ]
  },
  {
   "cell_type": "code",
   "execution_count": null,
   "id": "6e1b19e1-e7aa-446c-a926-a2e2e185a0df",
   "metadata": {},
   "outputs": [],
   "source": []
  }
 ],
 "metadata": {
  "kernelspec": {
   "display_name": "Python 3",
   "language": "python",
   "name": "python3"
  },
  "language_info": {
   "codemirror_mode": {
    "name": "ipython",
    "version": 3
   },
   "file_extension": ".py",
   "mimetype": "text/x-python",
   "name": "python",
   "nbconvert_exporter": "python",
   "pygments_lexer": "ipython3",
   "version": "3.8.5"
  }
 },
 "nbformat": 4,
 "nbformat_minor": 5
}
