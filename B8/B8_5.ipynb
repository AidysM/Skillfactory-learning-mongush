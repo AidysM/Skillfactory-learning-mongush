{
 "cells": [
  {
   "cell_type": "code",
   "execution_count": 1,
   "id": "d9a02f00-4536-4180-b090-043e4adde5bd",
   "metadata": {},
   "outputs": [],
   "source": [
    "with open(\"file.bin\", \"wt\") as f: # открываем файл с помощью with\n",
    "    f.write(\"abcdefg\")"
   ]
  },
  {
   "cell_type": "markdown",
   "id": "0cd16e58-149d-4c27-b82b-f778438c56ac",
   "metadata": {},
   "source": [
    "Чтобы написать контекстный менеджер, нужно всего лишь помнить о нескольких вещах:\n",
    "\n",
    "Нужно создать класс и написать в нём метод __enter__. Код в этом методе будет выполняться при входе в контекстный менеджер (при создании объекта с ключевым словом with).\n",
    "\n",
    "Написать метод __exit__. Этот метод будет выполнять код, помещённый в него, на выходе.\n",
    "\n",
    "Добавить в этот метод три дополнительных аргумента помимо self — exc_type, exc_val, exc_tb. Зачем они нужны, расскажу чуть позже."
   ]
  },
  {
   "cell_type": "code",
   "execution_count": 2,
   "id": "2f972ea3-b2e0-4eeb-a4bd-5e7b9bfd674d",
   "metadata": {},
   "outputs": [
    {
     "name": "stdout",
     "output_type": "stream",
     "text": [
      "Time passed: 2.002215\n"
     ]
    }
   ],
   "source": [
    "from datetime import datetime\n",
    "import time # проверять действие измерителя будем с помощью библиотеки time\n",
    " \n",
    " \n",
    "# вся суть этого измерителя заключается в том, что мы считаем разницу в секундах между открытием и закрытием контекстного менеджера\n",
    "class Timer:\n",
    "    def __init__(self): \n",
    "            pass\n",
    " \n",
    "    def __enter__(self): # этот метод вызывается при запуске с помощью with. Если вы хотите вернуть какой-то объект, чтобы потом работать с ним в контекстном менеджере, как в примере с файлом, то просто верните этот объект через return\n",
    "            self.start = datetime.utcnow()\n",
    "            return None\n",
    "    \n",
    "    def __exit__(self, exc_type, exc_val, exc_tb): # этот метод срабатывает при выходе из контекстного менеджера\n",
    "            print(f\"Time passed: {(datetime.utcnow() - self.start).total_seconds()}\")\n",
    " \n",
    " \n",
    "with Timer():\n",
    "    time.sleep(2)  # засыпаем на 2 секунды"
   ]
  },
  {
   "cell_type": "markdown",
   "id": "e85d094b-b865-4bc9-92b1-b16f3860fe81",
   "metadata": {},
   "source": [
    "exc_type — это тип исключения, из-за которого вылетел контекстный менеджер. Если всё прошло успешно, то значение этого аргумента будет None.\n",
    "\n",
    "exc_val — сообщение в исключении. Аналогично: если всё прошло успешно, этот аргумент будет None.\n",
    "\n",
    "exc_tb — объект сообщения от интерпретатора. Лучшего его вообще не трогать, если вы не разработчик языка, но тем не менее он всегда ждёт вас здесь. Возможно когда-то, после нашего курса вы….."
   ]
  },
  {
   "cell_type": "markdown",
   "id": "acdf9d6a-77ca-44d1-8929-ff78170dc532",
   "metadata": {},
   "source": [
    "Как можно было догадаться, Python был бы не Python, если бы у него не было библиотек на любой крайний случай. В далёкой версии Python 2.6 появилась возможность создания контекстных менеджеров через генераторы.\n",
    "\n",
    "Давайте взглянем, как это можно сделать.\n",
    "\n",
    "Но перед этим хотелось бы разъяснить разницу в реализации. По сути, здесь разница только в том, что контекстный менеджер на генераторах — это функция (для особо привередливых — генератор). В ней до yield выполняется код, который мы могли бы записать в __enter__, если бы делали контекстный менеджер в виде класса, а после yield пишем код, который выполнился бы в __exit__. То есть до yield — всё что произойдёт при входе, после — всё, что на выходе. Вот и вся разница. Как видите, она не велика."
   ]
  },
  {
   "cell_type": "code",
   "execution_count": 3,
   "id": "bcc86423-c810-4a37-b5b9-24864555af3b",
   "metadata": {},
   "outputs": [
    {
     "name": "stdout",
     "output_type": "stream",
     "text": [
      "Time passed: 2.002228\n"
     ]
    }
   ],
   "source": [
    "from datetime import datetime\n",
    "import time\n",
    " \n",
    " \n",
    "from contextlib import contextmanager # импортируем нужный нам декоратор\n",
    " \n",
    " \n",
    "@contextmanager # оборачиваем функцию в декоратор contextmanager\n",
    "def timer():\n",
    "    start = datetime.utcnow()\n",
    "    yield # если вам нужно что-то вернуть через контекстный менеджер, просто вставьте этот объект сюда.\n",
    "    print(f\"Time passed: {(datetime.utcnow() - start).total_seconds()}\")\n",
    " \n",
    " \n",
    "with timer():\n",
    "    time.sleep(2)"
   ]
  },
  {
   "cell_type": "markdown",
   "id": "ac6c33b8-c36a-4083-921d-ad84f9d4f1b9",
   "metadata": {},
   "source": [
    "Задание 8.5.6"
   ]
  },
  {
   "cell_type": "markdown",
   "id": "c43e6aa1-47eb-47b7-ad00-315f21f3a6b5",
   "metadata": {},
   "source": [
    "Напишите контекстный менеджер, который умеет безопасно работать с файлами.\n",
    "\n",
    "При входе в контекстный менеджер передаются два аргумента: первый — путь к файлу который надо открыть, второй — тип открываемого файла (для записи, для чтения и т. д.). При выходе из контекстного менеджера файл должен закрываться. (Эталоном работы можно считать контекстный менеджер open)."
   ]
  },
  {
   "cell_type": "code",
   "execution_count": 4,
   "id": "564c7646-5082-4d36-a28d-a14bf512c61a",
   "metadata": {},
   "outputs": [],
   "source": [
    "class OpenFile:\n",
    "    def __init__(self, path, type):\n",
    "        self.file = open(path, type)\n",
    "    \n",
    "    def __enter__(self):\n",
    "        return self.file\n",
    "    \n",
    "    def __exit__(self, exc_type, exc_val, exc_tb):\n",
    "        self.file.close()\n",
    " \n",
    " \n",
    "with OpenFile('hello.txt', 'wt') as f:\n",
    "    f.write('Мой контекстный менеджер делает тоже самое!')"
   ]
  },
  {
   "cell_type": "code",
   "execution_count": null,
   "id": "a17e791c-77ad-4a0b-86a8-96fbafeaf9a2",
   "metadata": {},
   "outputs": [],
   "source": []
  }
 ],
 "metadata": {
  "kernelspec": {
   "display_name": "Python 3",
   "language": "python",
   "name": "python3"
  },
  "language_info": {
   "codemirror_mode": {
    "name": "ipython",
    "version": 3
   },
   "file_extension": ".py",
   "mimetype": "text/x-python",
   "name": "python",
   "nbconvert_exporter": "python",
   "pygments_lexer": "ipython3",
   "version": "3.8.5"
  }
 },
 "nbformat": 4,
 "nbformat_minor": 5
}
