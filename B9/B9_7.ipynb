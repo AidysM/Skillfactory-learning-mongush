{
 "cells": [
  {
   "cell_type": "code",
   "execution_count": 4,
   "id": "ba6bf8cb-cdb6-4534-a262-8c4eedb9e72c",
   "metadata": {},
   "outputs": [
    {
     "name": "stdin",
     "output_type": "stream",
     "text": [
      " 1 2 3 4\n",
      " 2\n"
     ]
    },
    {
     "name": "stdout",
     "output_type": "stream",
     "text": [
      "1\n"
     ]
    }
   ],
   "source": [
    "def find(array, element):\n",
    "    for i, a in enumerate(array):\n",
    "        if a == element:\n",
    "            return i\n",
    "    return False\n",
    "\n",
    "array = list(map(int, input().split()))\n",
    "element = int(input())\n",
    "\n",
    "print(find(array, element))"
   ]
  },
  {
   "cell_type": "code",
   "execution_count": 8,
   "id": "345ee4d0-6def-428f-9820-de47c0bb3c43",
   "metadata": {},
   "outputs": [
    {
     "name": "stdin",
     "output_type": "stream",
     "text": [
      " 2 3 4 5 6 3 2 1\n",
      " 2\n"
     ]
    },
    {
     "name": "stdout",
     "output_type": "stream",
     "text": [
      "0\n",
      "2\n"
     ]
    }
   ],
   "source": [
    "def count(array, element):\n",
    "    count = 0\n",
    "    for a in array:\n",
    "        if a == element:\n",
    "            count += 1\n",
    "    return count\n",
    "\n",
    "array = list(map(int, input().split()))\n",
    "element = int(input())\n",
    "\n",
    "print(find(array, element))\n",
    "print(count(array, element))"
   ]
  },
  {
   "cell_type": "code",
   "execution_count": 9,
   "id": "69ee9f49-726b-4add-a05c-d650d873bfdf",
   "metadata": {},
   "outputs": [
    {
     "name": "stdin",
     "output_type": "stream",
     "text": [
      " 10\n"
     ]
    },
    {
     "name": "stdout",
     "output_type": "stream",
     "text": [
      "9\n"
     ]
    }
   ],
   "source": [
    "def binary_search(array, element, left, right): \n",
    "    if left > right: # если левая граница превысила правую,\n",
    "        return False # значит элемент отсутствует\n",
    "    \n",
    "    middle = (right+left) // 2 # находимо середину\n",
    "    if array[middle] == element: # если элемент в середине,\n",
    "        return middle # возвращаем этот индекс\n",
    "    elif element < array[middle]: # если элемент меньше элемента в середине\n",
    "        # рекурсивно ищем в левой половине\n",
    "        return binary_search(array, element, left, middle-1)\n",
    "    else: # иначе в правой\n",
    "        return binary_search(array, element, middle+1, right)\n",
    "\n",
    "element = int(input())\n",
    "array = [i for i in range(1,100)] # 1,2,3,4,...\n",
    "\n",
    "# запускаем алгоритм на левой и правой границе\n",
    "print(binary_search(array, element, 0, 99))"
   ]
  },
  {
   "cell_type": "code",
   "execution_count": null,
   "id": "81fb478e-758f-4416-b3f8-96aba6ae3ee0",
   "metadata": {},
   "outputs": [],
   "source": []
  }
 ],
 "metadata": {
  "kernelspec": {
   "display_name": "Python 3",
   "language": "python",
   "name": "python3"
  },
  "language_info": {
   "codemirror_mode": {
    "name": "ipython",
    "version": 3
   },
   "file_extension": ".py",
   "mimetype": "text/x-python",
   "name": "python",
   "nbconvert_exporter": "python",
   "pygments_lexer": "ipython3",
   "version": "3.8.5"
  }
 },
 "nbformat": 4,
 "nbformat_minor": 5
}
