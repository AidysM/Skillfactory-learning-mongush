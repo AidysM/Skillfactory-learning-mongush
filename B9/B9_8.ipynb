{
 "cells": [
  {
   "cell_type": "markdown",
   "id": "a1ef0e7c-2d48-4b8b-be29-5238488811c9",
   "metadata": {},
   "source": [
    "Мы показываем наивную сортировку, чтобы показать, как делать не нужно ни в коем случае!"
   ]
  },
  {
   "cell_type": "code",
   "execution_count": 1,
   "id": "842027c6-dfb4-4815-a094-26928970823c",
   "metadata": {},
   "outputs": [
    {
     "name": "stdout",
     "output_type": "stream",
     "text": [
      "[1, 2, 3, 4, 5, 6, 7, 8, 9]\n",
      "302889\n"
     ]
    }
   ],
   "source": [
    "import random # модуль, с помощью которого перемешиваем массив\n",
    "\n",
    "# пусть имеем массив всего лишь из 9 элементов\n",
    "array = [2, 3, 1, 4, 6, 5, 9, 8, 7] \n",
    "\n",
    "is_sort = False # станет True, если отсортирован\n",
    "count = 0 # счетчик количества перестановок\n",
    "\n",
    "while not is_sort: # пока не отсортирован\n",
    "    count += 1 # прибавляем 1 к счетчику\n",
    "    \n",
    "    random.shuffle(array) # перемешиваем массив\n",
    "    \n",
    "    # проверяем отсортирован ли\n",
    "    is_sort = True\n",
    "    for i in range(len(array)-1):\n",
    "        if array[i] > array[i+1]:\n",
    "            is_sort = False\n",
    "            break\n",
    "            \n",
    "print(array)\n",
    "# [1, 2, 3, 4, 5, 6, 7, 8, 9]\n",
    "print(count)\n",
    "# 290698"
   ]
  },
  {
   "cell_type": "code",
   "execution_count": 5,
   "id": "d1ef97d3-26e5-4758-be41-f429918e50d3",
   "metadata": {},
   "outputs": [
    {
     "name": "stdout",
     "output_type": "stream",
     "text": [
      "158\n"
     ]
    }
   ],
   "source": [
    "import math\n",
    "N = math.factorial(100)\n",
    "print(len(str(N)))"
   ]
  },
  {
   "cell_type": "markdown",
   "id": "9206c066-8dbc-4c9c-a6ec-a329f6f024eb",
   "metadata": {},
   "source": [
    "Сортировка выбором"
   ]
  },
  {
   "cell_type": "code",
   "execution_count": 15,
   "id": "ffcc55da-b53a-4b6a-9066-103655baea9a",
   "metadata": {},
   "outputs": [
    {
     "name": "stdout",
     "output_type": "stream",
     "text": [
      "[1, 2, 3, 4, 5, 6, 7, 8, 9]\n",
      "45\n"
     ]
    }
   ],
   "source": [
    "array = [2, 3, 1, 4, 6, 5, 9, 8, 7]\n",
    "k = 0\n",
    "for i in range(len(array)): # проходим по всему массиву\n",
    "    idx_min = i # сохраняем индекс предположительно минимального элемента\n",
    "    for j in range(i, len(array)): # \n",
    "        k += 1\n",
    "        if array[j] < array[idx_min]:\n",
    "            idx_min = j\n",
    "            \n",
    "    if i != idx_min: # если индекс не совпадает с минимальным, меняем\n",
    "        array[i], array[idx_min] = array[idx_min], array[i]\n",
    "        \n",
    "        \n",
    "print(array)\n",
    "print(k)"
   ]
  },
  {
   "cell_type": "code",
   "execution_count": 16,
   "id": "618f08be-25a5-4d93-bdbd-114b6f64d92f",
   "metadata": {},
   "outputs": [
    {
     "name": "stdout",
     "output_type": "stream",
     "text": [
      "[9, 8, 7, 6, 5, 4, 3, 2, 1]\n"
     ]
    }
   ],
   "source": [
    "for i in range(len(array)):\n",
    "    idx_max = i \n",
    "    for j in range(i, len(array)):\n",
    "        if array[j] > array[idx_max]:\n",
    "            idx_max = j\n",
    "    if i != idx_max: \n",
    "        array[i], array[idx_max] = array[idx_max], array[i]\n",
    "print(array)    "
   ]
  },
  {
   "cell_type": "markdown",
   "id": "fcd6472d-1aec-4d8f-a91d-2912fc3ebcae",
   "metadata": {},
   "source": [
    "Сортировка пузырьком"
   ]
  },
  {
   "cell_type": "code",
   "execution_count": 17,
   "id": "c226d919-d08e-453e-9cbf-2d469f9a51f2",
   "metadata": {},
   "outputs": [
    {
     "name": "stdout",
     "output_type": "stream",
     "text": [
      "[1, 2, 3, 4, 5, 6, 7, 8, 9]\n"
     ]
    }
   ],
   "source": [
    "array = [2, 3, 1, 4, 6, 5, 9, 8, 7]\n",
    "\n",
    "for i in range(len(array)):\n",
    "    for j in range(len(array)-i-1):\n",
    "        if array[j] > array[j+1]:\n",
    "            array[j], array[j+1] = array[j+1], array[j]\n",
    "        \n",
    "print(array)"
   ]
  },
  {
   "cell_type": "markdown",
   "id": "f1420d5d-d990-49e3-84d1-84ec8a3d7691",
   "metadata": {},
   "source": [
    "Сортировка вставками"
   ]
  },
  {
   "cell_type": "code",
   "execution_count": 22,
   "id": "f2d4f4b0-12cd-4788-ba69-2449f33dbbf1",
   "metadata": {},
   "outputs": [
    {
     "name": "stdout",
     "output_type": "stream",
     "text": [
      "[1, 2, 3, 4, 5, 6, 7, 8, 9]\n",
      "6\n"
     ]
    }
   ],
   "source": [
    "array = [2, 3, 1, 4, 6, 5, 9, 8, 7]\n",
    "k = 0\n",
    "for i in range(1, len(array)):\n",
    "    x = array[i]\n",
    "    idx = i\n",
    "    \n",
    "    while idx > 0 and array[idx-1] > x:\n",
    "        \n",
    "        array[idx] = array[idx-1]\n",
    "        idx -= 1\n",
    "        k += 1\n",
    "    array[idx] = x\n",
    "print(array)\n",
    "print(k)"
   ]
  },
  {
   "cell_type": "markdown",
   "id": "03788f24-c4a2-49ad-aad4-bc666448f786",
   "metadata": {},
   "source": [
    "Сортировка слиянием"
   ]
  },
  {
   "cell_type": "code",
   "execution_count": 24,
   "id": "e3c7b668-f68f-4cd6-8e2d-0ce4de69e6cb",
   "metadata": {},
   "outputs": [
    {
     "data": {
      "text/plain": [
       "[1, 2, 3, 4, 5, 6, 7, 8, 9]"
      ]
     },
     "execution_count": 24,
     "metadata": {},
     "output_type": "execute_result"
    }
   ],
   "source": [
    "array = [2, 3, 1, 4, 6, 5, 9, 8, 7]\n",
    "def merge_sort(L): # \"разделяй\"\n",
    "    if len(L) < 2: # если кусок массива равен 2, \n",
    "        return L[:] # выходим из рекурсии\n",
    "    else:\n",
    "        middle = len(L) // 2 # ищем середину\n",
    "        left = merge_sort(L[:middle]) # рекурсивно делим левую часть\n",
    "        right = merge_sort(L[middle:]) # и правую\n",
    "        return merge(left, right) # выполняем слияние\n",
    "    \n",
    "def merge(left, right): # \"властвуй\"\n",
    "    result = [] # результирующий массив\n",
    "    i,j = 0,0 # указатели на элементы\n",
    "    \n",
    "    # пока указатели не вышли за границы\n",
    "    while i < len(left) and j < len(right):\n",
    "        if left[i] < right[j]:\n",
    "            result.append(left[i])\n",
    "            i += 1\n",
    "        else:\n",
    "            result.append(right[j])\n",
    "            j += 1\n",
    "    \n",
    "    # добавляем хвосты\n",
    "    while i < len(left):\n",
    "        result.append(left[i])\n",
    "        i += 1\n",
    "        \n",
    "    while j < len(right):\n",
    "        result.append(right[j])\n",
    "        j += 1\n",
    "        \n",
    "    return result\n",
    "\n",
    "merge_sort(array)"
   ]
  },
  {
   "cell_type": "markdown",
   "id": "427b6588-628f-40ba-b604-0ba87130dc5d",
   "metadata": {},
   "source": [
    "Быстрая сортировка"
   ]
  },
  {
   "cell_type": "code",
   "execution_count": 44,
   "id": "06af96f2-b38d-4956-8f79-ff129cb00edc",
   "metadata": {},
   "outputs": [
    {
     "name": "stdout",
     "output_type": "stream",
     "text": [
      "[1, 2, 3, 4, 5, 6, 7, 8, 9]\n"
     ]
    }
   ],
   "source": [
    "A = [2, 3, 1, 4, 6, 5, 9, 8, 7]\n",
    "\n",
    "def qsort(array, left, right):\n",
    "    middle = (left+right) // 2\n",
    "    \n",
    "    p = array[middle]\n",
    "    i,j = left, right\n",
    "    while i <= j:\n",
    "        while array[i] < p:\n",
    "            i += 1\n",
    "        while array[j] > p:\n",
    "            j -= 1\n",
    "        if i <= j:\n",
    "            array[i], array[j] = array[j], array[i]\n",
    "            i += 1\n",
    "            j -= 1\n",
    "        \n",
    "    if j > left:\n",
    "        qsort(array, left, j)\n",
    "    if right > i:\n",
    "        qsort(array, i, right)\n",
    "    return array\n",
    "        \n",
    "a = qsort(A, 0, len(A)-1)\n",
    "print(a)"
   ]
  },
  {
   "cell_type": "code",
   "execution_count": 45,
   "id": "e623f4fc-c1bd-457a-9676-88a69b6f0900",
   "metadata": {},
   "outputs": [
    {
     "name": "stdout",
     "output_type": "stream",
     "text": [
      "[1, 2, 3, 4, 5, 6, 7, 8, 9]\n"
     ]
    }
   ],
   "source": [
    "import random\n",
    "\n",
    "# random.choice(array[idx_left: idx_right])\n",
    "\n",
    "def qsort_random(array, left, right):    \n",
    "    p = random.choice(array[left:right+1])\n",
    "    i,j = left, right\n",
    "    while i <= j:\n",
    "        while array[i] < p:\n",
    "            i += 1\n",
    "        while array[j] > p:\n",
    "            j -= 1\n",
    "        if i <= j:\n",
    "            count += 1\n",
    "            array[i], array[j] = array[j], array[i]\n",
    "            i += 1\n",
    "            j -= 1\n",
    "        \n",
    "    if j > left:\n",
    "        qsort_random(array, left, j)\n",
    "    if right > i:\n",
    "        qsort_random(array, i, right)\n",
    "        \n",
    "a = qsort(A, 0, len(A)-1)\n",
    "print(a)"
   ]
  },
  {
   "cell_type": "code",
   "execution_count": null,
   "id": "e8380252-15e7-4918-9e78-b42140ed8ca1",
   "metadata": {},
   "outputs": [],
   "source": []
  }
 ],
 "metadata": {
  "kernelspec": {
   "display_name": "Python 3",
   "language": "python",
   "name": "python3"
  },
  "language_info": {
   "codemirror_mode": {
    "name": "ipython",
    "version": 3
   },
   "file_extension": ".py",
   "mimetype": "text/x-python",
   "name": "python",
   "nbconvert_exporter": "python",
   "pygments_lexer": "ipython3",
   "version": "3.8.5"
  }
 },
 "nbformat": 4,
 "nbformat_minor": 5
}
