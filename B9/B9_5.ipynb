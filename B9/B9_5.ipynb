{
 "cells": [
  {
   "cell_type": "code",
   "execution_count": 1,
   "id": "9be28721-f2ad-44c8-901c-8ee7446d0bc5",
   "metadata": {},
   "outputs": [],
   "source": [
    "G = {\"Адмиралтейская\" : \n",
    "         [\"Садовая\"],\n",
    "     \"Садовая\" : \n",
    "         [\"Сенная площадь\", \n",
    "          \"Спасская\", \n",
    "          \"Адмиралтейская\", \n",
    "          \"Звенигородская\"],\n",
    "     \"Сенная площадь\" : \n",
    "         [\"Садовая\", \n",
    "          \"Спасская\"],\n",
    "     \"Спасская\" : \n",
    "         [\"Садовая\", \n",
    "          \"Сенная площадь\", \n",
    "          \"Достоевская\"],\n",
    "     \"Звенигородская\" : \n",
    "         [\"Пушкинская\", \n",
    "          \"Садовая\"],\n",
    "     \"Пушкинская\" : \n",
    "         [\"Звенигородская\", \n",
    "          \"Владимирская\"],\n",
    "     \"Владимирская\" : \n",
    "         [\"Достоевская\", \n",
    "          \"Пушкинская\"],\n",
    "     \"Достоевская\" : \n",
    "         [\"Владимирская\", \n",
    "          \"Спасская\"]}"
   ]
  },
  {
   "cell_type": "code",
   "execution_count": 2,
   "id": "9fcdbd3d-3837-4665-b260-7e7bd9b31e2f",
   "metadata": {},
   "outputs": [],
   "source": [
    "G = {0 : {1 : 1, \n",
    "          2 : 1,\n",
    "          3 : 1},\n",
    "     1 : {0 : 1,\n",
    "          2 : 1},\n",
    "     2 : {0 : 1, \n",
    "          1 : 1},\n",
    "     3 : {0 : 1}}"
   ]
  },
  {
   "cell_type": "code",
   "execution_count": 3,
   "id": "701ca6c6-fc19-4f09-8055-e25479cafd00",
   "metadata": {},
   "outputs": [],
   "source": [
    "G = {\"Адмиралтейская\" : \n",
    "         {\"Садовая\" : 4},\n",
    "     \"Садовая\" : \n",
    "         {\"Сенная площадь\" : 3, \n",
    "          \"Спасская\" : 3, \n",
    "          \"Адмиралтейская\" : 4, \n",
    "          \"Звенигородская\" : 5},\n",
    "     \"Сенная площадь\" : \n",
    "         {\"Садовая\" : 3, \n",
    "          \"Спасская\" : 3},\n",
    "     \"Спасская\" : \n",
    "         {\"Садовая\" : 3, \n",
    "          \"Сенная площадь\" : 3, \n",
    "          \"Достоевская\" : 4},\n",
    "     \"Звенигородская\" : \n",
    "         {\"Пушкинская\" : 3, \n",
    "          \"Садовая\" : 5},\n",
    "     \"Пушкинская\" : \n",
    "         {\"Звенигородская\" : 3, \n",
    "          \"Владимирская\" : 4},\n",
    "     \"Владимирская\" : \n",
    "         {\"Достоевская\" : 3, \n",
    "          \"Пушкинская\" : 4},\n",
    "     \"Достоевская\" : \n",
    "         {\"Владимирская\" : 3, \n",
    "          \"Спасская\" : 4}}"
   ]
  },
  {
   "cell_type": "code",
   "execution_count": 5,
   "id": "ae5d7293-2336-42d2-a3c7-4d48cb6e4d18",
   "metadata": {},
   "outputs": [
    {
     "name": "stdout",
     "output_type": "stream",
     "text": [
      "{'Адмиралтейская': 0, 'Садовая': 4, 'Сенная площадь': 7, 'Спасская': 7, 'Звенигородская': 9, 'Пушкинская': 12, 'Владимирская': 14, 'Достоевская': 11}\n"
     ]
    }
   ],
   "source": [
    "D = {k : 100 for k in G.keys()} # расстояния\n",
    "start_k = 'Адмиралтейская' # стартовая вершина\n",
    "D[start_k] = 0 # расстояние от нее до самой себя равно нулю\n",
    "U = {k : False for k in G.keys()} # флаги просмотра вершин\n",
    "\n",
    "for _ in range(len(D)):\n",
    "    # выбираем среди непросмотренных наименьшее по расстоянию\n",
    "    min_k = min([k for k in U.keys() if not U[k]], key = lambda x: D[x])\n",
    "\n",
    "    for v in G[min_k].keys(): # проходимся по всем смежным вершинам\n",
    "        D[v] = min(D[v], D[min_k] + G[min_k][v]) # минимум\n",
    "    U[min_k] = True # просмотренную вершину помечаем\n",
    "\n",
    "print(D)"
   ]
  },
  {
   "cell_type": "code",
   "execution_count": 10,
   "id": "3523c039-fbfc-4f09-912d-2460e4f5d7c5",
   "metadata": {},
   "outputs": [
    {
     "name": "stdout",
     "output_type": "stream",
     "text": [
      "Владимирская\n",
      "Достоевская\n",
      "Спасская\n",
      "Садовая\n",
      "Адмиралтейская\n"
     ]
    }
   ],
   "source": [
    "D = {k : 100 for k in G.keys()} # расстояния\n",
    "start_k = 'Адмиралтейская' # стартовая вершина\n",
    "D[start_k] = 0 # расстояние от нее до самой себя равно нулю\n",
    "U = {k : False for k in G.keys()} # флаги просмотра вершин\n",
    "P = {k : None for k in G.keys()} # предки\n",
    "\n",
    "for _ in range(len(D)):\n",
    "    # выбираем среди непросмотренных наименьшее по расстоянию\n",
    "    min_k = min([k for k in U.keys() if not U[k]], key = lambda x: D[x])\n",
    "\n",
    "    for v in G[min_k].keys(): # проходимся по всем смежным вершинам\n",
    "         if D[v] > D[min_k] + G[min_k][v]: # если расстояние от текущей вершины меньше\n",
    "            D[v] = D[min_k] + G[min_k][v] # то фиксируем его\n",
    "            P[v] = min_k # и записываем как предок\n",
    "    U[min_k] = True # просмотренную вершину помечаем\n",
    "    \n",
    "pointer = \"Владимирская\" # куда должны прийти\n",
    "while pointer is not None: # перемещаемся, пока не придем в стартовую точку\n",
    "    print(pointer)\n",
    "    pointer = P[pointer]"
   ]
  },
  {
   "cell_type": "code",
   "execution_count": 11,
   "id": "f827d2d3-85de-46f8-b90f-fddf9876e36c",
   "metadata": {},
   "outputs": [],
   "source": [
    "class BinaryTree:\n",
    "    def __init__(self, value):\n",
    "        self.value = value\n",
    "        self.left_child = None\n",
    "        self.right_child = None\n",
    "    def insert_left(self, next_value):\n",
    "        if self.left_child is None:\n",
    "            self.left_child = BinaryTree(next_value)\n",
    "        else:\n",
    "            new_child = BinaryTree(next_value)\n",
    "            new_child.left_child = self.left_child\n",
    "            self.left_child = new_child\n",
    "        return self\n",
    "    def insert_right(self, next_value):\n",
    "        if self.right_child is None:\n",
    "            self.right_child = BinaryTree(next_value)\n",
    "        else:\n",
    "            new_child = BinaryTree(next_value)\n",
    "            new_child.right_child = self.right_child\n",
    "            self.right_child = new_child\n",
    "        return self\n",
    "    \n",
    "A_node = BinaryTree('A').insert_left('B').insert_right('C')"
   ]
  },
  {
   "cell_type": "code",
   "execution_count": 12,
   "id": "67e8649c-c95d-42d3-990c-ac9f872a6cb0",
   "metadata": {},
   "outputs": [],
   "source": [
    "# создаем корень и его потомки /7|2|5\\\n",
    "node_root = BinaryTree(2).insert_left(7).insert_right(5)\n",
    "# левое поддерево корня /2|7|6\\\n",
    "node_7 = node_root.left_child.insert_left(2).insert_right(6)\n",
    "# правое поддерево предыдущего узла /5|6|11\\\n",
    "node_6 = node_7.right_child.insert_left(5).insert_right(11)\n",
    "# правое поддерево корня /|5|9\\\n",
    "node_5 = node_root.right_child.insert_right(9)\n",
    "# левое поддерево предыдущего узла корня /4|9|\\\n",
    "node_9 = node_5.right_child.insert_left(4)"
   ]
  },
  {
   "cell_type": "code",
   "execution_count": 21,
   "id": "4f546f16-440d-4e2c-ba50-b833671d2027",
   "metadata": {},
   "outputs": [],
   "source": [
    "class BinaryTree:\n",
    "    def __init__(self, value):\n",
    "        self.value = value\n",
    "        self.left_child = None\n",
    "        self.right_child = None\n",
    "    def insert_left(self, next_value):\n",
    "        if self.left_child is None:\n",
    "            self.left_child = BinaryTree(next_value)\n",
    "        else:\n",
    "            new_child = BinaryTree(next_value)\n",
    "            new_child.left_child = self.left_child\n",
    "            self.left_child = new_child\n",
    "        return self\n",
    "    def insert_right(self, next_value):\n",
    "        if self.right_child is None:\n",
    "            self.right_child = BinaryTree(next_value)\n",
    "        else:\n",
    "            new_child = BinaryTree(next_value)\n",
    "            new_child.right_child = self.right_child\n",
    "            self.right_child = new_child\n",
    "        return self\n",
    "    def pre_order(self):\n",
    "        print(self.value) # процедура обработки\n",
    "\n",
    "        if self.left_child is not None: # если левый потомок существует\n",
    "            self.left_child.pre_order() # рекурсивно вызываем функцию\n",
    "\n",
    "        if self.right_child is not None: # если правый потомок существует\n",
    "            self.right_child.pre_order() # рекурсивно вызываем функцию\n",
    "    def post_order(self):\n",
    "        if self.left_child is not None: # если левый потомок существует\n",
    "            self.left_child.post_order() # рекурсивно вызываем функцию\n",
    "\n",
    "        if self.right_child is not None: # если правый потомок существует\n",
    "            self.right_child.post_order() # рекурсивно вызываем функцию\n",
    "\n",
    "        print(self.value) # процедура обработки\n",
    "    def in_order(self):\n",
    "        if self.left_child is not None: # если левый потомок существует\n",
    "            self.left_child.in_order() # рекурсивно вызываем функцию\n",
    "\n",
    "        print(self.value) # процедура обработки\n",
    "\n",
    "        if self.right_child is not None: # если правый потомок существует\n",
    "            self.right_child.in_order() # рекурсивно вызываем функцию"
   ]
  },
  {
   "cell_type": "code",
   "execution_count": 23,
   "id": "675861f5-0df9-4e3a-9424-2e99c34699f5",
   "metadata": {},
   "outputs": [],
   "source": [
    "# создаем корень и его потомки /7|2|5\\\n",
    "node_root = BinaryTree(2).insert_left(7).insert_right(5)\n",
    "# левое поддерево корня /2|7|6\\\n",
    "node_7 = node_root.left_child.insert_left(2).insert_right(6)\n",
    "# правое поддерево предыдущего узла /5|6|11\\\n",
    "node_6 = node_7.right_child.insert_left(5).insert_right(11)\n",
    "# правое поддерево корня /|5|9\\\n",
    "node_5 = node_root.right_child.insert_right(9)\n",
    "# левое поддерево предыдущего узла корня /4|9|\\\n",
    "node_9 = node_5.right_child.insert_left(4)"
   ]
  },
  {
   "cell_type": "code",
   "execution_count": 15,
   "id": "e719ae99-eade-47cb-b8c4-5a746849f264",
   "metadata": {},
   "outputs": [
    {
     "name": "stdout",
     "output_type": "stream",
     "text": [
      "2\n",
      "7\n",
      "2\n",
      "6\n",
      "5\n",
      "11\n",
      "5\n",
      "9\n",
      "4\n"
     ]
    }
   ],
   "source": [
    "node_root.pre_order()\n",
    "# 2\n",
    "# 7\n",
    "# 2\n",
    "# 6\n",
    "# 5\n",
    "# 11\n",
    "# 5\n",
    "# 9\n",
    "# 4"
   ]
  },
  {
   "cell_type": "code",
   "execution_count": 19,
   "id": "a7ae85cc-125f-4570-a8f6-e2defc2d8097",
   "metadata": {},
   "outputs": [
    {
     "name": "stdout",
     "output_type": "stream",
     "text": [
      "2\n",
      "5\n",
      "11\n",
      "6\n",
      "7\n",
      "4\n",
      "9\n",
      "5\n",
      "2\n"
     ]
    }
   ],
   "source": [
    "node_root.post_order()"
   ]
  },
  {
   "cell_type": "code",
   "execution_count": 24,
   "id": "7cba0bef-dbf7-4245-b7c8-1fb65b89fca5",
   "metadata": {},
   "outputs": [
    {
     "name": "stdout",
     "output_type": "stream",
     "text": [
      "2\n",
      "7\n",
      "5\n",
      "6\n",
      "11\n",
      "2\n",
      "5\n",
      "4\n",
      "9\n"
     ]
    }
   ],
   "source": [
    "node_root.in_order()\n",
    "# 2\n",
    "# 7\n",
    "# 5\n",
    "# 6\n",
    "# 11\n",
    "# 2\n",
    "# 5\n",
    "# 4\n",
    "# 9"
   ]
  },
  {
   "cell_type": "code",
   "execution_count": null,
   "id": "c385df60-604e-4ab3-8a85-964ad00410b8",
   "metadata": {},
   "outputs": [],
   "source": []
  }
 ],
 "metadata": {
  "kernelspec": {
   "display_name": "Python 3",
   "language": "python",
   "name": "python3"
  },
  "language_info": {
   "codemirror_mode": {
    "name": "ipython",
    "version": 3
   },
   "file_extension": ".py",
   "mimetype": "text/x-python",
   "name": "python",
   "nbconvert_exporter": "python",
   "pygments_lexer": "ipython3",
   "version": "3.8.5"
  }
 },
 "nbformat": 4,
 "nbformat_minor": 5
}
