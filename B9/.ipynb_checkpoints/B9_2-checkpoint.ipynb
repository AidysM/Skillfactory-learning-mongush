{
 "cells": [
  {
   "cell_type": "markdown",
   "id": "22a14ed1-73b7-4543-89db-e67982145bbe",
   "metadata": {},
   "source": [
    "Для оценки сложности алгоритмов вводятся 3 математические величины:\n",
    "\n",
    "«О» большая — верхняя оценка сложности алгоритма;\n",
    "«Ω» (омега) — нижняя оценка сложности;\n",
    "«Θ» (тета) — точная оценка сложности."
   ]
  },
  {
   "cell_type": "code",
   "execution_count": 5,
   "id": "01f13023-c38c-44dc-8cf1-e38edb5cbcd0",
   "metadata": {},
   "outputs": [
    {
     "data": {
      "text/plain": [
       "752.5749891599529"
      ]
     },
     "execution_count": 5,
     "metadata": {},
     "output_type": "execute_result"
    }
   ],
   "source": [
    "import math\n",
    "10000/math.log(10000, 2)"
   ]
  },
  {
   "cell_type": "code",
   "execution_count": null,
   "id": "62b6f41c-115a-481a-b0ed-2ea27040f76a",
   "metadata": {},
   "outputs": [],
   "source": []
  }
 ],
 "metadata": {
  "kernelspec": {
   "display_name": "Python 3",
   "language": "python",
   "name": "python3"
  },
  "language_info": {
   "codemirror_mode": {
    "name": "ipython",
    "version": 3
   },
   "file_extension": ".py",
   "mimetype": "text/x-python",
   "name": "python",
   "nbconvert_exporter": "python",
   "pygments_lexer": "ipython3",
   "version": "3.8.5"
  }
 },
 "nbformat": 4,
 "nbformat_minor": 5
}
