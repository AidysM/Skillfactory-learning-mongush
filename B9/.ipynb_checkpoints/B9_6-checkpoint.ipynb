{
 "cells": [
  {
   "cell_type": "code",
   "execution_count": 3,
   "id": "69be1b77-d610-4a84-a906-92ff41b725bf",
   "metadata": {},
   "outputs": [],
   "source": [
    "class Node: # класс элемента\n",
    "    def __init__(self, value = None, next_ = None): # инициализируем\n",
    "        self.value = value # значением\n",
    "        self.next = next_ # и ссылкой на следующий элемент\n",
    "\n",
    "    def __str__(self):\n",
    "        return \"Node value = \" + str(self.value)\n",
    "\n",
    "class LinkedList: # класс списка\n",
    "    def __init__(self): # инициализируем пустым\n",
    "        self.first = None\n",
    "        self.last = None\n",
    "        \n",
    "    def clear(self): # очищаем список\n",
    "        self.__init__()\n",
    "    \n",
    "    def __str__(self): # функция печати \n",
    "        R = ''\n",
    "        \n",
    "        pointer = self.first # берем первый указатель\n",
    "        while pointer is not None: # пока указатель не станет None\n",
    "            R += str(pointer.value) # добавляем значение в строку\n",
    "            pointer = pointer.next # идем дальше по указателю\n",
    "            if pointer is not None: # если он существует добавляем пробел\n",
    "                R += ' '\n",
    "        return R\n",
    "    \n",
    "    def pushleft(self, value):\n",
    "        if self.first is None:\n",
    "            self.first = Node(value)\n",
    "            self.last = self.first\n",
    "        else:\n",
    "            new_node = Node(value, self.first)\n",
    "            self.first = new_node\n",
    "    \n",
    "    def pushright(self, value):\n",
    "        if self.first is None:\n",
    "            self.first = Node(value)\n",
    "            self.last = self.first\n",
    "        else:\n",
    "            new_node = Node(value)\n",
    "            self.last.next = new_node    \n",
    "            self.last = new_node\n",
    "    \n",
    "    def popleft(self):\n",
    "        if self.first is None: # если список пустой, возвращаем None\n",
    "            return None\n",
    "        elif self.first == self.last: # если список содержит только один элемент\n",
    "            node = self.first # сохраняем его\n",
    "            self.__init__() # очищаем\n",
    "            return node # и возвращаем сохраненный элемент\n",
    "        else:\n",
    "            node = self.first # сохраняем первый элемент\n",
    "            self.first = self.first.next # меняем указатель на первый элемент\n",
    "            return node # возвращаем сохраненный\n",
    "    \n",
    "    def popright(self): \n",
    "        if self.first is None: # если список пустой, возвращаем None\n",
    "            return None\n",
    "        elif self.first == self.last: # если список содержит только один элемент\n",
    "            node = self.first # сохраняем его\n",
    "            self.__init__() # очищаем\n",
    "            return node # и возвращаем сохраненный элемент\n",
    "        else:\n",
    "            node = self.last # сохраняем последний\n",
    "            pointer = self.first # создаем указатель\n",
    "            while pointer.next is not node: # пока не найдем предпоследний\n",
    "                pointer = pointer.next\n",
    "            pointer.next = None # обнуляем указатели, чтобы\n",
    "            self.last = pointer # предпоследний стал последним\n",
    "            return node # возвращаем сохраненный\n",
    "    \n",
    "    def __iter__(self): # объявляем класс как итератор\n",
    "        self.current = self.first # в текущий элемент помещаем первый\n",
    "        return self # возвращаем итератор\n",
    "\n",
    "    def __next__(self): # метод перехода\n",
    "        if self.current is None: # если текущий стал последним\n",
    "            raise StopIteration # вызываем исключение\n",
    "        else:\n",
    "            node = self.current # сохраняем текущий элемент\n",
    "            self.current = self.current.next # совершаем переход\n",
    "            return node # и возвращаем сохраненный\n",
    "        \n",
    "    def __len__(self):\n",
    "        count = 0\n",
    "        pointer = self.first\n",
    "        while pointer is not None:\n",
    "            count += 1\n",
    "            pointer = pointer.next\n",
    "        return count\n",
    "\n"
   ]
  },
  {
   "cell_type": "code",
   "execution_count": 5,
   "id": "66137252-3126-417a-8bdb-58554ae9c484",
   "metadata": {},
   "outputs": [
    {
     "name": "stdout",
     "output_type": "stream",
     "text": [
      "2 1 5\n"
     ]
    }
   ],
   "source": [
    "LL = LinkedList()\n",
    "\n",
    "LL.pushright(1)\n",
    "LL.pushleft(2)\n",
    "LL.pushright(3)\n",
    "LL.popright()\n",
    "LL.pushleft(4)\n",
    "LL.pushright(5)\n",
    "LL.popleft()\n",
    "\n",
    "print(LL)"
   ]
  },
  {
   "cell_type": "code",
   "execution_count": 7,
   "id": "5abd39a6-3aa9-45cf-bf24-de0e7ed09679",
   "metadata": {},
   "outputs": [
    {
     "data": {
      "text/plain": [
       "3"
      ]
     },
     "execution_count": 7,
     "metadata": {},
     "output_type": "execute_result"
    }
   ],
   "source": [
    "LL.__len__()"
   ]
  },
  {
   "cell_type": "code",
   "execution_count": null,
   "id": "9cc712fd-2dec-4671-bb47-817d50425823",
   "metadata": {},
   "outputs": [],
   "source": []
  }
 ],
 "metadata": {
  "kernelspec": {
   "display_name": "Python 3",
   "language": "python",
   "name": "python3"
  },
  "language_info": {
   "codemirror_mode": {
    "name": "ipython",
    "version": 3
   },
   "file_extension": ".py",
   "mimetype": "text/x-python",
   "name": "python",
   "nbconvert_exporter": "python",
   "pygments_lexer": "ipython3",
   "version": "3.8.5"
  }
 },
 "nbformat": 4,
 "nbformat_minor": 5
}
