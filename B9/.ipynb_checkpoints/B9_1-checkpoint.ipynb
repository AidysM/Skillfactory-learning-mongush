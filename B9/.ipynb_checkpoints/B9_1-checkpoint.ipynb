{
 "cells": [
  {
   "cell_type": "markdown",
   "id": "05b81253-65bb-4db7-8f9b-6323e7ea2fa4",
   "metadata": {},
   "source": [
    "«Плохие программисты беспокоятся о коде. Хорошие программисты беспокоятся о структурах данных и их отношениях».\n",
    "\n",
    "Линус Торвальдс, создатель ядра ОС Linux.\n",
    "\n",
    "Конечно, это высказывание г-на Торвальдса не стоит воспринимать слишком буквально. Хорошие программисты беспокоятся и о коде тоже, но речь идет о первостепенной важности — ее имеют структуры данных, используемые в программе, и алгоритмы работы с ними. Как упоминали многие мэтры computer science (а именно так в англоговорящих странах называют всё, что прямо или косвенно относится к IT), лучше иметь умные структуры и не очень качественный код, чем наоборот."
   ]
  },
  {
   "cell_type": "code",
   "execution_count": null,
   "id": "c36a321e-7587-4462-948a-d1fe85e9c5aa",
   "metadata": {},
   "outputs": [],
   "source": []
  }
 ],
 "metadata": {
  "kernelspec": {
   "display_name": "Python 3",
   "language": "python",
   "name": "python3"
  },
  "language_info": {
   "codemirror_mode": {
    "name": "ipython",
    "version": 3
   },
   "file_extension": ".py",
   "mimetype": "text/x-python",
   "name": "python",
   "nbconvert_exporter": "python",
   "pygments_lexer": "ipython3",
   "version": "3.8.5"
  }
 },
 "nbformat": 4,
 "nbformat_minor": 5
}
