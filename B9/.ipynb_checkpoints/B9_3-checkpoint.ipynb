{
 "cells": [
  {
   "cell_type": "markdown",
   "id": "bee8bd0a-f86d-4985-9f08-d88ba91b73c9",
   "metadata": {},
   "source": [
    "Какую верхнюю оценку сложности будет иметь операция добавления к массиву размера n элементов массива размера m, предполагая, что размер результирующего массива n+m выйдет за пределы исходного."
   ]
  },
  {
   "cell_type": "markdown",
   "id": "39a7e9b9-dc2b-4135-bc87-bb30a41e933a",
   "metadata": {},
   "source": [
    "O(m+n)"
   ]
  },
  {
   "cell_type": "markdown",
   "id": "ca52116d-3b86-4907-979c-edaf16116422",
   "metadata": {},
   "source": [
    "Словарный тип данных, с которым мы уже хорошо знакомы, реализует принцип структурирования данных, называющийся хэш-таблицы."
   ]
  },
  {
   "cell_type": "markdown",
   "id": "dc5fb86a-2283-4a37-9774-4720f77cc3ae",
   "metadata": {},
   "source": [
    "Его суть заключается в том, что каждое значение обладает ключом доступа к нему. Тогда имеем, что все значения хранятся в обычном массиве (скрытом от нас), а в качестве индекса используется результат хэширования ключа."
   ]
  },
  {
   "cell_type": "markdown",
   "id": "6487a63b-3eb4-49e0-8ada-d569c229be66",
   "metadata": {},
   "source": [
    "В данном случае под хэшированием понимается преобразование объекта, выступающего ключом, в целое число — индекс, используемый для доступа к значению."
   ]
  },
  {
   "cell_type": "markdown",
   "id": "af343baa-c466-49a5-8e44-526ab8b8d65b",
   "metadata": {},
   "source": [
    "Исходя из этого, на ключи накладываются некоторые условия, которые уже обсуждались нами ранее — ключ должен быть уникальным, а также неизменяемым. Только обладая этими двумя условиями, хэш-таблица сможет корректно восстановить данные по ключу."
   ]
  },
  {
   "cell_type": "code",
   "execution_count": null,
   "id": "0b00bec0-4f6f-4db6-bef5-f529a472c3b9",
   "metadata": {},
   "outputs": [],
   "source": []
  }
 ],
 "metadata": {
  "kernelspec": {
   "display_name": "Python 3",
   "language": "python",
   "name": "python3"
  },
  "language_info": {
   "codemirror_mode": {
    "name": "ipython",
    "version": 3
   },
   "file_extension": ".py",
   "mimetype": "text/x-python",
   "name": "python",
   "nbconvert_exporter": "python",
   "pygments_lexer": "ipython3",
   "version": "3.8.5"
  }
 },
 "nbformat": 4,
 "nbformat_minor": 5
}
