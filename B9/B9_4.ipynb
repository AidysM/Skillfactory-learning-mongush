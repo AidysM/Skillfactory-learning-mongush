{
 "cells": [
  {
   "cell_type": "markdown",
   "id": "288cc744-dc78-4e7a-be8a-b5c4493a5f99",
   "metadata": {},
   "source": [
    "Список — это также упорядоченный набор элементов. Однако, в отличие от массива, который хранится последовательно в одной области памяти, и каждой ячейке линейно соответствует определенный индекс, список может быть хаотично распределен в памяти. Порядок в этой структуре данных задается наличием указателей на следующий (и/или предыдущий) элемент в списке."
   ]
  },
  {
   "cell_type": "markdown",
   "id": "f0435825-d39a-40d0-a4da-a171a6b51e6f",
   "metadata": {},
   "source": [
    "Если в каждой ячейке памяти хранится указатель только на следующий элемент, то список называется односвязным. Если указатель и на предыдущий и на следующий — имеем двусвязный список. Помимо прочего в ячейке может храниться «индекс» — некоторый порядковый номер объекта в списке. Однако доступ к элементу списка по индексу сильно отличается от аналогичной операции в массиве из-за особенностей хранения. Часто используется хранение в первой ячейке указателя на последний элемент."
   ]
  },
  {
   "cell_type": "code",
   "execution_count": 2,
   "id": "f929e232-d7fb-4b64-a5a5-c0ba3ee1e184",
   "metadata": {},
   "outputs": [
    {
     "name": "stdout",
     "output_type": "stream",
     "text": [
      "1\n",
      "2\n",
      "3\n",
      "4\n",
      "5\n"
     ]
    }
   ],
   "source": [
    "def p(n):\n",
    "    if n == 0:\n",
    "        return\n",
    "    else:\n",
    "        p(n-1)\n",
    "        print(n)\n",
    "p(5)\n",
    "# 1\n",
    "# 2\n",
    "# 3\n",
    "# 4\n",
    "# 5"
   ]
  },
  {
   "cell_type": "markdown",
   "id": "cb20d8ff-c2fa-4823-9f22-4a0145c059d2",
   "metadata": {},
   "source": [
    "Здесь мы видим, что сначала выполнились действия последней функции в порядке вызовов, затем предпоследней и т. д., пока не дойдем до первого.\n",
    "\n",
    "Такой принцип имеет общепринятое название — LIFO — Last In First Out (последний вошел — первый вышел). И именно этот принцип реализует стек."
   ]
  },
  {
   "cell_type": "code",
   "execution_count": 7,
   "id": "98676acd-298c-41e4-b50b-4bf8ac2b33a4",
   "metadata": {},
   "outputs": [
    {
     "data": {
      "text/plain": [
       "True"
      ]
     },
     "execution_count": 7,
     "metadata": {},
     "output_type": "execute_result"
    }
   ],
   "source": [
    "sk = '(()(()(()())))'\n",
    "\n",
    "def par_checker(string):\n",
    "    stack = [] # инициализируем стек\n",
    "    \n",
    "    for s in string: # читаем строку посимвольно\n",
    "        if s == \"(\": # если открывающая скобка, \n",
    "            stack.append(s) # добавляем ее в стек\n",
    "        elif s == \")\": \n",
    "            # если встретилась закрывающая скобка, то проверяем\n",
    "            # пуст ли стек и является ли верхний элемент - открывающей скобкой\n",
    "            if len(stack) > 0 and stack[-1] == \"(\":\n",
    "                stack.pop() # удаляем из стека\n",
    "            else: # иначе завершаем функцию с False\n",
    "                return False\n",
    "    # если стек пустой, то незакрытых скобок не осталось\n",
    "    # значит возвращаем True, иначе - False\n",
    "    return len(stack) == 0 \n",
    "\n",
    "# par_checker(sk)\n",
    "par_checker(\"(5+6)*(7+8)/(4+3)\")"
   ]
  },
  {
   "cell_type": "code",
   "execution_count": 9,
   "id": "0873ce5f-c59d-4d10-b845-c94474ac5652",
   "metadata": {},
   "outputs": [
    {
     "data": {
      "text/plain": [
       "True"
      ]
     },
     "execution_count": 9,
     "metadata": {},
     "output_type": "execute_result"
    }
   ],
   "source": [
    "pars = {\")\" : \"(\", \"]\" : \"[\"}\n",
    "\n",
    "def par_checker_mod(string):\n",
    "    stack = []\n",
    "    \n",
    "    for s in string:\n",
    "        if s in \"([\":\n",
    "            stack.append(s)\n",
    "        elif s in \")]\":\n",
    "            if len(stack) > 0 and stack[-1] == pars[s]:\n",
    "                stack.pop()\n",
    "            else:\n",
    "                return False\n",
    "    return len(stack) == 0 \n",
    "par_checker_mod(sk)"
   ]
  },
  {
   "cell_type": "code",
   "execution_count": 19,
   "id": "7c9e2c07-227e-48a8-97a3-e314acb8f609",
   "metadata": {},
   "outputs": [
    {
     "name": "stdin",
     "output_type": "stream",
     "text": [
      "Определите размер очереди: 5\n",
      "Введите команду: add\n"
     ]
    },
    {
     "name": "stdout",
     "output_type": "stream",
     "text": [
      "Задача №1 добавлена\n"
     ]
    },
    {
     "name": "stdin",
     "output_type": "stream",
     "text": [
      "Введите команду: add\n"
     ]
    },
    {
     "name": "stdout",
     "output_type": "stream",
     "text": [
      "Задача №2 добавлена\n"
     ]
    },
    {
     "name": "stdin",
     "output_type": "stream",
     "text": [
      "Введите команду: add\n"
     ]
    },
    {
     "name": "stdout",
     "output_type": "stream",
     "text": [
      "Задача №3 добавлена\n"
     ]
    },
    {
     "name": "stdin",
     "output_type": "stream",
     "text": [
      "Введите команду: add\n"
     ]
    },
    {
     "name": "stdout",
     "output_type": "stream",
     "text": [
      "Задача №4 добавлена\n"
     ]
    },
    {
     "name": "stdin",
     "output_type": "stream",
     "text": [
      "Введите команду: do\n"
     ]
    },
    {
     "name": "stdout",
     "output_type": "stream",
     "text": [
      "Задача №1 выполнена\n"
     ]
    },
    {
     "name": "stdin",
     "output_type": "stream",
     "text": [
      "Введите команду: do\n"
     ]
    },
    {
     "name": "stdout",
     "output_type": "stream",
     "text": [
      "Задача №2 выполнена\n"
     ]
    },
    {
     "name": "stdin",
     "output_type": "stream",
     "text": [
      "Введите команду: add\n"
     ]
    },
    {
     "name": "stdout",
     "output_type": "stream",
     "text": [
      "Задача №5 добавлена\n"
     ]
    },
    {
     "name": "stdin",
     "output_type": "stream",
     "text": [
      "Введите команду: add\n"
     ]
    },
    {
     "name": "stdout",
     "output_type": "stream",
     "text": [
      "Задача №6 добавлена\n"
     ]
    },
    {
     "name": "stdin",
     "output_type": "stream",
     "text": [
      "Введите команду: do\n"
     ]
    },
    {
     "name": "stdout",
     "output_type": "stream",
     "text": [
      "Задача №3 выполнена\n"
     ]
    },
    {
     "name": "stdin",
     "output_type": "stream",
     "text": [
      "Введите команду: add\n"
     ]
    },
    {
     "name": "stdout",
     "output_type": "stream",
     "text": [
      "Задача №7 добавлена\n"
     ]
    },
    {
     "name": "stdin",
     "output_type": "stream",
     "text": [
      "Введите команду: do\n"
     ]
    },
    {
     "name": "stdout",
     "output_type": "stream",
     "text": [
      "Задача №4 выполнена\n"
     ]
    },
    {
     "name": "stdin",
     "output_type": "stream",
     "text": [
      "Введите команду: do\n"
     ]
    },
    {
     "name": "stdout",
     "output_type": "stream",
     "text": [
      "Задача №5 выполнена\n"
     ]
    },
    {
     "name": "stdin",
     "output_type": "stream",
     "text": [
      "Введите команду: add\n"
     ]
    },
    {
     "name": "stdout",
     "output_type": "stream",
     "text": [
      "Задача №8 добавлена\n"
     ]
    },
    {
     "name": "stdin",
     "output_type": "stream",
     "text": [
      "Введите команду: add\n"
     ]
    },
    {
     "name": "stdout",
     "output_type": "stream",
     "text": [
      "Задача №9 добавлена\n"
     ]
    },
    {
     "name": "stdin",
     "output_type": "stream",
     "text": [
      "Введите команду: add\n"
     ]
    },
    {
     "name": "stdout",
     "output_type": "stream",
     "text": [
      "Задача №10 добавлена\n"
     ]
    },
    {
     "name": "stdin",
     "output_type": "stream",
     "text": [
      "Введите команду: do\n"
     ]
    },
    {
     "name": "stdout",
     "output_type": "stream",
     "text": [
      "Задача №6 выполнена\n"
     ]
    },
    {
     "name": "stdin",
     "output_type": "stream",
     "text": [
      "Введите команду: exit\n"
     ]
    },
    {
     "name": "stdout",
     "output_type": "stream",
     "text": [
      "Задача №7 выполнена\n",
      "Задача №8 выполнена\n",
      "Задача №9 выполнена\n",
      "Задача №10 выполнена\n",
      "Очередь пустая. Завершение работы\n"
     ]
    }
   ],
   "source": [
    "N_max = int(input(\"Определите размер очереди:\"))\n",
    "\n",
    "queue = [0 for _ in range(N_max)] # инициализируем список с нулевыми элементами\n",
    "order = 0 # будем хранить сквозной номер задачи\n",
    "head = 0 # указатель на начало очереди\n",
    "tail = 0 # указатель на элемент следующий за концом очереди\n",
    "    \n",
    "\n",
    "def is_empty(): # очередь пуста?\n",
    "    # да, если указатели совпадают и в них содержится ноль\n",
    "    return head == tail and queue[head] == 0\n",
    "\n",
    "def size(): # получаем размер очереди\n",
    "    if is_empty(): # если она пуста\n",
    "        return 0 # возвращаем ноль\n",
    "    elif head == tail: # иначе, если очередь не пуста, но указатели совпадают\n",
    "        return N_max # значит очередь заполнена\n",
    "    elif head > tail: # если хвост очереди сместился в начало списка\n",
    "        return N_max - head + tail\n",
    "    else: # или если хвост стоит правее начала\n",
    "        return tail - head\n",
    "    \n",
    "def add(): # добавляем задачу в очередь\n",
    "    global tail, order\n",
    "    order += 1 # увеличиваем порядковый номер задачи\n",
    "    queue[tail] = order # добавляем его в очередь\n",
    "    print(\"Задача №%d добавлена\" % (queue[tail]))\n",
    "    \n",
    "    # увеличиваем указатель на 1 по модулю максимального числа элементов\n",
    "    # для зацикливания очереди в списке\n",
    "    tail = (tail + 1) % N_max  \n",
    "    \n",
    "def top(): # выводим приоритетную задачу\n",
    "    print(\"Задача №%d в приоритете\" % (queue[head]))\n",
    "    \n",
    "def do(): # выполняем приоритетную задачу\n",
    "    global head\n",
    "    print(\"Задача №%d выполнена\" % (queue[head]))\n",
    "    queue[head] = 0 # после выполнения зануляем элемент по указателю\n",
    "    head = (head + 1) % N_max # и циклично перемещаем указатель\n",
    "    \n",
    "while True:\n",
    "    cmd = input(\"Введите команду:\")\n",
    "    if cmd == \"empty\": \n",
    "        if is_empty():\n",
    "            print(\"Очередь пустая\")\n",
    "        else:\n",
    "            print(\"В очереди есть задачи\")\n",
    "    elif cmd == \"size\":\n",
    "        print(\"Количество задач в очереди:\", size())\n",
    "    elif cmd == \"add\": \n",
    "        if size() != N_max:\n",
    "            add()\n",
    "        else:\n",
    "            print(\"Очередь переполнена\")\n",
    "    elif cmd == \"top\": \n",
    "        if is_empty():\n",
    "            print(\"Очередь пустая\")\n",
    "        else:\n",
    "            top()\n",
    "    elif cmd == \"do\": \n",
    "        if is_empty():\n",
    "            print(\"Очередь пустая\")\n",
    "        else:\n",
    "            do()\n",
    "    elif cmd == \"exit\": \n",
    "        for _ in range(size()):\n",
    "            do()\n",
    "        print(\"Очередь пустая. Завершение работы\")\n",
    "        break\n",
    "    else:\n",
    "        print(\"Введена неверная команда\")\n",
    "        \n"
   ]
  },
  {
   "cell_type": "markdown",
   "id": "7700cb24-e10d-42a8-af6f-6ee7c9dec4c8",
   "metadata": {},
   "source": [
    "7, 8, 9, 10"
   ]
  }
 ],
 "metadata": {
  "kernelspec": {
   "display_name": "Python 3",
   "language": "python",
   "name": "python3"
  },
  "language_info": {
   "codemirror_mode": {
    "name": "ipython",
    "version": 3
   },
   "file_extension": ".py",
   "mimetype": "text/x-python",
   "name": "python",
   "nbconvert_exporter": "python",
   "pygments_lexer": "ipython3",
   "version": "3.8.5"
  }
 },
 "nbformat": 4,
 "nbformat_minor": 5
}
